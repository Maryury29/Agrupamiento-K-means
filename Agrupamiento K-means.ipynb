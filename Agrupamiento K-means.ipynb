{
 "cells": [
  {
   "cell_type": "markdown",
   "id": "dd41ebac-0059-47f2-81a2-21072f656b57",
   "metadata": {},
   "source": [
    "Maryuri Pomeo\n",
    "Analisis de datos\n",
    "\n",
    "Agrupamiento en K-means\n",
    "Este dataset contiene información de clientes de un mall. Las variables incluyen género, ingreso, puntaje de gasto, etc. \n",
    "\n"
   ]
  },
  {
   "cell_type": "raw",
   "id": "ef775f7d-a468-4e3e-ba6b-c43840f6a027",
   "metadata": {},
   "source": [
    "1. Realizar un análisis exploratorio de los datos para identificar relaciones entre variables, valores atípicos, tendencias, etc"
   ]
  },
  {
   "cell_type": "code",
   "execution_count": 2,
   "id": "3d1bf706-b72a-4351-8053-1dde9304aa89",
   "metadata": {},
   "outputs": [],
   "source": [
    "#Cargar las librerias necesarias\n",
    "\n",
    "import pandas as pd # Manejo y análisis de estructuras de datos\n",
    "import numpy as np # Cálculo numérico y el análisis de datos\n",
    "import seaborn as sns # Creación gráficos estadísticos\n",
    "import matplotlib.pyplot as plt # Creación de gráficos en dos dimensiones\n",
    "import plotly.graph_objs as go # Creación de gráficos en tres dimensiones\n",
    "import plotly.express as px # Creación de gráficos en tres dimensiones\n",
    "\n",
    "# librerías de para implementar modelo Kmeans\n",
    "from sklearn.cluster import KMeans\n",
    "from sklearn.preprocessing import LabelEncoder\n",
    "\n",
    "# librerías de para evaluar el modelo\n",
    "from sklearn.metrics import silhouette_score, calinski_harabasz_score, davies_bouldin_score\n",
    "\n",
    "#Librería para evitar la advertencia de que el modelo de KMeans tiene una pérdida de memoria en Windows \n",
    "import warnings\n",
    "warnings.filterwarnings('ignore')"
   ]
  },
  {
   "cell_type": "code",
   "execution_count": 3,
   "id": "750fa648-d655-41c6-8ac1-5ddc6c97ed73",
   "metadata": {},
   "outputs": [],
   "source": [
    "# lectura de datos en Python y lo cargamos en la variable Datos\n",
    "\n",
    "Datos = pd.read_csv('C:/Mall_Customers.csv')"
   ]
  },
  {
   "cell_type": "code",
   "execution_count": 4,
   "id": "e9ca6db2-d785-4529-9ded-b39c57d475fa",
   "metadata": {},
   "outputs": [
    {
     "data": {
      "text/html": [
       "<div>\n",
       "<style scoped>\n",
       "    .dataframe tbody tr th:only-of-type {\n",
       "        vertical-align: middle;\n",
       "    }\n",
       "\n",
       "    .dataframe tbody tr th {\n",
       "        vertical-align: top;\n",
       "    }\n",
       "\n",
       "    .dataframe thead th {\n",
       "        text-align: right;\n",
       "    }\n",
       "</style>\n",
       "<table border=\"1\" class=\"dataframe\">\n",
       "  <thead>\n",
       "    <tr style=\"text-align: right;\">\n",
       "      <th></th>\n",
       "      <th>CustomerID</th>\n",
       "      <th>Gender</th>\n",
       "      <th>Age</th>\n",
       "      <th>Annual Income (k$)</th>\n",
       "      <th>Spending Score (1-100)</th>\n",
       "    </tr>\n",
       "  </thead>\n",
       "  <tbody>\n",
       "    <tr>\n",
       "      <th>0</th>\n",
       "      <td>1</td>\n",
       "      <td>Male</td>\n",
       "      <td>19</td>\n",
       "      <td>15</td>\n",
       "      <td>39</td>\n",
       "    </tr>\n",
       "    <tr>\n",
       "      <th>1</th>\n",
       "      <td>2</td>\n",
       "      <td>Male</td>\n",
       "      <td>21</td>\n",
       "      <td>15</td>\n",
       "      <td>81</td>\n",
       "    </tr>\n",
       "    <tr>\n",
       "      <th>2</th>\n",
       "      <td>3</td>\n",
       "      <td>Female</td>\n",
       "      <td>20</td>\n",
       "      <td>16</td>\n",
       "      <td>6</td>\n",
       "    </tr>\n",
       "    <tr>\n",
       "      <th>3</th>\n",
       "      <td>4</td>\n",
       "      <td>Female</td>\n",
       "      <td>23</td>\n",
       "      <td>16</td>\n",
       "      <td>77</td>\n",
       "    </tr>\n",
       "    <tr>\n",
       "      <th>4</th>\n",
       "      <td>5</td>\n",
       "      <td>Female</td>\n",
       "      <td>31</td>\n",
       "      <td>17</td>\n",
       "      <td>40</td>\n",
       "    </tr>\n",
       "    <tr>\n",
       "      <th>5</th>\n",
       "      <td>6</td>\n",
       "      <td>Female</td>\n",
       "      <td>22</td>\n",
       "      <td>17</td>\n",
       "      <td>76</td>\n",
       "    </tr>\n",
       "    <tr>\n",
       "      <th>6</th>\n",
       "      <td>7</td>\n",
       "      <td>Female</td>\n",
       "      <td>35</td>\n",
       "      <td>18</td>\n",
       "      <td>6</td>\n",
       "    </tr>\n",
       "    <tr>\n",
       "      <th>7</th>\n",
       "      <td>8</td>\n",
       "      <td>Female</td>\n",
       "      <td>23</td>\n",
       "      <td>18</td>\n",
       "      <td>94</td>\n",
       "    </tr>\n",
       "    <tr>\n",
       "      <th>8</th>\n",
       "      <td>9</td>\n",
       "      <td>Male</td>\n",
       "      <td>64</td>\n",
       "      <td>19</td>\n",
       "      <td>3</td>\n",
       "    </tr>\n",
       "    <tr>\n",
       "      <th>9</th>\n",
       "      <td>10</td>\n",
       "      <td>Female</td>\n",
       "      <td>30</td>\n",
       "      <td>19</td>\n",
       "      <td>72</td>\n",
       "    </tr>\n",
       "    <tr>\n",
       "      <th>10</th>\n",
       "      <td>11</td>\n",
       "      <td>Male</td>\n",
       "      <td>67</td>\n",
       "      <td>19</td>\n",
       "      <td>14</td>\n",
       "    </tr>\n",
       "    <tr>\n",
       "      <th>11</th>\n",
       "      <td>12</td>\n",
       "      <td>Female</td>\n",
       "      <td>35</td>\n",
       "      <td>19</td>\n",
       "      <td>99</td>\n",
       "    </tr>\n",
       "    <tr>\n",
       "      <th>12</th>\n",
       "      <td>13</td>\n",
       "      <td>Female</td>\n",
       "      <td>58</td>\n",
       "      <td>20</td>\n",
       "      <td>15</td>\n",
       "    </tr>\n",
       "    <tr>\n",
       "      <th>13</th>\n",
       "      <td>14</td>\n",
       "      <td>Female</td>\n",
       "      <td>24</td>\n",
       "      <td>20</td>\n",
       "      <td>77</td>\n",
       "    </tr>\n",
       "    <tr>\n",
       "      <th>14</th>\n",
       "      <td>15</td>\n",
       "      <td>Male</td>\n",
       "      <td>37</td>\n",
       "      <td>20</td>\n",
       "      <td>13</td>\n",
       "    </tr>\n",
       "    <tr>\n",
       "      <th>15</th>\n",
       "      <td>16</td>\n",
       "      <td>Male</td>\n",
       "      <td>22</td>\n",
       "      <td>20</td>\n",
       "      <td>79</td>\n",
       "    </tr>\n",
       "    <tr>\n",
       "      <th>16</th>\n",
       "      <td>17</td>\n",
       "      <td>Female</td>\n",
       "      <td>35</td>\n",
       "      <td>21</td>\n",
       "      <td>35</td>\n",
       "    </tr>\n",
       "    <tr>\n",
       "      <th>17</th>\n",
       "      <td>18</td>\n",
       "      <td>Male</td>\n",
       "      <td>20</td>\n",
       "      <td>21</td>\n",
       "      <td>66</td>\n",
       "    </tr>\n",
       "    <tr>\n",
       "      <th>18</th>\n",
       "      <td>19</td>\n",
       "      <td>Male</td>\n",
       "      <td>52</td>\n",
       "      <td>23</td>\n",
       "      <td>29</td>\n",
       "    </tr>\n",
       "    <tr>\n",
       "      <th>19</th>\n",
       "      <td>20</td>\n",
       "      <td>Female</td>\n",
       "      <td>35</td>\n",
       "      <td>23</td>\n",
       "      <td>98</td>\n",
       "    </tr>\n",
       "    <tr>\n",
       "      <th>20</th>\n",
       "      <td>21</td>\n",
       "      <td>Male</td>\n",
       "      <td>35</td>\n",
       "      <td>24</td>\n",
       "      <td>35</td>\n",
       "    </tr>\n",
       "    <tr>\n",
       "      <th>21</th>\n",
       "      <td>22</td>\n",
       "      <td>Male</td>\n",
       "      <td>25</td>\n",
       "      <td>24</td>\n",
       "      <td>73</td>\n",
       "    </tr>\n",
       "    <tr>\n",
       "      <th>22</th>\n",
       "      <td>23</td>\n",
       "      <td>Female</td>\n",
       "      <td>46</td>\n",
       "      <td>25</td>\n",
       "      <td>5</td>\n",
       "    </tr>\n",
       "    <tr>\n",
       "      <th>23</th>\n",
       "      <td>24</td>\n",
       "      <td>Male</td>\n",
       "      <td>31</td>\n",
       "      <td>25</td>\n",
       "      <td>73</td>\n",
       "    </tr>\n",
       "    <tr>\n",
       "      <th>24</th>\n",
       "      <td>25</td>\n",
       "      <td>Female</td>\n",
       "      <td>54</td>\n",
       "      <td>28</td>\n",
       "      <td>14</td>\n",
       "    </tr>\n",
       "    <tr>\n",
       "      <th>25</th>\n",
       "      <td>26</td>\n",
       "      <td>Male</td>\n",
       "      <td>29</td>\n",
       "      <td>28</td>\n",
       "      <td>82</td>\n",
       "    </tr>\n",
       "    <tr>\n",
       "      <th>26</th>\n",
       "      <td>27</td>\n",
       "      <td>Female</td>\n",
       "      <td>45</td>\n",
       "      <td>28</td>\n",
       "      <td>32</td>\n",
       "    </tr>\n",
       "    <tr>\n",
       "      <th>27</th>\n",
       "      <td>28</td>\n",
       "      <td>Male</td>\n",
       "      <td>35</td>\n",
       "      <td>28</td>\n",
       "      <td>61</td>\n",
       "    </tr>\n",
       "    <tr>\n",
       "      <th>28</th>\n",
       "      <td>29</td>\n",
       "      <td>Female</td>\n",
       "      <td>40</td>\n",
       "      <td>29</td>\n",
       "      <td>31</td>\n",
       "    </tr>\n",
       "    <tr>\n",
       "      <th>29</th>\n",
       "      <td>30</td>\n",
       "      <td>Female</td>\n",
       "      <td>23</td>\n",
       "      <td>29</td>\n",
       "      <td>87</td>\n",
       "    </tr>\n",
       "    <tr>\n",
       "      <th>30</th>\n",
       "      <td>31</td>\n",
       "      <td>Male</td>\n",
       "      <td>60</td>\n",
       "      <td>30</td>\n",
       "      <td>4</td>\n",
       "    </tr>\n",
       "    <tr>\n",
       "      <th>31</th>\n",
       "      <td>32</td>\n",
       "      <td>Female</td>\n",
       "      <td>21</td>\n",
       "      <td>30</td>\n",
       "      <td>73</td>\n",
       "    </tr>\n",
       "    <tr>\n",
       "      <th>32</th>\n",
       "      <td>33</td>\n",
       "      <td>Male</td>\n",
       "      <td>53</td>\n",
       "      <td>33</td>\n",
       "      <td>4</td>\n",
       "    </tr>\n",
       "    <tr>\n",
       "      <th>33</th>\n",
       "      <td>34</td>\n",
       "      <td>Male</td>\n",
       "      <td>18</td>\n",
       "      <td>33</td>\n",
       "      <td>92</td>\n",
       "    </tr>\n",
       "    <tr>\n",
       "      <th>34</th>\n",
       "      <td>35</td>\n",
       "      <td>Female</td>\n",
       "      <td>49</td>\n",
       "      <td>33</td>\n",
       "      <td>14</td>\n",
       "    </tr>\n",
       "    <tr>\n",
       "      <th>35</th>\n",
       "      <td>36</td>\n",
       "      <td>Female</td>\n",
       "      <td>21</td>\n",
       "      <td>33</td>\n",
       "      <td>81</td>\n",
       "    </tr>\n",
       "    <tr>\n",
       "      <th>36</th>\n",
       "      <td>37</td>\n",
       "      <td>Female</td>\n",
       "      <td>42</td>\n",
       "      <td>34</td>\n",
       "      <td>17</td>\n",
       "    </tr>\n",
       "    <tr>\n",
       "      <th>37</th>\n",
       "      <td>38</td>\n",
       "      <td>Female</td>\n",
       "      <td>30</td>\n",
       "      <td>34</td>\n",
       "      <td>73</td>\n",
       "    </tr>\n",
       "    <tr>\n",
       "      <th>38</th>\n",
       "      <td>39</td>\n",
       "      <td>Female</td>\n",
       "      <td>36</td>\n",
       "      <td>37</td>\n",
       "      <td>26</td>\n",
       "    </tr>\n",
       "    <tr>\n",
       "      <th>39</th>\n",
       "      <td>40</td>\n",
       "      <td>Female</td>\n",
       "      <td>20</td>\n",
       "      <td>37</td>\n",
       "      <td>75</td>\n",
       "    </tr>\n",
       "    <tr>\n",
       "      <th>40</th>\n",
       "      <td>41</td>\n",
       "      <td>Female</td>\n",
       "      <td>65</td>\n",
       "      <td>38</td>\n",
       "      <td>35</td>\n",
       "    </tr>\n",
       "    <tr>\n",
       "      <th>41</th>\n",
       "      <td>42</td>\n",
       "      <td>Male</td>\n",
       "      <td>24</td>\n",
       "      <td>38</td>\n",
       "      <td>92</td>\n",
       "    </tr>\n",
       "    <tr>\n",
       "      <th>42</th>\n",
       "      <td>43</td>\n",
       "      <td>Male</td>\n",
       "      <td>48</td>\n",
       "      <td>39</td>\n",
       "      <td>36</td>\n",
       "    </tr>\n",
       "    <tr>\n",
       "      <th>43</th>\n",
       "      <td>44</td>\n",
       "      <td>Female</td>\n",
       "      <td>31</td>\n",
       "      <td>39</td>\n",
       "      <td>61</td>\n",
       "    </tr>\n",
       "    <tr>\n",
       "      <th>44</th>\n",
       "      <td>45</td>\n",
       "      <td>Female</td>\n",
       "      <td>49</td>\n",
       "      <td>39</td>\n",
       "      <td>28</td>\n",
       "    </tr>\n",
       "    <tr>\n",
       "      <th>45</th>\n",
       "      <td>46</td>\n",
       "      <td>Female</td>\n",
       "      <td>24</td>\n",
       "      <td>39</td>\n",
       "      <td>65</td>\n",
       "    </tr>\n",
       "    <tr>\n",
       "      <th>46</th>\n",
       "      <td>47</td>\n",
       "      <td>Female</td>\n",
       "      <td>50</td>\n",
       "      <td>40</td>\n",
       "      <td>55</td>\n",
       "    </tr>\n",
       "    <tr>\n",
       "      <th>47</th>\n",
       "      <td>48</td>\n",
       "      <td>Female</td>\n",
       "      <td>27</td>\n",
       "      <td>40</td>\n",
       "      <td>47</td>\n",
       "    </tr>\n",
       "    <tr>\n",
       "      <th>48</th>\n",
       "      <td>49</td>\n",
       "      <td>Female</td>\n",
       "      <td>29</td>\n",
       "      <td>40</td>\n",
       "      <td>42</td>\n",
       "    </tr>\n",
       "    <tr>\n",
       "      <th>49</th>\n",
       "      <td>50</td>\n",
       "      <td>Female</td>\n",
       "      <td>31</td>\n",
       "      <td>40</td>\n",
       "      <td>42</td>\n",
       "    </tr>\n",
       "  </tbody>\n",
       "</table>\n",
       "</div>"
      ],
      "text/plain": [
       "    CustomerID  Gender  Age  Annual Income (k$)  Spending Score (1-100)\n",
       "0            1    Male   19                  15                      39\n",
       "1            2    Male   21                  15                      81\n",
       "2            3  Female   20                  16                       6\n",
       "3            4  Female   23                  16                      77\n",
       "4            5  Female   31                  17                      40\n",
       "5            6  Female   22                  17                      76\n",
       "6            7  Female   35                  18                       6\n",
       "7            8  Female   23                  18                      94\n",
       "8            9    Male   64                  19                       3\n",
       "9           10  Female   30                  19                      72\n",
       "10          11    Male   67                  19                      14\n",
       "11          12  Female   35                  19                      99\n",
       "12          13  Female   58                  20                      15\n",
       "13          14  Female   24                  20                      77\n",
       "14          15    Male   37                  20                      13\n",
       "15          16    Male   22                  20                      79\n",
       "16          17  Female   35                  21                      35\n",
       "17          18    Male   20                  21                      66\n",
       "18          19    Male   52                  23                      29\n",
       "19          20  Female   35                  23                      98\n",
       "20          21    Male   35                  24                      35\n",
       "21          22    Male   25                  24                      73\n",
       "22          23  Female   46                  25                       5\n",
       "23          24    Male   31                  25                      73\n",
       "24          25  Female   54                  28                      14\n",
       "25          26    Male   29                  28                      82\n",
       "26          27  Female   45                  28                      32\n",
       "27          28    Male   35                  28                      61\n",
       "28          29  Female   40                  29                      31\n",
       "29          30  Female   23                  29                      87\n",
       "30          31    Male   60                  30                       4\n",
       "31          32  Female   21                  30                      73\n",
       "32          33    Male   53                  33                       4\n",
       "33          34    Male   18                  33                      92\n",
       "34          35  Female   49                  33                      14\n",
       "35          36  Female   21                  33                      81\n",
       "36          37  Female   42                  34                      17\n",
       "37          38  Female   30                  34                      73\n",
       "38          39  Female   36                  37                      26\n",
       "39          40  Female   20                  37                      75\n",
       "40          41  Female   65                  38                      35\n",
       "41          42    Male   24                  38                      92\n",
       "42          43    Male   48                  39                      36\n",
       "43          44  Female   31                  39                      61\n",
       "44          45  Female   49                  39                      28\n",
       "45          46  Female   24                  39                      65\n",
       "46          47  Female   50                  40                      55\n",
       "47          48  Female   27                  40                      47\n",
       "48          49  Female   29                  40                      42\n",
       "49          50  Female   31                  40                      42"
      ]
     },
     "execution_count": 4,
     "metadata": {},
     "output_type": "execute_result"
    }
   ],
   "source": [
    "# Realizamos lectura de los Datos para el análisis exploratorio\n",
    "\n",
    "Datos.head(50)"
   ]
  },
  {
   "cell_type": "code",
   "execution_count": 5,
   "id": "57f0f492-c1c0-4cfb-b6fc-795899ca4d08",
   "metadata": {},
   "outputs": [
    {
     "data": {
      "text/html": [
       "<div>\n",
       "<style scoped>\n",
       "    .dataframe tbody tr th:only-of-type {\n",
       "        vertical-align: middle;\n",
       "    }\n",
       "\n",
       "    .dataframe tbody tr th {\n",
       "        vertical-align: top;\n",
       "    }\n",
       "\n",
       "    .dataframe thead th {\n",
       "        text-align: right;\n",
       "    }\n",
       "</style>\n",
       "<table border=\"1\" class=\"dataframe\">\n",
       "  <thead>\n",
       "    <tr style=\"text-align: right;\">\n",
       "      <th></th>\n",
       "      <th>CustomerID</th>\n",
       "      <th>Age</th>\n",
       "      <th>Annual Income (k$)</th>\n",
       "      <th>Spending Score (1-100)</th>\n",
       "    </tr>\n",
       "  </thead>\n",
       "  <tbody>\n",
       "    <tr>\n",
       "      <th>count</th>\n",
       "      <td>200.000000</td>\n",
       "      <td>200.000000</td>\n",
       "      <td>200.000000</td>\n",
       "      <td>200.000000</td>\n",
       "    </tr>\n",
       "    <tr>\n",
       "      <th>mean</th>\n",
       "      <td>100.500000</td>\n",
       "      <td>38.850000</td>\n",
       "      <td>60.560000</td>\n",
       "      <td>50.200000</td>\n",
       "    </tr>\n",
       "    <tr>\n",
       "      <th>std</th>\n",
       "      <td>57.879185</td>\n",
       "      <td>13.969007</td>\n",
       "      <td>26.264721</td>\n",
       "      <td>25.823522</td>\n",
       "    </tr>\n",
       "    <tr>\n",
       "      <th>min</th>\n",
       "      <td>1.000000</td>\n",
       "      <td>18.000000</td>\n",
       "      <td>15.000000</td>\n",
       "      <td>1.000000</td>\n",
       "    </tr>\n",
       "    <tr>\n",
       "      <th>25%</th>\n",
       "      <td>50.750000</td>\n",
       "      <td>28.750000</td>\n",
       "      <td>41.500000</td>\n",
       "      <td>34.750000</td>\n",
       "    </tr>\n",
       "    <tr>\n",
       "      <th>50%</th>\n",
       "      <td>100.500000</td>\n",
       "      <td>36.000000</td>\n",
       "      <td>61.500000</td>\n",
       "      <td>50.000000</td>\n",
       "    </tr>\n",
       "    <tr>\n",
       "      <th>75%</th>\n",
       "      <td>150.250000</td>\n",
       "      <td>49.000000</td>\n",
       "      <td>78.000000</td>\n",
       "      <td>73.000000</td>\n",
       "    </tr>\n",
       "    <tr>\n",
       "      <th>max</th>\n",
       "      <td>200.000000</td>\n",
       "      <td>70.000000</td>\n",
       "      <td>137.000000</td>\n",
       "      <td>99.000000</td>\n",
       "    </tr>\n",
       "  </tbody>\n",
       "</table>\n",
       "</div>"
      ],
      "text/plain": [
       "       CustomerID         Age  Annual Income (k$)  Spending Score (1-100)\n",
       "count  200.000000  200.000000          200.000000              200.000000\n",
       "mean   100.500000   38.850000           60.560000               50.200000\n",
       "std     57.879185   13.969007           26.264721               25.823522\n",
       "min      1.000000   18.000000           15.000000                1.000000\n",
       "25%     50.750000   28.750000           41.500000               34.750000\n",
       "50%    100.500000   36.000000           61.500000               50.000000\n",
       "75%    150.250000   49.000000           78.000000               73.000000\n",
       "max    200.000000   70.000000          137.000000               99.000000"
      ]
     },
     "execution_count": 5,
     "metadata": {},
     "output_type": "execute_result"
    }
   ],
   "source": [
    "# Descripción de los datos\n",
    "Datos.describe()"
   ]
  },
  {
   "cell_type": "code",
   "execution_count": 6,
   "id": "5c8494d4-d558-4e64-b7fe-89429098fde9",
   "metadata": {},
   "outputs": [
    {
     "data": {
      "text/plain": [
       "Text(0.5, 1.0, 'Identificación de Datos Faltantes y Atípicos')"
      ]
     },
     "execution_count": 6,
     "metadata": {},
     "output_type": "execute_result"
    },
    {
     "data": {
      "image/png": "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",
      "text/plain": [
       "<Figure size 600x300 with 1 Axes>"
      ]
     },
     "metadata": {},
     "output_type": "display_data"
    }
   ],
   "source": [
    "#Identificación de Datos Faltantes y Atípicos\n",
    "\n",
    "plt.figure(figsize=(6, 3))\n",
    "sns.boxplot(x=Datos['CustomerID'])\n",
    "plt.title('Identificación de Datos Faltantes y Atípicos', fontsize=10 )"
   ]
  },
  {
   "cell_type": "code",
   "execution_count": 7,
   "id": "fa9cdaf4-2e18-43cc-9836-276069076ee8",
   "metadata": {},
   "outputs": [
    {
     "data": {
      "text/plain": [
       "Text(0.5, 1.0, 'Identificación de Datos Faltantes y Atípicos')"
      ]
     },
     "execution_count": 7,
     "metadata": {},
     "output_type": "execute_result"
    },
    {
     "data": {
      "image/png": "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",
      "text/plain": [
       "<Figure size 600x300 with 1 Axes>"
      ]
     },
     "metadata": {},
     "output_type": "display_data"
    }
   ],
   "source": [
    "#Identificación de Datos Faltantes y Atípicos\n",
    "\n",
    "plt.figure(figsize=(6, 3))\n",
    "sns.boxplot(x=Datos['Age'])\n",
    "plt.title('Identificación de Datos Faltantes y Atípicos', fontsize=10 )"
   ]
  },
  {
   "cell_type": "code",
   "execution_count": 8,
   "id": "798be1aa-694a-403d-b0ab-2752c049cd39",
   "metadata": {},
   "outputs": [
    {
     "data": {
      "text/plain": [
       "Text(0.5, 1.0, 'Identificación de Datos Faltantes y Atípicos')"
      ]
     },
     "execution_count": 8,
     "metadata": {},
     "output_type": "execute_result"
    },
    {
     "data": {
      "image/png": "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",
      "text/plain": [
       "<Figure size 600x300 with 1 Axes>"
      ]
     },
     "metadata": {},
     "output_type": "display_data"
    }
   ],
   "source": [
    "#Identificación de Datos Faltantes y Atípicos\n",
    "\n",
    "plt.figure(figsize=(6, 3))\n",
    "sns.boxplot(x=Datos['Annual Income (k$)'])\n",
    "plt.title('Identificación de Datos Faltantes y Atípicos', fontsize=10 )"
   ]
  },
  {
   "cell_type": "code",
   "execution_count": 9,
   "id": "f1b59687-18c5-4e14-8b6e-83b84e0b3fd3",
   "metadata": {},
   "outputs": [
    {
     "data": {
      "text/plain": [
       "Text(0.5, 1.0, 'Identificación de Datos Faltantes y Atípicos')"
      ]
     },
     "execution_count": 9,
     "metadata": {},
     "output_type": "execute_result"
    },
    {
     "data": {
      "image/png": "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",
      "text/plain": [
       "<Figure size 600x300 with 1 Axes>"
      ]
     },
     "metadata": {},
     "output_type": "display_data"
    }
   ],
   "source": [
    "#Identificación de Datos Faltantes y Atípicos\n",
    "\n",
    "plt.figure(figsize=(6, 3))\n",
    "sns.boxplot(x=Datos['Spending Score (1-100)'])\n",
    "plt.title('Identificación de Datos Faltantes y Atípicos', fontsize=10 )"
   ]
  },
  {
   "cell_type": "markdown",
   "id": "3c775617-d50e-4748-b35e-0b266b334147",
   "metadata": {},
   "source": [
    "2. Preprocesar los datos limpiándolos, tratando valores faltantes y transformándolos según sea necesario. "
   ]
  },
  {
   "cell_type": "code",
   "execution_count": 11,
   "id": "b1182f8f-b1b8-4c1e-9d0f-7cdfde7529bb",
   "metadata": {},
   "outputs": [
    {
     "name": "stdout",
     "output_type": "stream",
     "text": [
      "Cantidad de Registros con cero en Gender:  0\n",
      "Cantidad de Registros con cero en Age:  0\n",
      "Cantidad de Registros con cero en Annual Income (k$):  0\n",
      "Cantidad de Registros con cero en Spending Score (1-100):  0\n"
     ]
    }
   ],
   "source": [
    "#Revisión de datos faltantes\n",
    "\n",
    "print(\"Cantidad de Registros con cero en Gender: \",Datos['Gender'].isin([0]).sum())\n",
    "print(\"Cantidad de Registros con cero en Age: \",Datos['Age'].isin([0]).sum())\n",
    "print(\"Cantidad de Registros con cero en Annual Income (k$): \",Datos['Annual Income (k$)'].isin([0]).sum())\n",
    "print(\"Cantidad de Registros con cero en Spending Score (1-100): \",Datos['Spending Score (1-100)'].isin([0]).sum())\n"
   ]
  },
  {
   "cell_type": "code",
   "execution_count": 12,
   "id": "d76b97f4-30c4-4e7d-90d6-f85ba3406c99",
   "metadata": {},
   "outputs": [],
   "source": [
    "# Reemplazar todos los ceros con el valor medio (promedio) de la columna.\n",
    "\n",
    "Datos['Annual Income (k$)']=Datos['Annual Income (k$)'].replace(0,Datos['Annual Income (k$)'].mean())"
   ]
  },
  {
   "cell_type": "code",
   "execution_count": 13,
   "id": "1bf50595-b6c5-4502-b566-2af4d213c75b",
   "metadata": {},
   "outputs": [
    {
     "name": "stdout",
     "output_type": "stream",
     "text": [
      "El total de datos atípicos es 2\n"
     ]
    }
   ],
   "source": [
    "#Conteo de Datos Atípicos\n",
    "\n",
    "nivel_minimo=16\n",
    "nivel_maximo=137\n",
    "Total_Atipicos=((Datos['Annual Income (k$)']<nivel_minimo)|(Datos['Annual Income (k$)']>nivel_maximo)).sum()\n",
    "print(\"El total de datos atípicos es {}\".format(Total_Atipicos))"
   ]
  },
  {
   "cell_type": "code",
   "execution_count": 14,
   "id": "af06f533-5b21-424e-9051-9eb5464a96aa",
   "metadata": {},
   "outputs": [],
   "source": [
    "# Filtra Datos Atípicos\n",
    "\n",
    "Datos=Datos[(Datos['Annual Income (k$)']<nivel_maximo)&(Datos['Annual Income (k$)']>nivel_minimo)]"
   ]
  },
  {
   "cell_type": "code",
   "execution_count": 15,
   "id": "dfcbcb1f-bff5-4808-8809-b8e5bb7703b6",
   "metadata": {},
   "outputs": [
    {
     "name": "stdout",
     "output_type": "stream",
     "text": [
      "<class 'pandas.core.frame.DataFrame'>\n",
      "Index: 194 entries, 4 to 197\n",
      "Data columns (total 5 columns):\n",
      " #   Column                  Non-Null Count  Dtype \n",
      "---  ------                  --------------  ----- \n",
      " 0   CustomerID              194 non-null    int64 \n",
      " 1   Gender                  194 non-null    object\n",
      " 2   Age                     194 non-null    int64 \n",
      " 3   Annual Income (k$)      194 non-null    int64 \n",
      " 4   Spending Score (1-100)  194 non-null    int64 \n",
      "dtypes: int64(4), object(1)\n",
      "memory usage: 9.1+ KB\n"
     ]
    }
   ],
   "source": [
    "#Revisión del tipo de datos y datos faltantes\n",
    "\n",
    "Datos.info()"
   ]
  },
  {
   "attachments": {},
   "cell_type": "markdown",
   "id": "07865d51-d0b6-43b6-bdea-8ed743bd707a",
   "metadata": {},
   "source": [
    "3. Seleccionar las características más relevantes para entrenar el modelo utilizando selección de características.\n",
    "\n",
    "Características de interes para el agrupamiento:\n",
    "\r\n",
    "Age\n",
    "\r",
    "Annual Income (k$)\n",
    "\n",
    "Spending Score (1-100)\n",
    "Edad"
   ]
  },
  {
   "cell_type": "code",
   "execution_count": 17,
   "id": "ff9e9ac6-c9e6-47fc-a5ef-4c316b1a27b3",
   "metadata": {},
   "outputs": [],
   "source": [
    "# Filtrar columnas del modelo \n",
    "\n",
    "Datos = Datos[[\"Age\",\"Annual Income (k$)\",\"Spending Score (1-100)\"]]"
   ]
  },
  {
   "cell_type": "code",
   "execution_count": 18,
   "id": "979fb23c-32b7-4b28-9a26-8908584bf996",
   "metadata": {},
   "outputs": [
    {
     "data": {
      "text/html": [
       "<div>\n",
       "<style scoped>\n",
       "    .dataframe tbody tr th:only-of-type {\n",
       "        vertical-align: middle;\n",
       "    }\n",
       "\n",
       "    .dataframe tbody tr th {\n",
       "        vertical-align: top;\n",
       "    }\n",
       "\n",
       "    .dataframe thead th {\n",
       "        text-align: right;\n",
       "    }\n",
       "</style>\n",
       "<table border=\"1\" class=\"dataframe\">\n",
       "  <thead>\n",
       "    <tr style=\"text-align: right;\">\n",
       "      <th></th>\n",
       "      <th>Age</th>\n",
       "      <th>Annual Income (k$)</th>\n",
       "      <th>Spending Score (1-100)</th>\n",
       "    </tr>\n",
       "  </thead>\n",
       "  <tbody>\n",
       "    <tr>\n",
       "      <th>4</th>\n",
       "      <td>31</td>\n",
       "      <td>17</td>\n",
       "      <td>40</td>\n",
       "    </tr>\n",
       "    <tr>\n",
       "      <th>5</th>\n",
       "      <td>22</td>\n",
       "      <td>17</td>\n",
       "      <td>76</td>\n",
       "    </tr>\n",
       "    <tr>\n",
       "      <th>6</th>\n",
       "      <td>35</td>\n",
       "      <td>18</td>\n",
       "      <td>6</td>\n",
       "    </tr>\n",
       "    <tr>\n",
       "      <th>7</th>\n",
       "      <td>23</td>\n",
       "      <td>18</td>\n",
       "      <td>94</td>\n",
       "    </tr>\n",
       "    <tr>\n",
       "      <th>8</th>\n",
       "      <td>64</td>\n",
       "      <td>19</td>\n",
       "      <td>3</td>\n",
       "    </tr>\n",
       "    <tr>\n",
       "      <th>9</th>\n",
       "      <td>30</td>\n",
       "      <td>19</td>\n",
       "      <td>72</td>\n",
       "    </tr>\n",
       "    <tr>\n",
       "      <th>10</th>\n",
       "      <td>67</td>\n",
       "      <td>19</td>\n",
       "      <td>14</td>\n",
       "    </tr>\n",
       "    <tr>\n",
       "      <th>11</th>\n",
       "      <td>35</td>\n",
       "      <td>19</td>\n",
       "      <td>99</td>\n",
       "    </tr>\n",
       "    <tr>\n",
       "      <th>12</th>\n",
       "      <td>58</td>\n",
       "      <td>20</td>\n",
       "      <td>15</td>\n",
       "    </tr>\n",
       "    <tr>\n",
       "      <th>13</th>\n",
       "      <td>24</td>\n",
       "      <td>20</td>\n",
       "      <td>77</td>\n",
       "    </tr>\n",
       "    <tr>\n",
       "      <th>14</th>\n",
       "      <td>37</td>\n",
       "      <td>20</td>\n",
       "      <td>13</td>\n",
       "    </tr>\n",
       "    <tr>\n",
       "      <th>15</th>\n",
       "      <td>22</td>\n",
       "      <td>20</td>\n",
       "      <td>79</td>\n",
       "    </tr>\n",
       "    <tr>\n",
       "      <th>16</th>\n",
       "      <td>35</td>\n",
       "      <td>21</td>\n",
       "      <td>35</td>\n",
       "    </tr>\n",
       "    <tr>\n",
       "      <th>17</th>\n",
       "      <td>20</td>\n",
       "      <td>21</td>\n",
       "      <td>66</td>\n",
       "    </tr>\n",
       "    <tr>\n",
       "      <th>18</th>\n",
       "      <td>52</td>\n",
       "      <td>23</td>\n",
       "      <td>29</td>\n",
       "    </tr>\n",
       "    <tr>\n",
       "      <th>19</th>\n",
       "      <td>35</td>\n",
       "      <td>23</td>\n",
       "      <td>98</td>\n",
       "    </tr>\n",
       "    <tr>\n",
       "      <th>20</th>\n",
       "      <td>35</td>\n",
       "      <td>24</td>\n",
       "      <td>35</td>\n",
       "    </tr>\n",
       "    <tr>\n",
       "      <th>21</th>\n",
       "      <td>25</td>\n",
       "      <td>24</td>\n",
       "      <td>73</td>\n",
       "    </tr>\n",
       "    <tr>\n",
       "      <th>22</th>\n",
       "      <td>46</td>\n",
       "      <td>25</td>\n",
       "      <td>5</td>\n",
       "    </tr>\n",
       "    <tr>\n",
       "      <th>23</th>\n",
       "      <td>31</td>\n",
       "      <td>25</td>\n",
       "      <td>73</td>\n",
       "    </tr>\n",
       "  </tbody>\n",
       "</table>\n",
       "</div>"
      ],
      "text/plain": [
       "    Age  Annual Income (k$)  Spending Score (1-100)\n",
       "4    31                  17                      40\n",
       "5    22                  17                      76\n",
       "6    35                  18                       6\n",
       "7    23                  18                      94\n",
       "8    64                  19                       3\n",
       "9    30                  19                      72\n",
       "10   67                  19                      14\n",
       "11   35                  19                      99\n",
       "12   58                  20                      15\n",
       "13   24                  20                      77\n",
       "14   37                  20                      13\n",
       "15   22                  20                      79\n",
       "16   35                  21                      35\n",
       "17   20                  21                      66\n",
       "18   52                  23                      29\n",
       "19   35                  23                      98\n",
       "20   35                  24                      35\n",
       "21   25                  24                      73\n",
       "22   46                  25                       5\n",
       "23   31                  25                      73"
      ]
     },
     "execution_count": 18,
     "metadata": {},
     "output_type": "execute_result"
    }
   ],
   "source": [
    "# Revisión de los datos de las variables objetivo\n",
    "\n",
    "Datos.head(20)"
   ]
  },
  {
   "cell_type": "markdown",
   "id": "5ee9a850-97d5-4be7-a3ba-7ce50ca5a16f",
   "metadata": {},
   "source": [
    "4. Entrenar el modelo configurando los diferentes hiperparámetros."
   ]
  },
  {
   "cell_type": "code",
   "execution_count": 23,
   "id": "7be28b94-3ad5-4608-ab49-30c6816ae91a",
   "metadata": {},
   "outputs": [
    {
     "data": {
      "image/png": "iVBORw0KGgoAAAANSUhEUgAAAmIAAAHFCAYAAABRp5UtAAAAOXRFWHRTb2Z0d2FyZQBNYXRwbG90bGliIHZlcnNpb24zLjguNCwgaHR0cHM6Ly9tYXRwbG90bGliLm9yZy8fJSN1AAAACXBIWXMAAA9hAAAPYQGoP6dpAABfVklEQVR4nO3deVhUZf8G8HsYmBl2WZRFEXBF3MUNzdyBUjM1l0rTbJGSXHtzqX5uuZXZYrmV2uKb+hpqWqmg5U6uqCC44wqIKAKCbDPP7w9lYmQRcODMcn+ua663OfOdM98zvTp3z3nOc2RCCAEiIiIiqnYWUjdAREREZK4YxIiIiIgkwiBGREREJBEGMSIiIiKJMIgRERERSYRBjIiIiEgiDGJEREREEmEQIyIiIpIIgxgRmZzXXnsNDRs2xO3bt6VuhYioTAxiRCSZ06dP44033kD9+vVhbW0Na2trNGzYEGPGjMGxY8cqtc8VK1Zg586d2LlzJ2rWrFns9Q0bNqBp06awtraGTCbDyZMnMXPmTMhksqc9HL3Ys2cPZDIZ9uzZo9f93rp1C1OnTkXz5s1hZ2cHlUqFhg0bYvz48bhw4YLePseQvksiY2ApdQNEZJ5WrFiBsLAwNG7cGOPHj0fTpk0hk8kQHx+PdevWoV27drh48SLq169f7n1GR0fjo48+wo4dO1CvXr1ir9++fRsjRoxASEgIli5dCqVSiUaNGuHNN99ESEiIPg/PoBw5cgR9+/aFEAJhYWEIDAyEQqHAuXPnsHbtWrRv3x5paWlSt0lklhjEiKjaHTx4EO+++y769OmDX3/9FQqFQvtajx49MHbsWGzcuBHW1tZl7ic7Oxs2Njba561bty7zdOT58+eRn5+P4cOHo2vXrtrtNjY2qFOnzlMckeHKyMhA//79oVKpcOjQIZ3j7NatG8aMGYNff/1Vwg6JzBtPTRJRtZs3bx7kcjlWrFihE8KKGjx4MDw9PbXPR40aBTs7O8TExCAoKAj29vbo2bMnACAyMhL9+/dHnTp1oFKp0KBBA4wZMwapqak673/mmWcAAEOHDoVMJkO3bt0AlH467ZdffkFgYCDs7OxgZ2eHVq1aYdWqVdrXy/O5ZTl79ixCQkJgY2MDV1dXhIaGIjMzs8TaXbt2oWfPnnBwcICNjQ06d+6M3bt3P/EzvvvuOyQnJ+PTTz8tNWy+9NJLOs+3bt2KwMBA2NjYwN7eHr1790ZUVFSx9/3xxx9o1aoVlEolfH19sWjRohL3n5OTg2nTpsHX1xcKhQK1a9fG2LFjce/evSf2T2TqOCJGRNVKrVbj77//Rtu2beHh4VGh9+bl5eGFF17AmDFjMHXqVBQUFAB4ONLVrl07vP7663BycsLVq1fx+eef45lnnkFMTAysrKzw8ccfo3379hg7dizmzZuH7t27w8HBodTP+r//+z/MmTMHAwcOxOTJk+Ho6IjY2FhcvXpVW3Pp0iUEBgbizTffhKOjI65cuYLFixfrfG5pbt26ha5du8LKygpLly6Fm5sb/vvf/yIsLKxY7dq1a/Haa6+hf//++PHHH2FlZYUVK1YgODgYO3fu1AbSkkREREAul6Nfv37l+Yrxyy+/4NVXX0VQUBDWrVuH3NxcfPrpp+jWrRt2796tDbO7d+9G//79ERgYiPXr10OtVuPTTz/FrVu3dPYnhMCLL76I3bt3Y9q0aejSpQtOnz6NGTNmICoqClFRUVAqleXqjcgkCSKiapScnCwAiGHDhhV7raCgQOTn52sfGo1G+9rIkSMFALF69epyfc61a9cEAPHbb79pt/39998CgNi4caNO7YwZM0TRvw4vX74s5HK5ePXVV8t9XBqNRuTn54urV68W+9ySTJkyRchkMnHy5Emd7b179xYAxN9//y2EECIrK0s4OzuLfv366dSp1WrRsmVL0b59+zI/x8/PT7i7u5frGNRqtfD09BTNmzcXarVauz0zM1PUqlVLdOrUSbutQ4cOwtPTUzx48EC7LSMjQzg7O+t8lzt27BAAxKeffqrzWRs2bBAAxMqVK8vVG5Gp4qlJIjIYAQEBsLKy0j4+//zzYjWDBg0qtu3u3buYNGkS/Pz84ODgoL0iEADi4+Mr3EdkZCTUajXGjh1bZl1KSgpCQ0Ph5eUFS0tLWFlZwdvbu1yf+/fff6Np06Zo2bKlzvZXXnlF5/mhQ4dw9+5djBw5EgUFBdqHRqNBSEgIjh49iqysrAofY0nOnTuHxMREjBgxAhYW//482NnZYdCgQfjnn3+QnZ2NrKwsHD16FAMHDoRKpdLW2dvbFxt5++uvvwA8PDVc1ODBg2Fra1uu06tEpoynJomoWrm6usLa2lrnFF+hX375BdnZ2UhKSsILL7xQ7HUbG5tipxOFEAgKCsLNmzfxySefoEWLFrCzs4NarUbz5s3x4MGDCvdYOOG/rAn8Go0GQUFBSExMxMcff4zmzZvD1tYWGo0GHTt2fOLn3rlzB76+vsW2u7u76zwvPNX3+Dyuou7evQtbW9sSX6tbty4uXLiArKysUmuK9gSgxFPGnp6e0Gg0SEtLgxACGo2mWK8l9X/nzh1YWloWW0pEJpPB3d1d+5lE5opBjIiqlVwuR48ePRAREYGkpCSdH31/f38AwJUrV0p8b0kT6mNjY3H8+HH89NNPGDFihHb7+fPnK91jYWi4ceMGvLy8SqyJjY3FqVOn8MMPP2DkyJHa7RcvXizXZ7i4uCA5ObnY9se3ubq6AgCWLFmCjh07lrgvNze3Uj8nODgYERER2LZtG4YNG/bEngAgKSmp2GuJiYmwsLCAk5MThBCQyWTl6t/FxQUFBQW4ffu2ThgTQiA5ORnt2rUrsyciU8dTk0RU7aZNmwa1Wo3Q0FDk5+c/1b6EEAAeBryili9fXul9BgUFQS6XY9myZaXWFIbCxyear1ixolyf0b17d5w5cwanTp3S2f7LL7/oPO/cuTNq1KiBuLg4tG3btsRHaVeeAsAbb7wBd3d3fPDBB7h582aJNZs2bQIANG7cGLVr18Yvv/yi/V4BICsrC+Hh4dorKW1tbdG+fXts2rQJOTk52rrMzExs27ZNZ9+FFxKsXbtWZ3t4eDiysrLKvNCAyBxwRIyIql3nzp3x7bff4r333kObNm3w9ttvo2nTprCwsEBSUhLCw8MBoMyrGgs1adIE9erVw7Rp0yCEgIuLC7Zu3Ypdu3ZVuj8fHx9Mnz4dc+bMwYMHD/Dyyy/D0dERcXFxSE1NxaxZs+Dn54f69etj6tSpEELA2dkZ27ZtQ2RkZLk+Y8KECVi9ejX69OmDTz75RHvV5NmzZ3Xq7OzssGTJEowcORJ3797FSy+9hFq1auH27ds4deoUbt++XWZgdHR0xG+//Ya+ffuidevWOgu6XrhwAWvXrsWpU6cwcOBAWFhY4NNPP8Wrr76Kvn37YsyYMcjNzcVnn32Ge/fuYcGCBdr9zpkzByEhIejduzcmT54MtVqNhQsXwtbWFnfv3tXW9e7dG8HBwZgyZQoyMjLQuXNn7VWTrVu31hnFJDJL0l0nQETm7uTJk+L1118Xvr6+QqlUCpVKJRo0aCBee+01sXv3bp3akSNHCltb2xL3ExcXJ3r37i3s7e2Fk5OTGDx4sPaqyRkzZmjrynvVZKGffvpJtGvXTqhUKmFnZydat24t1qxZU+HPLU3h+1UqlXB2dhZvvPGG+O2333Sumiy0d+9e0adPH+Hs7CysrKxE7dq1RZ8+fYodS2mSk5PFlClTRNOmTYWNjY1QKpWiQYMGYsyYMSImJkandsuWLaJDhw5CpVIJW1tb0bNnT3Hw4MFi+9y6dato0aKFUCgUom7dumLBggUlfpcPHjwQU6ZMEd7e3sLKykp4eHiId955R6SlpZWrdyJTJhOiyPgzEREREVUbzhEjIiIikgiDGBEREZFEGMSIiIiIJMIgRkRERCQRBjEiIiIiiTCIEREREUmEC7oaMI1Gg8TERNjb25d4axciIiIyPEIIZGZmwtPTExYWZY95MYgZsMTExFLvc0dERESG7fr166hTp06ZNQxiBsze3h7Aw3+R5bnVCxEREUkvIyMDXl5e2t/xsjCIGbDC05EODg4MYkREREamPNOKOFmfiIiISCIMYkREREQSYRAjIiIikgiDGBEREZFEGMSIiIiIJMIgRkRERCQRBjEiIiIiiTCIEREREUmEQYyIiIhIIlxZn4iIiMyOWiNwJOEuUjJzUMtehfa+zpBbPHklfH1jECMiIiKzsiM2CbO2xSEpPUe7zcNRhRn9/BHSzKNae+GpSSIiIjIbO2KT8M7aEzohDACS03PwztoT2BGbVK39MIgRERGRWVBrBGZti4Mo4bXCbbO2xUGtKamiavDUJBERERk9jUYgLTsPd7LykHo/F3fu5+HO/dxHzx9uu5J6v9hIWFECQFJ6Do4k3EVgfZdq6ZtBjIiIiHQYykT27LwC3Ln/b7BK1QarR0Erq3B7Hu5m5UJfA1kpmaWHNX1jECMiIiKtqpzIXqDWIC07XydIpRaOXD16frvI8wf56gp/Rg0bK7jYKuBip4SrnQIutkq42inhYqfAnfu5+GLXhSfuo5a9qjKHVykMYkRERATg34nsjw8sFU5kXza8jU4YE0Lgfm7BY6GqcMQqF6lZRUNWHtKy8yAqOGqltLSAa2GoslPqhqwiQcvVTgEnWwWs5KVPf1drBNYfvY7k9JwS54nJALg7PhwBrC4MYkRERFSuiewTN5zC+iPXcDc7H6mZD4NWXoGmQp8jkwHONg9D1MORqofhquSgpYStQg6ZTD+nReUWMszo54931p6ArMhxAQ9DGADM6OdfradhGcSIiIjMTGZOPm7ee4Abdx/gRlo2bt57gFPX75U5kR0AHuSrsed8arHttgr5wxClHaHSDVquj8KVi50CTjYKSeabFQpp5oFlw9sUO/3qLtE6YgxiREREJib9QT5upGXjRtoD3Ex7gBtp/wauG2kPkP4gv9L7frm9F3o1cdPOu3KxVcJaIddj91UvpJkHevu7G8QFCQxiRERERkQIgXvZ+Q9D1r3sRyGrSNhKe4DM3IIn7sfJxgp1nGxQu4Y16jhZI1+twY9RV5/4vhda1q62pR2qktxCZhDHwSBGRERUQVW5vIMQAney8kocySoMWll5T76a0NVO8Shk2aCOkzVqOz0MXIXhy1apGwHUGoGIuFsGNZHdHDCIERERVcDTLu+g0Qik3s/FjcfC1cMRrofPc/KfPAG+pr1SJ1jVcfr3UbuGTYVPFxriRHZzIBOioheSUnXJyMiAo6Mj0tPT4eDgIHU7RERmr7TlHQqjybLhbRDk746UzNx/52g9Clfa+Vr3HjzxSkOZDHCzVxUZxdINXJ41rKGyqpp5WYZ0Q2xjVZHfbwYxA8YgRkRkONQagWcW/lXmlYVyCxlkEHjSig4WMsDdQVXqaUOPGiooLaWbAG8oK+sbq4r8fpvUTb99fHwgk8l0HlOnTtWpuXbtGvr16wdbW1u4urpi3LhxyMvL06mJiYlB165dYW1tjdq1a2P27Nl4PK/u3bsXAQEBUKlUqFevHpYvX16sn/DwcPj7+0OpVMLf3x+bN2/W/0ETEVG1OJJw94nLO6g1D0OY3EKGOk7W6FjPGYPa1MH4ng3x2Ust8MtbHbD/g+4498lzODStJ/4XGojFQ1thclBjDG1XF50buMLH1VbSEAb8O5G9f6uHE/MZwqqOyc0Rmz17Nt566y3tczs7O+0/q9Vq9OnTBzVr1sSBAwdw584djBw5EkIILFmyBMDDFNu7d290794dR48exfnz5zFq1CjY2tpi8uTJAICEhAQ8//zzeOutt7B27VocPHgQ7777LmrWrIlBgwYBAKKiojB06FDMmTMHAwYMwObNmzFkyBAcOHAAHTp0qMZvhIiI9OHEtbRy1c18wR/DO3jDsowV3okKmdSpSR8fH0yYMAETJkwo8fXt27ejb9++uH79Ojw9PQEA69evx6hRo5CSkgIHBwcsW7YM06ZNw61bt6BUKgEACxYswJIlS3Djxg3IZDJMmTIFW7duRXx8vHbfoaGhOHXqFKKiogAAQ4cORUZGBrZv366tCQkJgZOTE9atW1eu4+GpSSIi6Z1NzsCXkRew40xyuerXvdXRIJZFIOmY7alJAFi4cCFcXFzQqlUrzJ07V+e0Y1RUFJo1a6YNYQAQHByM3NxcHD9+XFvTtWtXbQgrrElMTMSVK1e0NUFBQTqfGxwcjGPHjiE/P7/MmkOHDun1eImIqGpcuJWJsb+cQMiX+7UhTGVV+s+mDA8ntXN5B6oIkzo1OX78eLRp0wZOTk44cuQIpk2bhoSEBHz//fcAgOTkZLi5uem8x8nJCQqFAsnJydoaHx8fnZrC9yQnJ8PX17fE/bi5uaGgoACpqanw8PAotabwc0qSm5uL3Nxc7fOMjIyKfQFERPTULt2+j693X8DWU4naG1T3ae6B8b0a4vLt+3hn7QkAXN6B9MPgg9jMmTMxa9asMmuOHj2Ktm3bYuLEidptLVq0gJOTE1566SXtKBmAEm8cKoTQ2f54TeHZW33UlHXj0vnz5z/xWImIqGpcvZOFr3ZfwJbom9A8SlkhTd0xvldDNPF4eHqpkZu9Qd2nkIyfwQexsLAwDBs2rMyax0ewCnXs2BEAcPHiRbi4uMDd3R2HDx/WqUlLS0N+fr529Mrd3b3YqFVKSgoAPLHG0tJSG/hKq3l8lKyoadOmYdKkSdrnGRkZ8PLyKrWeiIie3vW72Vjy1wWEn7gJ9aME1quJGyb0aohmtR2L1RvSfQrJ+Bl8EHN1dYWrq2ul3hsdHQ0A8PB4+F8ogYGBmDt3LpKSkrTbIiIioFQqERAQoK2ZPn068vLyoFAotDWenp7awBcYGIht27bpfFZERATatm0LKysrbU1kZKTOKF1ERAQ6depUar9KpVJnbhoREVWdm/ce4Ju/LmLjsesoeBTAujeuiQm9GqGlV40y32so9ykkEyBMxKFDh8TixYtFdHS0uHz5stiwYYPw9PQUL7zwgramoKBANGvWTPTs2VOcOHFC7Nq1S9SpU0eEhYVpa+7duyfc3NzEyy+/LGJiYsSmTZuEg4ODWLRokbbm8uXLwsbGRkycOFHExcWJVatWCSsrK/Hrr79qaw4ePCjkcrlYsGCBiI+PFwsWLBCWlpbin3/+KfcxpaenCwAiPT39Kb8dIiIqlHTvgfhoc4xoMP0P4T3ld+E95Xcx/Pt/xPGrd6VujUxERX6/TSaIHT9+XHTo0EE4OjoKlUolGjduLGbMmCGysrJ06q5evSr69OkjrK2thbOzswgLCxM5OTk6NadPnxZdunQRSqVSuLu7i5kzZwqNRqNTs2fPHtG6dWuhUCiEj4+PWLZsWbGeNm7cKBo3biysrKyEn5+fCA8Pr9AxMYgREenPrfQHYsZvsaLhh39qA9jLK6PEkYQ7UrdGJqYiv98mtY6YqeE6YkRET+92Zi5W7L2En/+5itxH9x5q7+OMib0b8fQiVYmK/H4b/BwxIiKiyriblYcV+y7hp0NX8SBfDQBoU7cGJvVujM4NXMq8ip2oujCIERGRSbmXnYfv9l/GDwevICvvYQBr6VUDk3o3wrMNXRnAyKAwiBERkUlIf5CPVQcSsPpAAu7nFgAAmtV2wKTejdC9cS0GMDJIDGJERGTUMnPysebgFXy3/zIycx4GMD93e0zq3Qi9/d0YwMigMYgREZFRup9bgB8PPQxg97If3ue3kZsdJvZqhOCm7rDgAqtkBBjEiIjIqGTnFeDnqKtYse8y7mblAQDq17TFhF6N0Ke5BwMYGRUGMSIiMgo5+Wqs/ecqlu+9hNT7DwOYr6stxvdsiH4tPXmLITJKDGJERGTQcvLVWH/kGr7dcwm3M3MBAHWdbTCuZ0O82MoTlnILiTskqjwGMSIiMki5BWr879gNfPvXRSRn5AAAatewxrieDTCwTR1YMYCRCWAQIyIig5Kv1uDX4zfwzV8XcfPeAwCAh6MKYT0aYHCAFxSWDGBkOhjEiIjIIBSoNdh04ia+/usCbqQ9DGC17JUI69EAQ9t5QWkpl7hDIv1jECMiIkkVqDXYeioRX+2+gKt3sgEArnZKvNutPl7pUBcqKwYwMl0MYkREJAm1RuD30w8D2OXbWQAAF1sFQrvWx/CO3rBWMICR6WMQIyKqZmqNwJGEu0jJzEEtexXa+zqb3NILZR2jRiPwZ2wSvtx1ARdT7gMAathYYcyz9fFaoDdslfxpIvPB/7cTEVWjHbFJmLUtDknpOdptHo4qzOjnj5BmHhJ2pj+lHePHffxhYQF8EXkB525lAgAcVJZ4+9l6GNnJB/YqK6laJpKMTAghpG6CSpaRkQFHR0ekp6fDwcFB6naI6CntiE3CO2tP4PG/dAvHwpYNb2P0Yay0Y3ycvdISb3TxxehnfOHAAEYmpiK/3xwRIyKqBmqNwKxtcSUGFIGHYWzm1jMIrO8KK7kMFjIZZDLAQiZ79IDB37y6rGMsJAPwbvf6eLtLfTjaMIARMYgREVWDIwl3dU7VPU4ASM7IRctZEWXux6JIOJPJoBPW/v1nPHouK1L/MMhZWFSwvoT/Le39adn5ZR5j4XE+06AmQxjRIwxiRETVICWz7IBSXhoBaIQAnnjyz3Dp67sgMgUMYkRE1SDx0QrxT/Lj6HZo7+MCjRCPHoB49L+F24T2nx9egSiKvPbE+kfPn1wjoNGgAvsUuJhyH9/tT3jiMdayVz3t10lkMhjEiIiqUFpWHub8EYdNJ26WWScD4O6owjMNahrtUhYP1wVLQnJ6TonjdYXH2N7XubpbIzJYvGEXEVEVEELgj9NJ6P3FXmw6cRMyGdDDrxZk+PcqyUKFz2f08zfaEAYAcgsZZvTzB2C6x0ikbwxiRER6disjB2//fBxjfzmB1Pt5aFjLDuHvdMLqUe2wbHgbuDvqnppzd1SZxNIVABDSzMPkj5FIn7iOmAHjOmJExkUIgQ1Hr2Pun/HIzCmAlVyGd7s1wLvd6+vcsNrcV9YnMnVcR4yIqJpdvZOFqeExiLp8BwDQso4jFr7UAn7uxf8SllvIEFjfpbpbrFbmcIxE+sAgRkT0FNQagdUHEvB55Dnk5GugsrLA+0GN8XpnX44AEdETMYgREVXS2eQMTPn1NE7dSAcAdKrvgvkDm8PbxVbizojIWDCIERFVUG6BGt/+fQlL/76IAo2AvcoSH/VpgiFtvQz+NkREZFgYxIiIKuDEtTRM+fU0LqTcBwD09nfDJy82g5sDFykloopjECMiKoes3AIsijiHHw5dgRCAq50Cs15ohuebu3MUjIgqjUGMiOgJ9l+4jWmbYnAj7eFtiga2qY2P+/jDyVYhcWdEZOwYxIiISpGenY9P/ojDxuM3AAC1a1hj7oBm6Na4lsSdEZGpYBAjIirBjtgkfPzbGdzOzIVMBrzW0Rv/CfGDnZJ/bRKR/vBvFCKiIlIyczDjtzPYHpsMAKhf0xYLB7VAWx/eqJqI9I9BjIgID29P9OvxG5jzexwycgpgaSFDaNf6COvRACor+ZN3QERUCQxiRGT2rt/NxvTNMdh/IRUA0Ky2AxYOaoGmno4Sd0ZEpo5BjIjMlloj8OOhK/hs5zk8yFdDaWmBSb0b4Y1nfGEpt5C6PSIyAwxiRGSWLtzKxAfhpxF97R4AoL2vMxYOagFfV96eiIiqD4MYEZmVvAINlu25hG/+voB8tYCd0hLTnvfDy+3qwoI36SaiasYgRkRm49T1e/jg19M4dysTANDDrxbmDmgGD0driTsjInPFIEZEJu9BnhqLI89h1YEEaATgbKvAjH7+eKGlJ29PRESSYhAjIpN26FIqpobH4NrdbABA/1ae+L++/nCxU0rcGRERgxgRmaj0B/lYsD0e645cBwB4OKowd0Az9PBzk7gzIqJ/MYgRkcmJOJOMj3+Lxa2MXADA8I51MSXED/YqK4k7IyLSxSBGRCbjdmYuZm47gz9OJwEAfF1tsWBgc3So5yJxZ0REJWMQIyKjJ4TA5uibmP17HO5l50NuIcNbXephQq+GvD0RERk0BjEiMmo30rLx4eZY7D1/GwDg7+GAT19qgWa1eXsiIjJ8DGJEZJQ0GoG1h69i4fazyMpTQ2FpgfE9G+LtZ+vBircnIiIjwSBGREbnYsp9TA0/jWNX0wAAbb2dsGBQCzSoZSdxZ0REFcMgRkQGR60ROJJwFymZOahlr0J7X2fILWTIV2uwct9lfLXrAvLUGtgq5JjynB+Gd/Dm7YmIyCgxiBGRQdkRm4RZ2+KQlJ6j3ebhqMKoTj7YcjIR8UkZAICujWpi7oBmqONkI1WrRERPjUGMiAzGjtgkvLP2BMRj25PSczB/+1kAQA0bK/xfX38MaF2btyciIqPHIEZEBkGtEZi1La5YCCtKZWWBnROehZuDqtr6IiKqSry0iIgMwpGEuzqnI0uSk6/B5dtZ1dQREVHVYxAjIoOQkll2CKtoHRGRMWAQIyKDUMu+fKcby1tHRGQMGMSIyCC083GCjaL02xHJ8PDqyfa+ztXXFBFRFWMQIyKDsDjyPLLz1CW+Vnht5Ix+/pBzvTAiMiFGE8Tmzp2LTp06wcbGBjVq1Cix5tq1a+jXrx9sbW3h6uqKcePGIS8vT6cmJiYGXbt2hbW1NWrXro3Zs2dDCN3rtPbu3YuAgACoVCrUq1cPy5cvL/ZZ4eHh8Pf3h1KphL+/PzZv3lysZunSpfD19YVKpUJAQAD2799f+S+AyIR9+/dFLN1zCQDwSnsveDjqnn50d1Rh2fA2CGnmIUV7RERVxmiWr8jLy8PgwYMRGBiIVatWFXtdrVajT58+qFmzJg4cOIA7d+5g5MiREEJgyZIlAICMjAz07t0b3bt3x9GjR3H+/HmMGjUKtra2mDx5MgAgISEBzz//PN566y2sXbsWBw8exLvvvouaNWti0KBBAICoqCgMHToUc+bMwYABA7B582YMGTIEBw4cQIcOHQAAGzZswIQJE7B06VJ07twZK1aswHPPPYe4uDjUrVu3mr41IsP3w8EEfLbzHABg+vN+ePvZ+qWurE9EZHKEkVmzZo1wdHQstv3PP/8UFhYW4ubNm9pt69atE0qlUqSnpwshhFi6dKlwdHQUOTk52pr58+cLT09PodFohBBCfPDBB8LPz09n32PGjBEdO3bUPh8yZIgICQnRqQkODhbDhg3TPm/fvr0IDQ3VqfHz8xNTp04t97Gmp6cLANr+iUzNhqPXhPeU34X3lN/F5xHnpG6HiEgvKvL7bTSnJp8kKioKzZo1g6enp3ZbcHAwcnNzcfz4cW1N165doVQqdWoSExNx5coVbU1QUJDOvoODg3Hs2DHk5+eXWXPo0CEAD0fvjh8/XqwmKChIW0Nk7v44nYSp4acBAG8844uJvRpK3BERUfUzmSCWnJwMNzc3nW1OTk5QKBRITk4utabw+ZNqCgoKkJqaWmZN4T5SU1OhVqvLrClJbm4uMjIydB5Epuivs7cwfn00NAJ4ub0XPurThLcrIiKzJGkQmzlzJmQyWZmPY8eOlXt/Jf1FLoTQ2f54jXg0UV8fNY9vK09NUfPnz4ejo6P24eXlVWotkbE6dCkVoWtPoEAj0L+VJz55sTlDGBGZLUkn64eFhWHYsGFl1vj4+JRrX+7u7jh8+LDOtrS0NOTn52tHptzd3YuNSKWkpADAE2ssLS3h4uJSZk3hPlxdXSGXy8usKcm0adMwadIk7fOMjAyGMTIpJ66l4c0fjyGvQIPe/m5YNLglJ+ETkVmTdETM1dUVfn5+ZT5UqvKtoh0YGIjY2FgkJSVpt0VERECpVCIgIEBbs2/fPp0lLSIiIuDp6akNfIGBgYiMjNTZd0REBNq2bQsrK6syazp16gQAUCgUCAgIKFYTGRmprSmJUqmEg4ODzoPIVJxJTMeo1UeQnafGMw1cseTl1rCSm8zsCCKiyqna6wb05+rVqyI6OlrMmjVL2NnZiejoaBEdHS0yMzOFEEIUFBSIZs2aiZ49e4oTJ06IXbt2iTp16oiwsDDtPu7duyfc3NzEyy+/LGJiYsSmTZuEg4ODWLRokbbm8uXLwsbGRkycOFHExcWJVatWCSsrK/Hrr79qaw4ePCjkcrlYsGCBiI+PFwsWLBCWlpbin3/+0dasX79eWFlZiVWrVom4uDgxYcIEYWtrK65cuVLuY+ZVk2QqLtzKFG1mRwjvKb+LQUsPiqzcfKlbIiKqMhX5/TaaIDZy5EgBoNjj77//1tZcvXpV9OnTR1hbWwtnZ2cRFhams1SFEEKcPn1adOnSRSiVSuHu7i5mzpypXbqi0J49e0Tr1q2FQqEQPj4+YtmyZcX62bhxo2jcuLGwsrISfn5+Ijw8vFjNt99+K7y9vYVCoRBt2rQRe/furdAxM4iRKbh2J0t0mLtLeE/5XfT5ep9If5AndUtERFWqIr/fMiEeW1aeDEZGRgYcHR2Rnp7O05RklG5l5GDw8ihcu5uNhrXssGFMIJxtFVK3RURUpSry+80JGkRUJe7cz8Wr3x/GtbvZ8Haxwdo3OzCEERE9hkGMiPQu/UE+Xlt9BBdT7sPDUYW1b3SAm0P5LrwhIjInDGJEpFfZeQUY/cNRnEnMgKudAmvf7AAvZxup2yIiMkgMYkSkNzn5arz10zEcv5oGB5UlfhrdAfVr2kndFhGRwWIQIyK9yFdrEPbLCRy8eAe2Cjl+HN0e/p68yISIqCwMYkT01NQagUn/O4Vd8SlQWlrg+5Ht0Lquk9RtEREZPAYxInoqQgh8uDkG204lwkouw/LhAQis7yJ1W0RERoFBjIgqTQiBOb/HY/3R67CQAV8Na43ufrWkbouIyGgwiBFRpX0ReR6rDyYAAD59qSWeb+4hcUdERMaFQYyIKmXF3kv4+q+LAIDZ/ZvipYA6EndERGR8GMSIqMJ+/ucq5m8/CwD4IKQxXgv0kbYhIiIjxSBGRBWy6cQNfLwlFgAwtnt9vNutgcQdEREZLwYxIiq3HbFJeH/jKQDAqE4+eD+oscQdEREZNwYxIiqXPedS8N66aGgEMDigDv6vrz9kMpnUbRERGTUGMSJ6osOX72DMz8eRrxbo08IDCwa1gIUFQxgR0dNiECOiMp26fg9v/HgMuQUa9PSrhS+GtIKcIYyISC8YxIioVGeTM/Da6iO4n1uATvVd8O2rbaCw5F8bRET6wr9RiahEl2/fx/DvjyD9QT7a1K2B715rC5WVXOq2iIhMCoMYERVzIy0bw78/jNT7ufD3cMCa19vDVmkpdVtERCaHQYyIdKRk5GD494eRmJ6D+jVt8fMb7eFobSV1W0REJolBjIi00rLyMHzVYVy5kw0vZ2v8982OcLFTSt0WEZHJYhAjIgBAZk4+Rq45gvO37sPNQYlf3uwId0eV1G0REZk0BjEiwoM8Nd744RhO30iHs60C/32zA7ycbaRui4jI5DGIEZm53AI13v75GI5cuQt7lSV+Gt0eDWrZS90WEZFZYBAjMmMFag3GrYvG/gupsFHI8cPr7dGstqPUbRERmQ0GMSIzpdEI/OfX09h55hYUlhb4/rW2CPB2krotIiKzwiBGZIaEEPj4t1hsjr4JSwsZlr3aBp0auErdFhGR2WEQIzIzQgjM334W/z18DRYy4IuhrdCziZvUbRERmSUGMSIz8/Xui1i57zIAYMHAFujX0lPijoiIzBeDGJEZ+X7/ZXyx6zwAYEY/fwxp5yVxR0RE5o1BjMhMrDtyDZ/8EQ8AeD+oEV7v7CtxR0RExCBGZAZ+O3kT0zfHAABCu9bH2O4NJO6IiIgABjEikxdxJhmT/ncKQgCvBXpjSkhjyGQyqdsiIiIwiBGZtP0XbiPsl2ioNQKD2tTBzH5NGcKIiAwIgxiRiTp65S7e/uk48tQaPNfMHQsHNYeFBUMYEZEhYRAjMkExN9Ixes1RPMhXo1vjmvhqWGtYyvnHnYjI0PBvZiITc/5WJl5bfRiZuQXo4OuM5cMDoLDkH3UiIkPEv52JTMjVO1kY/v1hpGXno6VXDawa1Q4qK7nUbRERUSkYxIhMROK9B3jlu8NIycyFn7s9fny9HeyUllK3RUREZWAQIzIBtzNzMfz7w7h57wHqudri5zc6oIaNQuq2iIjoCfify0RGRq0ROJJwFymZOahlr0IjNzuMWHUYl1OzULuGNda+2QE17ZVSt0lEROXAIEZkRHbEJmHWtjgkpedot1nJZchXC9S0V+K/b3aAZw1rCTskIqKKYBAjMhI7YpPwztoTEI9tz1c/3PJO1/rwcbWt/saIiKjSOEeMyAioNQKztsUVC2FFfbf/MtSasiqIiMjQMIgRGYEjCXd1TkeWJCk9B0cS7lZTR0REpA8MYkRGICWz7BBW0ToiIjIMDGJERqCWvUqvdUREZBgYxIiMQHtfZ3g4lh6yZAA8HFVo7+tcfU0REdFTYxAjMgJyCxlGd/Yt8TXZo/+d0c8fcgtZiTVERGSYGMSIjECBWoOtpxIBAKrHbuDt7qjCsuFtENLMQ4rWiIjoKXAdMSIjsPpgAmJupsNBZYmdE5/FldRs7cr67X2dORJGRGSkGMSIDNzVO1lYHHkeAPBRH394OFrDw5Gr5xMRmQKemiQyYEIITNsUg5x8DTrVd8HgtnWkbomIiPSIQYzIgG08dgOHLt2BysoC8wc2h0zGU5BERKaEQYzIQKVk5uCTP+IAAJN6N4K3C+8jSURkahjEiAzUzK1nkJFTgOa1HUtduoKIiIwbgxiRAdp5Jhl/xiRDbiHDgkHNYSnnH1UiIlPEv92JDEz6g3x8vCUWADDm2Xpo6ukocUdERFRVGMSIDMyC7WeRkpmLeq62GNezodTtEBFRFTKaIDZ37lx06tQJNjY2qFGjRok1Mpms2GP58uU6NTExMejatSusra1Ru3ZtzJ49G0IInZq9e/ciICAAKpUK9erVK7YPAAgPD4e/vz+USiX8/f2xefPmYjVLly6Fr68vVCoVAgICsH///sp/AWQW/rl8B+uOXAMAzB/YHCorucQdERFRVXqqIJaXl4dz586hoKBAX/2U+VmDBw/GO++8U2bdmjVrkJSUpH2MHDlS+1pGRgZ69+4NT09PHD16FEuWLMGiRYuwePFibU1CQgKef/55dOnSBdHR0Zg+fTrGjRuH8PBwbU1UVBSGDh2KESNG4NSpUxgxYgSGDBmCw4cPa2s2bNiACRMm4MMPP0R0dDS6dOmC5557DteuXdPjt0KmJCdfjanhpwEAr3Soiw71XCTuiIiIqpyohKysLDF69Gghl8uFXC4Xly5dEkII8d5774n58+dXZpfltmbNGuHo6FjiawDE5s2bS33v0qVLhaOjo8jJydFumz9/vvD09BQajUYIIcQHH3wg/Pz8dN43ZswY0bFjR+3zIUOGiJCQEJ2a4OBgMWzYMO3z9u3bi9DQUJ0aPz8/MXXq1DKPr6j09HQBQKSnp5f7PWS8FmyPF95Tfhft50aK9Ad5UrdDRESVVJHf70qNiE2bNg2nTp3Cnj17oFKptNt79eqFDRs26CchVlJYWBhcXV3Rrl07LF++HBqNRvtaVFQUunbtCqVSqd0WHByMxMREXLlyRVsTFBSks8/g4GAcO3YM+fn5ZdYcOnQIwMPRu+PHjxerCQoK0taUJDc3FxkZGToPMg+xN9Oxct9lAMCc/s3goLKSuCMiIqoOlQpiW7ZswTfffINnnnlGZ6Vvf39/XLp0SW/NVdScOXOwceNG7Nq1C8OGDcPkyZMxb9487evJyclwc3PTeU/h8+Tk5DJrCgoKkJqaWmZN4T5SU1OhVqvLrCnJ/Pnz4ejoqH14eXlV5PDJSBWoNZi66TTUGoE+zT0Q1NRd6paIiKiaVCqI3b59G7Vq1Sq2PSsrq0K3YJk5c2aJE+yLPo4dO1bu/X300UcIDAxEq1atMHnyZMyePRufffaZTs3j/YlHE/WLbq9szePbylNT1LRp05Cenq59XL9+vdRaMh2rDiQg9mYGHK2tMPOFplK3Q0RE1ciyMm9q164d/vjjD7z33nsA/g0c3333HQIDA8u9n7CwMAwbNqzMGh8fn8q0CADo2LEjMjIycOvWLbi5ucHd3b3YiFRKSgqAf0fGSquxtLSEi4tLmTWF+3B1dYVcLi+zpiRKpVLntCmZviupWVgceR4A8FGfJqhpz3//RETmpFJBbP78+QgJCUFcXBwKCgrw1Vdf4cyZM4iKisLevXvLvR9XV1e4urpWpoVyiY6Ohkql0i53ERgYiOnTpyMvLw8KhQIAEBERAU9PT23gCwwMxLZt23T2ExERgbZt28LKykpbExkZiYkTJ+rUdOrUCQCgUCgQEBCAyMhIDBgwQFsTGRmJ/v37V9XhkpERQmDaphjkFmjwTANXvBRQR+qWiIiomlXq1GSnTp1w6NAhZGdno379+oiIiICbmxuioqIQEBCg7x4BANeuXcPJkydx7do1qNVqnDx5EidPnsT9+/cBANu2bcN3332H2NhYXLp0Cd9//z0+/PBDvP3229pRpldeeQVKpRKjRo1CbGwsNm/ejHnz5mHSpEnaUb3Q0FBcvXoVkyZNQnx8PFavXo1Vq1bh/fff1/Yyfvx4REREYOHChTh79iwWLlyIXbt2YcKECdqaSZMm4fvvv8fq1asRHx+PiRMn4tq1awgNDa2S74eMz4aj1xF1+Q6sreSYN6B5hU7rExGRiajoJZl5eXli1KhR2iUrqsvIkSMFgGKPv//+WwghxPbt20WrVq2EnZ2dsLGxEc2aNRNffvmlyM/P19nP6dOnRZcuXYRSqRTu7u5i5syZ2qUrCu3Zs0e0bt1aKBQK4ePjI5YtW1asn40bN4rGjRsLKysr4efnJ8LDw4vVfPvtt8Lb21soFArRpk0bsXfv3godM5evMF230h+IZjN2CO8pv4vv9lXvnyUiIqpaFfn9lgnx2LLy5VCjRg2cOHEC9erV02soJF0ZGRlwdHREeno6HBwcpG6H9Cj05+PYcSYZLeo4YtM7nXhTbyIiE1KR3+9K/e0/YMAAbNmypTJvJTJ7O2KTsONMMiwtZFg4qAVDGBGRGavUZP0GDRpgzpw5OHToEAICAmBra6vz+rhx4/TSHJGpSX+Qj49/OwMACO1aH008ONJJRGTOKnVq0tfXt/QdymS4fPnyUzVFD/HUpOmZGn4a649eR72atvhzXBfe1JuIyARV5Pe7UiNiCQkJlWqMyJwdupSK9UcfLtK7YGALhjAiIqrcHLGihBCoxKAakVl5kKfGtE0xAIDhHeuiva+zxB0REZEhqHQQ++mnn9C8eXNYW1vD2toaLVq0wM8//6zP3ohMxpe7z+PqnWy4O6gwJcRP6naIiMhAVOrU5OLFi/Hxxx8jLCwMnTt3hhACBw8eRGhoKFJTU3VWnCcyd7E30/H9/oen8z95sRnsVVYSd0RERIaiUkFsyZIlWLZsGV577TXttv79+6Np06aYOXMmgxjRI/lqDT749TTUGoG+LTzQy7/0e40SEZH5qdSpyaSkJO19FYvq1KkTkpKSnropIlPx/f4ExCVloIaNFWa+0FTqdoiIyMBUKog1aNAA//vf/4pt37BhAxo2bPjUTRGZgoTULHy56zwA4KM+/nC1U0rcERERGZpKnZqcNWsWhg4din379qFz586QyWQ4cOAAdu/eXWJAIzI3Go3A1PDTyC3QoEtDVwxqU1vqloiIyABVakRs0KBBOHz4MFxdXbFlyxZs2rQJrq6uOHLkCAYMGKDvHomMzvqj13E44S6sreSYN6A5ZDKZ1C0REZEBqtSIGAAEBARg7dq1+uyFyCTcysjB/D/jAQDvBzeGl7ONxB0REZGhqtSI2J9//omdO3cW275z505s3779qZsiMlZCCHy8JRaZuQVo6VUDozr5SN0SEREZsEoFsalTp0KtVhfbLoTA1KlTn7opImO1PTYZEXG3YGkhw8JBzSG34ClJIiIqXaWC2IULF+Dv719su5+fHy5evPjUTREZo/TsfPzfb2cAAO92qw8/d96onYiIylapIObo6IjLly8X237x4kXY2to+dVNExmjun3FIvZ+L+jVtMbZHA6nbISIiI1CpIPbCCy9gwoQJuHTpknbbxYsXMXnyZLzwwgt6a47IWBy8mIr/HbsBmQxYOKgFlJZyqVsiIiIjUKkg9tlnn8HW1hZ+fn7w9fWFr68v/Pz84OLigkWLFum7RyKD9iBPjWmbYgAAIzp6o62Ps8QdERGRsajU8hWOjo44dOgQIiMjcerUKVhbW6Nly5bo0qWLvvsjMnhf7DqPa3ez4eGowgchflK3Q0RERqRCI2KHDx/WLk8hk8kQFBSEWrVqYdGiRRg0aBDefvtt5ObmVkmjRIbo9I17+H7/w/mScwc0g52y0kvzERGRGapQEJs5cyZOnz6tfR4TE4O33noLvXv3xtSpU7Ft2zbMnz9f700SGaJ8tQYf/HoaGgG80NITPfzcpG6JiIiMTIWC2MmTJ9GzZ0/t8/Xr16N9+/b47rvvMGnSJHz99de81ySZjZX7LuNsciacbKwwo1/x5VyIiIiepEJBLC0tDW5u//5X/969exESEqJ93q5dO1y/fl1/3REZqEu37+Or3RcAAB/39YeLnVLijoiIyBhVKIi5ubkhISEBAJCXl4cTJ04gMDBQ+3pmZiasrKz02yGRgdFoBKaFxyCvQINnG9XEgNa1pW6JiIiMVIWCWEhICKZOnYr9+/dj2rRpsLGx0blS8vTp06hfv77emyQyJL8cuYYjV+7CRiHHvAHNIJPxNkZERFQ5FbrE65NPPsHAgQPRtWtX2NnZ4ccff4RCodC+vnr1agQFBem9SSJDkZyegwXbzwIA3g9qjDpONhJ3RERExqxCQaxmzZrYv38/0tPTYWdnB7lcd/XwjRs3ws7OTq8NEhkKIQQ+2hKL+7kFaOVVAyM7+UjdEhERGblKL+haEmdnrihOpuuPmCTsir8FK7kMn77UAnILnpIkIqKnU6lbHBGZm3vZeZi59QwA4N1uDdDIzV7ijoiIyBQwiBGVwyd/xCP1fh4a1LLDu915QQoREekHgxjRE+y/cBu/Hr8BmQxYOKgFlJbyJ7+JiIioHBjEiMqQnVeAaZtiAAAjA30Q4O0kcUdERGRKGMSIyrA44jxupD2Ap6MK7wc3lrodIiIyMQxiRKU4df0eVh98eCeJuQObw05ZqYuMiYiISsUgRlSCvAINpoSfhkYAL7byRPfGtaRuiYiITBCDGFEJVu67hLPJmXC2VeD/+jWVuh0iIjJRDGJEj7mYch9f774IAPi/vv5wtlU84R1ERESVwyBGVIRGIzBt02nkqTXo1rgm+rfylLolIiIyYQxiREX89/BVHL2SBhuFHHMHNIdMxtsYERFR1WEQI3ok8d4DLNxxDgDwQXBj1K5hLXFHRERk6hjEiAAIIfDxlljczy1Am7o1MCLQR+qWiIjIDDCIEQHYdjoJu8+mQCG3wMJBLSC34ClJIiKqegxiZPbSsvIwa+sZAMDY7g3Q0M1e4o6IiMhcMIiR2ZvzRxzuZOWhkZsd3ulWX+p2iIjIjDCIkVnbe/42Np24CZkMWDCoBRSW/CNBRETVh786ZLaycgswfVMMAGBUJx+0qeskcUdERGRuGMTIbH0ecR437z1A7RrWeD+osdTtEBGRGWIQI7MUfS0Naw4lAADmDWwOW6WlxB0REZE5YhAjs5NXoMHU8BgIAQxsXRtdG9WUuiUiIjJTDGJkdpbvvYRztzLhbKvAR339pW6HiIjMGIMYmZWLKZn45q+LAIAZ/fzhbKuQuCMiIjJnDGJkNjQagSnhMchTa9DDrxZeaOkpdUtERGTmGMTIbKw9fBXHr6bBViHHJy82g0zG2xgREZG0GMTILNy89wALt58FAEx5zg+eNawl7oiIiIhBjMyAEAIfbY5BVp4abb2dMLyDt9QtERERAWAQIzOw9VQi/j53Gwq5BRYMag4LC56SJCIiw8BVLMnkqDUCRxLuIiUzB9ZWcszcegYAENajARrUspe4OyIion8ZxYjYlStX8MYbb8DX1xfW1taoX78+ZsyYgby8PJ26a9euoV+/frC1tYWrqyvGjRtXrCYmJgZdu3aFtbU1ateujdmzZ0MIoVOzd+9eBAQEQKVSoV69eli+fHmxnsLDw+Hv7w+lUgl/f39s3ry5WM3SpUvh6+sLlUqFgIAA7N+/Xw/fBpVlR2wSnln4F17+7h+MX38Sb/98HGnZ+fB0VCG0a32p2yMiItJhFEHs7Nmz0Gg0WLFiBc6cOYMvvvgCy5cvx/Tp07U1arUaffr0QVZWFg4cOID169cjPDwckydP1tZkZGSgd+/e8PT0xNGjR7FkyRIsWrQIixcv1tYkJCTg+eefR5cuXRAdHY3p06dj3LhxCA8P19ZERUVh6NChGDFiBE6dOoURI0ZgyJAhOHz4sLZmw4YNmDBhAj788ENER0ejS5cueO6553Dt2rUq/rbM147YJLyz9gSS0nOKvZaYnoO/zt6SoCsiIqLSycTjw0FG4rPPPsOyZctw+fJlAMD27dvRt29fXL9+HZ6eD9eHWr9+PUaNGoWUlBQ4ODhg2bJlmDZtGm7dugWlUgkAWLBgAZYsWYIbN25AJpNhypQp2Lp1K+Lj47WfFRoailOnTiEqKgoAMHToUGRkZGD79u3ampCQEDg5OWHdunUAgA4dOqBNmzZYtmyZtqZJkyZ48cUXMX/+/HIdY0ZGBhwdHZGeng4HB4en+LZMn1oj8MzCv0oMYQAgA+DuqMKBKT0g5xwxIiKqQhX5/TaKEbGSpKenw9nZWfs8KioKzZo104YwAAgODkZubi6OHz+urenatas2hBXWJCYm4sqVK9qaoKAgnc8KDg7GsWPHkJ+fX2bNoUOHAAB5eXk4fvx4sZqgoCBtTUlyc3ORkZGh86DyOZJwt9QQBgACQFJ6Do4k3K2+poiIiJ7AKIPYpUuXsGTJEoSGhmq3JScnw83NTafOyckJCoUCycnJpdYUPn9STUFBAVJTU8usKdxHamoq1Gp1mTUlmT9/PhwdHbUPLy+vsr8I0krJLD2EVaaOiIioOkgaxGbOnAmZTFbm49ixYzrvSUxMREhICAYPHow333xT57WSVkoXQuhsf7ym8MysPmoe31aemqKmTZuG9PR07eP69eul1pKuWvYqvdYRERFVB0mXrwgLC8OwYcPKrPHx8dH+c2JiIrp3747AwECsXLlSp87d3V1nsjwApKWlIT8/Xzsy5e7uXmxEKiUlBQCeWGNpaQkXF5cyawr34erqCrlcXmZNSZRKpc5pUyq/9r7O8HBUPXGOWHtf5xJfJyIikoKkI2Kurq7w8/Mr86FSPRzBuHnzJrp164Y2bdpgzZo1sLDQbT0wMBCxsbFISkrSbouIiIBSqURAQIC2Zt++fTpLWkRERMDT01Mb+AIDAxEZGamz74iICLRt2xZWVlZl1nTq1AkAoFAoEBAQUKwmMjJSW0P6JbeQYUY//xJfKxyDnNHPnxP1iYjIoBjFHLHExER069YNXl5eWLRoEW7fvo3k5GSdEaegoCD4+/tjxIgRiI6Oxu7du/H+++/jrbfe0l6x8Morr0CpVGLUqFGIjY3F5s2bMW/ePEyaNEl7yjA0NBRXr17FpEmTEB8fj9WrV2PVqlV4//33tZ81fvx4REREYOHChTh79iwWLlyIXbt2YcKECdqaSZMm4fvvv8fq1asRHx+PiRMn4tq1azrz2ki/GrrZo6SY5e6owrLhbRDSzKPaeyIiIiqTMAJr1qwReHjhW7FHUVevXhV9+vQR1tbWwtnZWYSFhYmcnBydmtOnT4suXboIpVIp3N3dxcyZM4VGo9Gp2bNnj2jdurVQKBTCx8dHLFu2rFhPGzduFI0bNxZWVlbCz89PhIeHF6v59ttvhbe3t1AoFKJNmzZi7969FTru9PR0AUCkp6dX6H3masL6aOE95Xcxes1hcehiqtgSfUMcupgqCtSaJ7+ZiIhITyry+22064iZA64jVn6Xbt9H78V7oRHAtrBn0LyOo9QtERGRmTKLdcSIilqy+wI0AujVpBZDGBERGQ0GMTJ6F1PuY+upRADAhF6NJO6GiIio/BjEyOh981fhaJgbmtXmaBgRERkPBjEyarqjYQ0l7oaIiKhiGMTIqC3haBgRERkxBjEyWhwNIyIiY8cgRkbr690XIATQ25+jYUREZJwYxMgoXUzJxLbTD0fDxvfkaBgRERknBjEySl/vvgghgCCOhhERkRFjECOjU3Q0bBxHw4iIyIgxiJHR+YqjYUREZCIYxMioXLiVid8L54bxSkkiIjJyDGJkVL7+6+FoWHBTNzT15GgYEREZNwYxMhrni4yGcW4YERGZAgYxMhqF64ZxNIyIiEwFgxgZhfO3MvFHTBIAYHzPRhJ3Q0REpB8MYmQUCkfDQpq6w9/TQep2iIiI9IJBjAxe0dEwzg0jIiJTwiBGBu8rjoYREZGJYhAjg3YuORN/Fs4N47phRERkYhjEyKAVzg17rpk7mnhwNIyIiEwLgxgZrHPJnBtGRESmjUGMDNbXuy8AAJ5vztEwIiIyTQxiZJA4GkZEROaAQYwM0le7zwN4OBrm587RMCIiMk0MYmRwziZn4M+YZABcRZ+IiEwbgxgZnMK5YX2ae6Cxu73E3RAREVUdBjEyKPFJ/46GcW4YERGZOgYxMigcDSMiInPCIEYGIz4pA9tjkyGTcTSMiIjMA4MYGYx/1w3jaBgREZkHBjEyCHGJ/46GjedoGBERmQkGMTIIReeGNXLjaBgREZkHBjGSXFxiBnac4dwwIiIyPwxiJLnCVfQ5GkZEROaGQYwkdSYxHTvP3OLcMCIiMksMYiSpwrlhfVt4oiFHw4iIyMwwiJFkio6GjevRQOp2iIiIqh2DGEnmq10cDSMiIvPGIEaSiL2Zjoi4wrlhHA0jIiLzxCBGkiicG9avhSca1OJoGBERmScGMap2RUfDxnE0jIiIzBiDGFW7rzgaRkREBIBBjKpZ7M10RGpHw7huGBERmTcGMapWhaNhL7T0RINadhJ3Q0REJC0GMao2haNhFjLgvR4cDSMiImIQo2rz5S6OhhERERXFIEbVIvZmOnbFPxwNC+NoGBEREQAGMaomX+46D4CjYUREREUxiFGVi7mRjl3xKQ/nhvFKSSIiIi0GMapyX+1+OBrWv1Vt1K/J0TAiIqJCDGJUpYqOhoX14Cr6RERERTGIUZUqnBvG0TAiIqLiGMSoypy+cQ+7zz6aG8bRMCIiomIYxKjKfPVo3bAXW9VGPY6GERERFcMgRlXi1PV/R8M4N4yIiKhkDGJUJQrvKflia46GERERlYZBjPTu1PV7+Es7N4zrhhEREZXGKILYlStX8MYbb8DX1xfW1taoX78+ZsyYgby8PJ06mUxW7LF8+XKdmpiYGHTt2hXW1taoXbs2Zs+eDSGETs3evXsREBAAlUqFevXqFdsHAISHh8Pf3x9KpRL+/v7YvHlzsZqlS5fC19cXKpUKAQEB2L9/vx6+DcNXdDTM19VW4m6IiIgMl1EEsbNnz0Kj0WDFihU4c+YMvvjiCyxfvhzTp08vVrtmzRokJSVpHyNHjtS+lpGRgd69e8PT0xNHjx7FkiVLsGjRIixevFhbk5CQgOeffx5dunRBdHQ0pk+fjnHjxiE8PFxbExUVhaFDh2LEiBE4deoURowYgSFDhuDw4cPamg0bNmDChAn48MMPER0djS5duuC5557DtWvXquhbMgwnH42GyS1kHA0jIiJ6EmGkPv30U+Hr66uzDYDYvHlzqe9ZunSpcHR0FDk5Odpt8+fPF56enkKj0QghhPjggw+En5+fzvvGjBkjOnbsqH0+ZMgQERISolMTHBwshg0bpn3evn17ERoaqlPj5+cnpk6dWr4DFEKkp6cLACI9Pb3c75HaqNWHhfeU38WkDSelboWIiEgSFfn9NooRsZKkp6fD2dm52PawsDC4urqiXbt2WL58OTQajfa1qKgodO3aFUqlUrstODgYiYmJuHLlirYmKChIZ5/BwcE4duwY8vPzy6w5dOgQACAvLw/Hjx8vVhMUFKStKUlubi4yMjJ0Hsbk5PV7+Pvc7UejYbxSkoiI6EmMMohdunQJS5YsQWhoqM72OXPmYOPGjdi1axeGDRuGyZMnY968edrXk5OT4ebmpvOewufJycll1hQUFCA1NbXMmsJ9pKamQq1Wl1lTkvnz58PR0VH78PLyeuJ3YUgKV9F/sVVt+HBuGBER0RNJGsRmzpxZ4gT7oo9jx47pvCcxMREhISEYPHgw3nzzTZ3XPvroIwQGBqJVq1aYPHkyZs+ejc8++0ynRiaT6TwXjybqF91e2ZrHt5Wnpqhp06YhPT1d+7h+/XqptYYm+loa9nA0jIiIqEIspfzwsLAwDBs2rMwaHx8f7T8nJiaie/fuCAwMxMqVK5+4/44dOyIjIwO3bt2Cm5sb3N3di41IpaSkAPh3ZKy0GktLS7i4uJRZU7gPV1dXyOXyMmtKolQqdU6bGpPCKyUHtOZoGBERUXlJGsRcXV3h6upartqbN2+ie/fuCAgIwJo1a2Bh8eTBvOjoaKhUKtSoUQMAEBgYiOnTpyMvLw8KhQIAEBERAU9PT23gCwwMxLZt23T2ExERgbZt28LKykpbExkZiYkTJ+rUdOrUCQCgUCgQEBCAyMhIDBgwQFsTGRmJ/v37l+t4jUnR0bCw7hwNIyIiKrcqvnBAL27evCkaNGggevToIW7cuCGSkpK0j0Jbt24VK1euFDExMeLixYviu+++Ew4ODmLcuHHamnv37gk3Nzfx8ssvi5iYGLFp0ybh4OAgFi1apK25fPmysLGxERMnThRxcXFi1apVwsrKSvz666/amoMHDwq5XC4WLFgg4uPjxYIFC4SlpaX4559/tDXr168XVlZWYtWqVSIuLk5MmDBB2NraiitXrpT7uI3lqsnXVj28UnLy/3ilJBERUUV+v40iiK1Zs0YAKPFRaPv27aJVq1bCzs5O2NjYiGbNmokvv/xS5Ofn6+zr9OnTokuXLkKpVAp3d3cxc+ZM7dIVhfbs2SNat24tFAqF8PHxEcuWLSvW08aNG0Xjxo2FlZWV8PPzE+Hh4cVqvv32W+Ht7S0UCoVo06aN2Lt3b4WO2xiC2PGrd4X3lN9FvWl/iCup96Vuh4iISHIV+f2WCfHYsvJkMDIyMuDo6Ij09HQ4ODhI3U6JRq4+gr3nb2NwQB18Nril1O0QERFJriK/30a5fAUZhuNX07D3/KO5YbxSkoiIqMIYxKjSCq+UHNSmNrxdeKUkERFRRTGIUaUcv5qGfYWjYd15T0kiIqLKYBCjSik6GlbXxUbiboiIiIwTgxhVWOFomCVHw4iIiJ4KgxhVWOE9JQe1qcPRMCIioqfAIEYVcvzqXey/kApLCxnGchV9IiKip8IgRhXy5a7CuWEcDSMiInpaDGJUbseu/DsaxnXDiIiInh6DGJVb4ZWSLwXUgZczR8OIiIieFoMYlUvR0TDODSMiItIPBjEql8K5YYPbcjSMiIhIXxjE6ImOXrmLAxcfjoa9242jYURERPrCIEZP9BVHw4iIiKoEgxiViaNhREREVYdBjMpUuIr+4LZeHA0jIiLSMwYxKtWRhLs4ePHOoysl60vdDhERkclhEKNSfbX739GwOk4cDSMiItI3BjEqUeFomJWco2FERERVhUGMSlR0bhhHw4iIiKoGgxgVc/jyHRy69HA07N1uHA0jIiKqKgxiVMy/q+hzNIyIiKgqMYiRjn8u30HU5cK5YVw3jIiIqCoxiJGOwlX0h7T1Qu0a1hJ3Q0REZNoYxEir6GjYuxwNIyIiqnIMYqRVeKXk0HYcDSMiIqoODGIEAIi6dAf/XL776EpJjoYRERFVBwYxAvDvKvpD23nBk6NhRERE1YJBjLSjYQq5BUfDiIiIqhGDGOnMDeNoGBERUfVhEDNzUZfu4HDCw9Gwd7iKPhERUbViEDNzHA0jIiKSjqXUDVD1U2sEjiTcxcGLt3E44S6sLGR4tztHw4iIiKobg5iZ2RGbhFnb4pCUnqPdZmVpgVPX78HDkSNiRERE1YmnJs3IjtgkvLP2hE4IA4DsPDXeWXsCO2KTJOqMiIjIPDGImQm1RmDWtjiIMmpmbYuDWlNWBREREekTg5iZOJJwt9hIWFECQFJ6Do4k3K2+poiIiMwcg5iZSMksPYRVpo6IiIieHoOYmahlr9JrHRERET09BjEz0d7XGR6OKshKeV0GwMNRhfa+ztXZFhERkVljEDMTcgsZZvTzB4BiYazw+Yx+/pBblBbViIiISN8YxMxISDMPLBveBu6Ouqcf3R1VWDa8DUKaeUjUGRERkXnigq5mJqSZB3r7u+NIwl2kZOaglv3D05EcCSMiIqp+DGJmSG4hQ2B9F6nbICIiMns8NUlEREQkEQYxIiIiIokwiBERERFJhEGMiIiISCIMYkREREQSYRAjIiIikgiDGBEREZFEGMSIiIiIJMIgRkRERCQRrqxvwIQQAICMjAyJOyEiIqLyKvzdLvwdLwuDmAHLzMwEAHh5eUncCREREVVUZmYmHB0dy6yRifLENZKERqNBYmIi7O3tIZPp96bcGRkZ8PLywvXr1+Hg4KDXfRsCHp/xM/VjNPXjA0z/GHl8xq+qjlEIgczMTHh6esLCouxZYBwRM2AWFhaoU6dOlX6Gg4ODyf4BA3h8psDUj9HUjw8w/WPk8Rm/qjjGJ42EFeJkfSIiIiKJMIgRERERSYRBzEwplUrMmDEDSqVS6laqBI/P+Jn6MZr68QGmf4w8PuNnCMfIyfpEREREEuGIGBEREZFEGMSIiIiIJMIgRkRERCQRBjEiIiIiiTCImZl9+/ahX79+8PT0hEwmw5YtW6RuSa/mz5+Pdu3awd7eHrVq1cKLL76Ic+fOSd2W3ixbtgwtWrTQLj4YGBiI7du3S91WlZk/fz5kMhkmTJggdSt6M3PmTMhkMp2Hu7u71G3p1c2bNzF8+HC4uLjAxsYGrVq1wvHjx6VuS298fHyK/TuUyWQYO3as1K3pRUFBAT766CP4+vrC2toa9erVw+zZs6HRaKRuTW8yMzMxYcIEeHt7w9raGp06dcLRo0cl6YUr65uZrKwstGzZEq+//joGDRokdTt6t3fvXowdOxbt2rVDQUEBPvzwQwQFBSEuLg62trZSt/fU6tSpgwULFqBBgwYAgB9//BH9+/dHdHQ0mjZtKnF3+nX06FGsXLkSLVq0kLoVvWvatCl27dqlfS6XyyXsRr/S0tLQuXNndO/eHdu3b0etWrVw6dIl1KhRQ+rW9Obo0aNQq9Xa57GxsejduzcGDx4sYVf6s3DhQixfvhw//vgjmjZtimPHjuH111+Ho6Mjxo8fL3V7evHmm28iNjYWP//8Mzw9PbF27Vr06tULcXFxqF27dvU2I8hsARCbN2+Wuo0qlZKSIgCIvXv3St1KlXFychLff/+91G3oVWZmpmjYsKGIjIwUXbt2FePHj5e6Jb2ZMWOGaNmypdRtVJkpU6aIZ555Ruo2qtX48eNF/fr1hUajkboVvejTp48YPXq0zraBAweK4cOHS9SRfmVnZwu5XC5+//13ne0tW7YUH374YbX3w1OTZNLS09MBAM7OzhJ3on9qtRrr169HVlYWAgMDpW5Hr8aOHYs+ffqgV69eUrdSJS5cuABPT0/4+vpi2LBhuHz5stQt6c3WrVvRtm1bDB48GLVq1ULr1q3x3XffSd1WlcnLy8PatWsxevRoyGQyqdvRi2eeeQa7d+/G+fPnAQCnTp3CgQMH8Pzzz0vcmX4UFBRArVZDpVLpbLe2tsaBAweqvR+emiSTJYTApEmT8Mwzz6BZs2ZSt6M3MTExCAwMRE5ODuzs7LB582b4+/tL3ZberF+/HidOnJBsvkZV69ChA3766Sc0atQIt27dwieffIJOnTrhzJkzcHFxkbq9p3b58mUsW7YMkyZNwvTp03HkyBGMGzcOSqUSr732mtTt6d2WLVtw7949jBo1SupW9GbKlClIT0+Hn58f5HI51Go15s6di5dfflnq1vTC3t4egYGBmDNnDpo0aQI3NzesW7cOhw8fRsOGDau/oWofgyODARM/Nfnuu+8Kb29vcf36dalb0avc3Fxx4cIFcfToUTF16lTh6uoqzpw5I3VbenHt2jVRq1YtcfLkSe02Uzs1+bj79+8LNzc38fnnn0vdil5YWVmJwMBAnW3vvfee6Nixo0QdVa2goCDRt29fqdvQq3Xr1ok6deqIdevWidOnT4uffvpJODs7ix9++EHq1vTm4sWL4tlnnxUAhFwuF+3atROvvvqqaNKkSbX3whExMknvvfcetm7din379qFOnTpSt6NXCoVCO1m/bdu2OHr0KL766iusWLFC4s6e3vHjx5GSkoKAgADtNrVajX379uGbb75Bbm6uSU1sBwBbW1s0b94cFy5ckLoVvfDw8Cg2QtukSROEh4dL1FHVuXr1Knbt2oVNmzZJ3Ype/ec//8HUqVMxbNgwAEDz5s1x9epVzJ8/HyNHjpS4O/2oX78+9u7di6ysLGRkZMDDwwNDhw6Fr69vtffCIEYmRQiB9957D5s3b8aePXsk+UNV3YQQyM3NlboNvejZsydiYmJ0tr3++uvw8/PDlClTTC6EAUBubi7i4+PRpUsXqVvRi86dOxdbMub8+fPw9vaWqKOqs2bNGtSqVQt9+vSRuhW9ys7OhoWF7hRyuVxuUstXFLK1tYWtrS3S0tKwc+dOfPrpp9XeA4OYmbl//z4uXryofZ6QkICTJ0/C2dkZdevWlbAz/Rg7dix++eUX/Pbbb7C3t0dycjIAwNHREdbW1hJ39/SmT5+O5557Dl5eXsjMzMT69euxZ88e7NixQ+rW9MLe3r7YfD5bW1u4uLiYzDy/999/H/369UPdunWRkpKCTz75BBkZGSYz0jBx4kR06tQJ8+bNw5AhQ3DkyBGsXLkSK1eulLo1vdJoNFizZg1GjhwJS0vT+int168f5s6di7p166Jp06aIjo7G4sWLMXr0aKlb05udO3dCCIHGjRvj4sWL+M9//oPGjRvj9ddfr/5mqv1kKEnq77//FgCKPUaOHCl1a3pR0rEBEGvWrJG6Nb0YPXq08Pb2FgqFQtSsWVP07NlTRERESN1WlTK1OWJDhw4VHh4ewsrKSnh6eoqBAweazBy/Qtu2bRPNmjUTSqVS+Pn5iZUrV0rdkt7t3LlTABDnzp2TuhW9y8jIEOPHjxd169YVKpVK1KtXT3z44YciNzdX6tb0ZsOGDaJevXpCoVAId3d3MXbsWHHv3j1JepEJIUT1xz8iIiIi4jpiRERERBJhECMiIiKSCIMYERERkUQYxIiIiIgkwiBGREREJBEGMSIiIiKJMIgRkcHbvHkzfv31V6nbICLSOwYxIjJoR44cwcSJE9GhQwepW3lqe/bsgUwmw71796r8s7p164YJEyZU+ecQ0dNhECOiajNq1CjIZDIsWLBAZ/uWLVsgk8mK1aenp+PNN9/Epk2b4OXlVV1tGry8vDx8+umnaNmyJWxsbODq6orOnTtjzZo1yM/Pr5LPlMlk2LJlS5Xsm8icmdYNsojI4KlUKixcuBBjxoyBk5NTmbWOjo44ffp0NXVWsry8PCgUCkl7KCovLw/BwcE4deoU5syZg86dO8PBwQH//PMPFi1ahNatW6NVq1ZSt1mq/Px8WFlZSd0GkcHgiBgRVatevXrB3d0d8+fPL7Vm5syZxcLEl19+CR8fH+3zUaNG4cUXX8S8efPg5uaGGjVqYNasWSgoKMB//vMfODs7o06dOli9erXOfm7evImhQ4fCyckJLi4u6N+/P65cuVJsv/Pnz4enpycaNWoEAIiJiUGPHj1gbW0NFxcXvP3227h//36Zx/rnn3+iUaNGsLa2Rvfu3XU+p9ChQ4fw7LPPwtraGl5eXhg3bhyysrJK3eeXX36Jffv2Yffu3Rg7dixatWqFevXq4ZVXXsHhw4fRsGHDEt9X0ohWjRo18MMPPwB4GPDCwsLg4eEBlUoFHx8f7b+jwu99wIABkMlkOv8etm3bhoCAAKhUKtSrV0/776Do5y5fvhz9+/eHra0tPvnkE6SlpeHVV19FzZo1YW1tjYYNG2LNmjVlfpdEpopBjIiqlVwux7x587BkyRLcuHHjqfb1119/ITExEfv27cPixYsxc+ZM9O3bF05OTjh8+DBCQ0MRGhqK69evAwCys7PRvXt32NnZYd++fThw4ADs7OwQEhKCvLw87X53796N+Ph4REZG4vfff0d2djZCQkLg5OSEo0ePYuPGjdi1axfCwsJK7e369esYOHAgnn/+eZw8eRJvvvkmpk6dqlMTExOD4OBgDBw4EKdPn8aGDRtw4MCBMvf73//+F7169ULr1q2LvWZlZQVbW9uKfo0AgK+//hpbt27F//73P5w7dw5r167VBq6jR48CANasWYOkpCTt8507d2L48OEYN24c4uLisGLFCvzwww+YO3euzr5nzJiB/v37IyYmBqNHj8bHH3+MuLg4bN++HfHx8Vi2bBlcXV0r1TeR0ZPkVuNEZJZGjhwp+vfvL4QQomPHjmL06NFCCCE2b94siv51NGPGDNGyZUud937xxRfC29tbZ1/e3t5CrVZrtzVu3Fh06dJF+7ygoEDY2tqKdevWCSGEWLVqlWjcuLHQaDTamtzcXGFtbS127typ3a+bm5vIzc3V1qxcuVI4OTmJ+/fva7f98ccfwsLCQiQnJ5d4rNOmTRNNmjTR+awpU6YIACItLU0IIcSIESPE22+/rfO+/fv3CwsLC/HgwYMS92ttbS3GjRtX4mtFde3aVYwfP177HIDYvHmzTo2jo6NYs2aNEEKI9957T/To0UOn36JKen+XLl3EvHnzdLb9/PPPwsPDQ+d9EyZM0Knp16+feP311594DETmgHPEiEgSCxcuRI8ePTB58uRK76Np06awsPh3YN/NzQ3NmjXTPpfL5XBxcUFKSgoA4Pjx47h48SLs7e119pOTk4NLly5pnzdv3lxnXlh8fDxatmypM9rUuXNnaDQanDt3Dm5ubsV6i4+PR8eOHXUuQggMDNSpKeznv//9r3abEAIajQYJCQlo0qRJsf0KIUq8sOFpjRo1Cr1790bjxo0REhKCvn37IigoqMz3HD9+HEePHtUZAVOr1cjJyUF2djZsbGwAAG3bttV53zvvvINBgwbhxIkTCAoKwosvvohOnTrp/ZiIjAGDGBFJ4tlnn0VwcDCmT5+OUaNG6bxmYWEBIYTOtpKuBnx80rdMJitxm0ajAQBoNBoEBAToBJ9CNWvW1P7z46f3ygo/pW1/vP+SaDQajBkzBuPGjSv2Wt26dUt8T6NGjRAfH//EfT9OJpOV+Z22adMGCQkJ2L59O3bt2oUhQ4agV69eZa7fptFoMGvWLAwcOLDYayqVSvvPj3+fzz33HK5evYo//vgDu3btQs+ePTF27FgsWrSowsdFZOwYxIhIMgsWLECrVq20E+IL1axZE8nJyToB6OTJk0/9eW3atMGGDRtQq1YtODg4lPt9/v7++PHHH5GVlaUNFQcPHoSFhUWx3ou+5/HJ8f/880+xfs6cOYMGDRqUu5dXXnkF06dPR3R0dLF5YgUFBcjNzS1xnljNmjWRlJSkfX7hwgVkZ2fr1Dg4OGDo0KEYOnQoXnrpJYSEhODu3btwdnaGlZUV1Gp1sf7PnTtXof6L9jNq1CiMGjUKXbp0wX/+8x8GMTJLnKxPRJJp3rw5Xn31VSxZskRne7du3XD79m18+umnuHTpEr799lts3779qT/v1VdfhaurK/r374/9+/cjISEBe/fuxfjx48u8cODVV1+FSqXCyJEjERsbi7///hvvvfceRowYUeJpSQAIDQ3FpUuXMGnSJJw7dw6//PKL9grFQlOmTEFUVBTGjh2LkydP4sKFC9i6dSvee++9UnuZMGECOnfujJ49e+Lbb7/FqVOncPnyZfzvf/9Dhw4dcOHChRLf16NHD3zzzTc4ceIEjh07htDQUJ3Rwy+++ALr16/H2bNncf78eWzcuBHu7u6oUaMGgIdXTu7evRvJyclIS0sDAPzf//0ffvrpJ8ycORNnzpxBfHw8NmzYgI8++qjU/gvf99tvv+HixYs4c+YMfv/99xJPwxKZAwYxIpLUnDlzip0ya9KkCZYuXYpvv/0WLVu2xJEjR/D+++8/9WfZ2Nhg3759qFu3LgYOHIgmTZpg9OjRePDgQZkjZDY2Nti5cyfu3r2Ldu3a4aWXXkLPnj3xzTfflPqeunXrIjw8HNu2bUPLli2xfPlyzJs3T6emRYsW2Lt3Ly5cuIAuXbqgdevW+Pjjj+Hh4VHqfpVKJSIjI/HBBx9gxYoV6NixI9q1a4evv/4a48aN05kjV9Tnn38OLy8vPPvss3jllVfw/vvva+dwAYCdnR0WLlyItm3bol27drhy5Qr+/PNP7Ry8zz//HJGRkfDy8tKOxAUHB+P3339HZGQk2rVrh44dO2Lx4sXw9vYutX8AUCgUmDZtGlq0aIFnn30Wcrkc69evL/M9RKZKJsozkYGIiIiI9I4jYkREREQSYRAjIiIikgiDGBEREZFEGMSIiIiIJMIgRkRERCQRBjEiIiIiiTCIEREREUmEQYyIiIhIIgxiRERERBJhECMiIiKSCIMYERERkUQYxIiIiIgk8v8M6io237cWNwAAAABJRU5ErkJggg==",
      "text/plain": [
       "<Figure size 640x480 with 1 Axes>"
      ]
     },
     "metadata": {},
     "output_type": "display_data"
    }
   ],
   "source": [
    "#Se realiza gráfica de codo para identificar valor de K\n",
    "\n",
    "Nc = range(1, 10)\n",
    "kmeans = [KMeans(n_clusters=i) for i in Nc]\n",
    "kmeans\n",
    "score = [kmeans[i].fit(Datos).score(Datos) for i in range(len(kmeans))]\n",
    "score\n",
    "plt.plot(Nc,score, marker='o')\n",
    "plt.xlabel('Número de Clusters')\n",
    "plt.ylabel('Score')\n",
    "plt.title('Gráfica de Codo')\n",
    "plt.show()"
   ]
  },
  {
   "cell_type": "code",
   "execution_count": 59,
   "id": "167118b7-3118-40aa-b63b-09ba00bd3df3",
   "metadata": {},
   "outputs": [
    {
     "data": {
      "text/html": [
       "<style>#sk-container-id-4 {\n",
       "  /* Definition of color scheme common for light and dark mode */\n",
       "  --sklearn-color-text: black;\n",
       "  --sklearn-color-line: gray;\n",
       "  /* Definition of color scheme for unfitted estimators */\n",
       "  --sklearn-color-unfitted-level-0: #fff5e6;\n",
       "  --sklearn-color-unfitted-level-1: #f6e4d2;\n",
       "  --sklearn-color-unfitted-level-2: #ffe0b3;\n",
       "  --sklearn-color-unfitted-level-3: chocolate;\n",
       "  /* Definition of color scheme for fitted estimators */\n",
       "  --sklearn-color-fitted-level-0: #f0f8ff;\n",
       "  --sklearn-color-fitted-level-1: #d4ebff;\n",
       "  --sklearn-color-fitted-level-2: #b3dbfd;\n",
       "  --sklearn-color-fitted-level-3: cornflowerblue;\n",
       "\n",
       "  /* Specific color for light theme */\n",
       "  --sklearn-color-text-on-default-background: var(--sg-text-color, var(--theme-code-foreground, var(--jp-content-font-color1, black)));\n",
       "  --sklearn-color-background: var(--sg-background-color, var(--theme-background, var(--jp-layout-color0, white)));\n",
       "  --sklearn-color-border-box: var(--sg-text-color, var(--theme-code-foreground, var(--jp-content-font-color1, black)));\n",
       "  --sklearn-color-icon: #696969;\n",
       "\n",
       "  @media (prefers-color-scheme: dark) {\n",
       "    /* Redefinition of color scheme for dark theme */\n",
       "    --sklearn-color-text-on-default-background: var(--sg-text-color, var(--theme-code-foreground, var(--jp-content-font-color1, white)));\n",
       "    --sklearn-color-background: var(--sg-background-color, var(--theme-background, var(--jp-layout-color0, #111)));\n",
       "    --sklearn-color-border-box: var(--sg-text-color, var(--theme-code-foreground, var(--jp-content-font-color1, white)));\n",
       "    --sklearn-color-icon: #878787;\n",
       "  }\n",
       "}\n",
       "\n",
       "#sk-container-id-4 {\n",
       "  color: var(--sklearn-color-text);\n",
       "}\n",
       "\n",
       "#sk-container-id-4 pre {\n",
       "  padding: 0;\n",
       "}\n",
       "\n",
       "#sk-container-id-4 input.sk-hidden--visually {\n",
       "  border: 0;\n",
       "  clip: rect(1px 1px 1px 1px);\n",
       "  clip: rect(1px, 1px, 1px, 1px);\n",
       "  height: 1px;\n",
       "  margin: -1px;\n",
       "  overflow: hidden;\n",
       "  padding: 0;\n",
       "  position: absolute;\n",
       "  width: 1px;\n",
       "}\n",
       "\n",
       "#sk-container-id-4 div.sk-dashed-wrapped {\n",
       "  border: 1px dashed var(--sklearn-color-line);\n",
       "  margin: 0 0.4em 0.5em 0.4em;\n",
       "  box-sizing: border-box;\n",
       "  padding-bottom: 0.4em;\n",
       "  background-color: var(--sklearn-color-background);\n",
       "}\n",
       "\n",
       "#sk-container-id-4 div.sk-container {\n",
       "  /* jupyter's `normalize.less` sets `[hidden] { display: none; }`\n",
       "     but bootstrap.min.css set `[hidden] { display: none !important; }`\n",
       "     so we also need the `!important` here to be able to override the\n",
       "     default hidden behavior on the sphinx rendered scikit-learn.org.\n",
       "     See: https://github.com/scikit-learn/scikit-learn/issues/21755 */\n",
       "  display: inline-block !important;\n",
       "  position: relative;\n",
       "}\n",
       "\n",
       "#sk-container-id-4 div.sk-text-repr-fallback {\n",
       "  display: none;\n",
       "}\n",
       "\n",
       "div.sk-parallel-item,\n",
       "div.sk-serial,\n",
       "div.sk-item {\n",
       "  /* draw centered vertical line to link estimators */\n",
       "  background-image: linear-gradient(var(--sklearn-color-text-on-default-background), var(--sklearn-color-text-on-default-background));\n",
       "  background-size: 2px 100%;\n",
       "  background-repeat: no-repeat;\n",
       "  background-position: center center;\n",
       "}\n",
       "\n",
       "/* Parallel-specific style estimator block */\n",
       "\n",
       "#sk-container-id-4 div.sk-parallel-item::after {\n",
       "  content: \"\";\n",
       "  width: 100%;\n",
       "  border-bottom: 2px solid var(--sklearn-color-text-on-default-background);\n",
       "  flex-grow: 1;\n",
       "}\n",
       "\n",
       "#sk-container-id-4 div.sk-parallel {\n",
       "  display: flex;\n",
       "  align-items: stretch;\n",
       "  justify-content: center;\n",
       "  background-color: var(--sklearn-color-background);\n",
       "  position: relative;\n",
       "}\n",
       "\n",
       "#sk-container-id-4 div.sk-parallel-item {\n",
       "  display: flex;\n",
       "  flex-direction: column;\n",
       "}\n",
       "\n",
       "#sk-container-id-4 div.sk-parallel-item:first-child::after {\n",
       "  align-self: flex-end;\n",
       "  width: 50%;\n",
       "}\n",
       "\n",
       "#sk-container-id-4 div.sk-parallel-item:last-child::after {\n",
       "  align-self: flex-start;\n",
       "  width: 50%;\n",
       "}\n",
       "\n",
       "#sk-container-id-4 div.sk-parallel-item:only-child::after {\n",
       "  width: 0;\n",
       "}\n",
       "\n",
       "/* Serial-specific style estimator block */\n",
       "\n",
       "#sk-container-id-4 div.sk-serial {\n",
       "  display: flex;\n",
       "  flex-direction: column;\n",
       "  align-items: center;\n",
       "  background-color: var(--sklearn-color-background);\n",
       "  padding-right: 1em;\n",
       "  padding-left: 1em;\n",
       "}\n",
       "\n",
       "\n",
       "/* Toggleable style: style used for estimator/Pipeline/ColumnTransformer box that is\n",
       "clickable and can be expanded/collapsed.\n",
       "- Pipeline and ColumnTransformer use this feature and define the default style\n",
       "- Estimators will overwrite some part of the style using the `sk-estimator` class\n",
       "*/\n",
       "\n",
       "/* Pipeline and ColumnTransformer style (default) */\n",
       "\n",
       "#sk-container-id-4 div.sk-toggleable {\n",
       "  /* Default theme specific background. It is overwritten whether we have a\n",
       "  specific estimator or a Pipeline/ColumnTransformer */\n",
       "  background-color: var(--sklearn-color-background);\n",
       "}\n",
       "\n",
       "/* Toggleable label */\n",
       "#sk-container-id-4 label.sk-toggleable__label {\n",
       "  cursor: pointer;\n",
       "  display: block;\n",
       "  width: 100%;\n",
       "  margin-bottom: 0;\n",
       "  padding: 0.5em;\n",
       "  box-sizing: border-box;\n",
       "  text-align: center;\n",
       "}\n",
       "\n",
       "#sk-container-id-4 label.sk-toggleable__label-arrow:before {\n",
       "  /* Arrow on the left of the label */\n",
       "  content: \"▸\";\n",
       "  float: left;\n",
       "  margin-right: 0.25em;\n",
       "  color: var(--sklearn-color-icon);\n",
       "}\n",
       "\n",
       "#sk-container-id-4 label.sk-toggleable__label-arrow:hover:before {\n",
       "  color: var(--sklearn-color-text);\n",
       "}\n",
       "\n",
       "/* Toggleable content - dropdown */\n",
       "\n",
       "#sk-container-id-4 div.sk-toggleable__content {\n",
       "  max-height: 0;\n",
       "  max-width: 0;\n",
       "  overflow: hidden;\n",
       "  text-align: left;\n",
       "  /* unfitted */\n",
       "  background-color: var(--sklearn-color-unfitted-level-0);\n",
       "}\n",
       "\n",
       "#sk-container-id-4 div.sk-toggleable__content.fitted {\n",
       "  /* fitted */\n",
       "  background-color: var(--sklearn-color-fitted-level-0);\n",
       "}\n",
       "\n",
       "#sk-container-id-4 div.sk-toggleable__content pre {\n",
       "  margin: 0.2em;\n",
       "  border-radius: 0.25em;\n",
       "  color: var(--sklearn-color-text);\n",
       "  /* unfitted */\n",
       "  background-color: var(--sklearn-color-unfitted-level-0);\n",
       "}\n",
       "\n",
       "#sk-container-id-4 div.sk-toggleable__content.fitted pre {\n",
       "  /* unfitted */\n",
       "  background-color: var(--sklearn-color-fitted-level-0);\n",
       "}\n",
       "\n",
       "#sk-container-id-4 input.sk-toggleable__control:checked~div.sk-toggleable__content {\n",
       "  /* Expand drop-down */\n",
       "  max-height: 200px;\n",
       "  max-width: 100%;\n",
       "  overflow: auto;\n",
       "}\n",
       "\n",
       "#sk-container-id-4 input.sk-toggleable__control:checked~label.sk-toggleable__label-arrow:before {\n",
       "  content: \"▾\";\n",
       "}\n",
       "\n",
       "/* Pipeline/ColumnTransformer-specific style */\n",
       "\n",
       "#sk-container-id-4 div.sk-label input.sk-toggleable__control:checked~label.sk-toggleable__label {\n",
       "  color: var(--sklearn-color-text);\n",
       "  background-color: var(--sklearn-color-unfitted-level-2);\n",
       "}\n",
       "\n",
       "#sk-container-id-4 div.sk-label.fitted input.sk-toggleable__control:checked~label.sk-toggleable__label {\n",
       "  background-color: var(--sklearn-color-fitted-level-2);\n",
       "}\n",
       "\n",
       "/* Estimator-specific style */\n",
       "\n",
       "/* Colorize estimator box */\n",
       "#sk-container-id-4 div.sk-estimator input.sk-toggleable__control:checked~label.sk-toggleable__label {\n",
       "  /* unfitted */\n",
       "  background-color: var(--sklearn-color-unfitted-level-2);\n",
       "}\n",
       "\n",
       "#sk-container-id-4 div.sk-estimator.fitted input.sk-toggleable__control:checked~label.sk-toggleable__label {\n",
       "  /* fitted */\n",
       "  background-color: var(--sklearn-color-fitted-level-2);\n",
       "}\n",
       "\n",
       "#sk-container-id-4 div.sk-label label.sk-toggleable__label,\n",
       "#sk-container-id-4 div.sk-label label {\n",
       "  /* The background is the default theme color */\n",
       "  color: var(--sklearn-color-text-on-default-background);\n",
       "}\n",
       "\n",
       "/* On hover, darken the color of the background */\n",
       "#sk-container-id-4 div.sk-label:hover label.sk-toggleable__label {\n",
       "  color: var(--sklearn-color-text);\n",
       "  background-color: var(--sklearn-color-unfitted-level-2);\n",
       "}\n",
       "\n",
       "/* Label box, darken color on hover, fitted */\n",
       "#sk-container-id-4 div.sk-label.fitted:hover label.sk-toggleable__label.fitted {\n",
       "  color: var(--sklearn-color-text);\n",
       "  background-color: var(--sklearn-color-fitted-level-2);\n",
       "}\n",
       "\n",
       "/* Estimator label */\n",
       "\n",
       "#sk-container-id-4 div.sk-label label {\n",
       "  font-family: monospace;\n",
       "  font-weight: bold;\n",
       "  display: inline-block;\n",
       "  line-height: 1.2em;\n",
       "}\n",
       "\n",
       "#sk-container-id-4 div.sk-label-container {\n",
       "  text-align: center;\n",
       "}\n",
       "\n",
       "/* Estimator-specific */\n",
       "#sk-container-id-4 div.sk-estimator {\n",
       "  font-family: monospace;\n",
       "  border: 1px dotted var(--sklearn-color-border-box);\n",
       "  border-radius: 0.25em;\n",
       "  box-sizing: border-box;\n",
       "  margin-bottom: 0.5em;\n",
       "  /* unfitted */\n",
       "  background-color: var(--sklearn-color-unfitted-level-0);\n",
       "}\n",
       "\n",
       "#sk-container-id-4 div.sk-estimator.fitted {\n",
       "  /* fitted */\n",
       "  background-color: var(--sklearn-color-fitted-level-0);\n",
       "}\n",
       "\n",
       "/* on hover */\n",
       "#sk-container-id-4 div.sk-estimator:hover {\n",
       "  /* unfitted */\n",
       "  background-color: var(--sklearn-color-unfitted-level-2);\n",
       "}\n",
       "\n",
       "#sk-container-id-4 div.sk-estimator.fitted:hover {\n",
       "  /* fitted */\n",
       "  background-color: var(--sklearn-color-fitted-level-2);\n",
       "}\n",
       "\n",
       "/* Specification for estimator info (e.g. \"i\" and \"?\") */\n",
       "\n",
       "/* Common style for \"i\" and \"?\" */\n",
       "\n",
       ".sk-estimator-doc-link,\n",
       "a:link.sk-estimator-doc-link,\n",
       "a:visited.sk-estimator-doc-link {\n",
       "  float: right;\n",
       "  font-size: smaller;\n",
       "  line-height: 1em;\n",
       "  font-family: monospace;\n",
       "  background-color: var(--sklearn-color-background);\n",
       "  border-radius: 1em;\n",
       "  height: 1em;\n",
       "  width: 1em;\n",
       "  text-decoration: none !important;\n",
       "  margin-left: 1ex;\n",
       "  /* unfitted */\n",
       "  border: var(--sklearn-color-unfitted-level-1) 1pt solid;\n",
       "  color: var(--sklearn-color-unfitted-level-1);\n",
       "}\n",
       "\n",
       ".sk-estimator-doc-link.fitted,\n",
       "a:link.sk-estimator-doc-link.fitted,\n",
       "a:visited.sk-estimator-doc-link.fitted {\n",
       "  /* fitted */\n",
       "  border: var(--sklearn-color-fitted-level-1) 1pt solid;\n",
       "  color: var(--sklearn-color-fitted-level-1);\n",
       "}\n",
       "\n",
       "/* On hover */\n",
       "div.sk-estimator:hover .sk-estimator-doc-link:hover,\n",
       ".sk-estimator-doc-link:hover,\n",
       "div.sk-label-container:hover .sk-estimator-doc-link:hover,\n",
       ".sk-estimator-doc-link:hover {\n",
       "  /* unfitted */\n",
       "  background-color: var(--sklearn-color-unfitted-level-3);\n",
       "  color: var(--sklearn-color-background);\n",
       "  text-decoration: none;\n",
       "}\n",
       "\n",
       "div.sk-estimator.fitted:hover .sk-estimator-doc-link.fitted:hover,\n",
       ".sk-estimator-doc-link.fitted:hover,\n",
       "div.sk-label-container:hover .sk-estimator-doc-link.fitted:hover,\n",
       ".sk-estimator-doc-link.fitted:hover {\n",
       "  /* fitted */\n",
       "  background-color: var(--sklearn-color-fitted-level-3);\n",
       "  color: var(--sklearn-color-background);\n",
       "  text-decoration: none;\n",
       "}\n",
       "\n",
       "/* Span, style for the box shown on hovering the info icon */\n",
       ".sk-estimator-doc-link span {\n",
       "  display: none;\n",
       "  z-index: 9999;\n",
       "  position: relative;\n",
       "  font-weight: normal;\n",
       "  right: .2ex;\n",
       "  padding: .5ex;\n",
       "  margin: .5ex;\n",
       "  width: min-content;\n",
       "  min-width: 20ex;\n",
       "  max-width: 50ex;\n",
       "  color: var(--sklearn-color-text);\n",
       "  box-shadow: 2pt 2pt 4pt #999;\n",
       "  /* unfitted */\n",
       "  background: var(--sklearn-color-unfitted-level-0);\n",
       "  border: .5pt solid var(--sklearn-color-unfitted-level-3);\n",
       "}\n",
       "\n",
       ".sk-estimator-doc-link.fitted span {\n",
       "  /* fitted */\n",
       "  background: var(--sklearn-color-fitted-level-0);\n",
       "  border: var(--sklearn-color-fitted-level-3);\n",
       "}\n",
       "\n",
       ".sk-estimator-doc-link:hover span {\n",
       "  display: block;\n",
       "}\n",
       "\n",
       "/* \"?\"-specific style due to the `<a>` HTML tag */\n",
       "\n",
       "#sk-container-id-4 a.estimator_doc_link {\n",
       "  float: right;\n",
       "  font-size: 1rem;\n",
       "  line-height: 1em;\n",
       "  font-family: monospace;\n",
       "  background-color: var(--sklearn-color-background);\n",
       "  border-radius: 1rem;\n",
       "  height: 1rem;\n",
       "  width: 1rem;\n",
       "  text-decoration: none;\n",
       "  /* unfitted */\n",
       "  color: var(--sklearn-color-unfitted-level-1);\n",
       "  border: var(--sklearn-color-unfitted-level-1) 1pt solid;\n",
       "}\n",
       "\n",
       "#sk-container-id-4 a.estimator_doc_link.fitted {\n",
       "  /* fitted */\n",
       "  border: var(--sklearn-color-fitted-level-1) 1pt solid;\n",
       "  color: var(--sklearn-color-fitted-level-1);\n",
       "}\n",
       "\n",
       "/* On hover */\n",
       "#sk-container-id-4 a.estimator_doc_link:hover {\n",
       "  /* unfitted */\n",
       "  background-color: var(--sklearn-color-unfitted-level-3);\n",
       "  color: var(--sklearn-color-background);\n",
       "  text-decoration: none;\n",
       "}\n",
       "\n",
       "#sk-container-id-4 a.estimator_doc_link.fitted:hover {\n",
       "  /* fitted */\n",
       "  background-color: var(--sklearn-color-fitted-level-3);\n",
       "}\n",
       "</style><div id=\"sk-container-id-4\" class=\"sk-top-container\"><div class=\"sk-text-repr-fallback\"><pre>KMeans(n_clusters=7, random_state=0)</pre><b>In a Jupyter environment, please rerun this cell to show the HTML representation or trust the notebook. <br />On GitHub, the HTML representation is unable to render, please try loading this page with nbviewer.org.</b></div><div class=\"sk-container\" hidden><div class=\"sk-item\"><div class=\"sk-estimator fitted sk-toggleable\"><input class=\"sk-toggleable__control sk-hidden--visually\" id=\"sk-estimator-id-4\" type=\"checkbox\" checked><label for=\"sk-estimator-id-4\" class=\"sk-toggleable__label fitted sk-toggleable__label-arrow fitted\">&nbsp;&nbsp;KMeans<a class=\"sk-estimator-doc-link fitted\" rel=\"noreferrer\" target=\"_blank\" href=\"https://scikit-learn.org/1.4/modules/generated/sklearn.cluster.KMeans.html\">?<span>Documentation for KMeans</span></a><span class=\"sk-estimator-doc-link fitted\">i<span>Fitted</span></span></label><div class=\"sk-toggleable__content fitted\"><pre>KMeans(n_clusters=7, random_state=0)</pre></div> </div></div></div></div>"
      ],
      "text/plain": [
       "KMeans(n_clusters=7, random_state=0)"
      ]
     },
     "execution_count": 59,
     "metadata": {},
     "output_type": "execute_result"
    }
   ],
   "source": [
    "# Generación del modelo de Agrupamiento del modelo con K=7 (Es decir haremos 7 grupos de agrupamiento) \n",
    "\n",
    "Modelo = KMeans(n_clusters=7, random_state=0)\n",
    "Modelo.fit(Datos)"
   ]
  },
  {
   "cell_type": "code",
   "execution_count": 61,
   "id": "15dd366a-e092-4d36-95ce-80d03baa2dfa",
   "metadata": {},
   "outputs": [
    {
     "name": "stdout",
     "output_type": "stream",
     "text": [
      "     Age  Annual Income (k$)  Spending Score (1-100)  Grupo\n",
      "4     31                  17                      40      6\n",
      "5     22                  17                      76      5\n",
      "6     35                  18                       6      6\n",
      "7     23                  18                      94      5\n",
      "8     64                  19                       3      6\n",
      "..   ...                 ...                     ...    ...\n",
      "193   38                 113                      91      1\n",
      "194   47                 120                      16      3\n",
      "195   35                 120                      79      1\n",
      "196   45                 126                      28      3\n",
      "197   32                 126                      74      1\n",
      "\n",
      "[194 rows x 4 columns]\n"
     ]
    }
   ],
   "source": [
    "#Se agrega la columna Grupo a la BD para identificar el numero de grupo del agrupamiento\n",
    "\n",
    "Modelo.labels_\n",
    "Datos[\"Grupo\"] = Modelo.labels_ \n",
    "print (Datos)"
   ]
  },
  {
   "cell_type": "markdown",
   "id": "c1866856-c634-407a-a338-2820fe5ede25",
   "metadata": {},
   "source": [
    "5. Evaluar el desempeño del modelo con métricas como Coeficiente de Silhouette, Índice de Calinski-Harabasz, etc. "
   ]
  },
  {
   "cell_type": "code",
   "execution_count": 64,
   "id": "c6205317-3ab8-4b51-8d76-eea38ec32e20",
   "metadata": {},
   "outputs": [
    {
     "name": "stdout",
     "output_type": "stream",
     "text": [
      "+--------------------------+--------------------+\n",
      "|          Metric          |       Value        |\n",
      "+--------------------------+--------------------+\n",
      "| Numero de Observaciones  |        194         |\n",
      "|  Coeficiente Silhouette  | 0.4363595681449003 |\n",
      "| Indice Calinski Harabasz | 161.65210529832717 |\n",
      "|  Indice Davies Bouldin   | 0.851439147084868  |\n",
      "+--------------------------+--------------------+\n"
     ]
    }
   ],
   "source": [
    "# Desempeño del modelo con el Coeficiente de Silhouette el Índice de Calinski-Harabasz y el índice de Davies Bouldin Score\n",
    "\n",
    "# Preparación de la metrica de la columna Grupo\n",
    "Observaciones = len(Datos)\n",
    "X = Datos.drop('Grupo', axis=1)\n",
    "clusters = Datos['Grupo']\n",
    "\n",
    "# Se calculan las métricas\n",
    "sil_score = silhouette_score(X, clusters)\n",
    "calinski_score = calinski_harabasz_score(X, clusters)\n",
    "davies_score = davies_bouldin_score(X, clusters)\n",
    "\n",
    "# Se crea una tabla para mostrar los valores de las métricas\n",
    "table_data = [\n",
    "    [\"Numero de Observaciones\", Observaciones],\n",
    "    [\"Coeficiente Silhouette\", sil_score],\n",
    "    [\"Indice Calinski Harabasz\", calinski_score],\n",
    "    [\"Indice Davies Bouldin\", davies_score]\n",
    "]\n",
    "\n",
    "# Imprime la tabla\n",
    "from tabulate import tabulate\n",
    "print(tabulate(table_data, headers=[\"Metric\", \"Value\"], tablefmt='pretty'))"
   ]
  },
  {
   "cell_type": "markdown",
   "id": "856af256-0d5d-4a8d-9b98-c4a6046d1464",
   "metadata": {},
   "source": [
    "6. Realizar las diferentes gráficas que permitan visualizar los resultados del modelo"
   ]
  },
  {
   "cell_type": "code",
   "execution_count": 138,
   "id": "626ef0ba-167d-4f54-99c5-10dd5eb92ea9",
   "metadata": {},
   "outputs": [
    {
     "data": {
      "image/png": "iVBORw0KGgoAAAANSUhEUgAAAjsAAAHFCAYAAAAUpjivAAAAOXRFWHRTb2Z0d2FyZQBNYXRwbG90bGliIHZlcnNpb24zLjguNCwgaHR0cHM6Ly9tYXRwbG90bGliLm9yZy8fJSN1AAAACXBIWXMAAA9hAAAPYQGoP6dpAADMnUlEQVR4nOzdd3gU1RrA4d/M7mbTe0gIvffeO0hVqiKiomJHsWEXKzYQVOy94VURFelNkF6l9w4htIQQ0tu2OfePJQsh2c2mF877PFzJzNmZb/aG7JdTvqMIIQSSJEmSJEmVlFrWAUiSJEmSJJUkmexIkiRJklSpyWRHkiRJkqRKTSY7kiRJkiRVajLZkSRJkiSpUpPJjiRJkiRJlZpMdiRJkiRJqtRksiNJkiRJUqUmkx1JkiRJkio1mexIUgW0d+9eHnjgAerVq4eXlxdeXl40aNCAcePGsX379rIOr0xMmjQJRVGK/bp79+7lvvvuo06dOnh6euLr60vbtm2ZNm0aCQkJjna9e/emd+/eOV6rKAqTJk0q9piutmTJkhK/hyRVdPqyDkCSpIL55ptvePzxx2nUqBFPPfUUzZo1Q1EUDh06xO+//06HDh04fvw49erVK+tQK7zvvvuO8ePH06hRI55//nmaNm2KxWJh+/btfP3112zevJm5c+c6ff3mzZupXr16ica4ZMkSvvjiC5nwSJILMtmRpApk48aNjB8/nsGDBzN79mw8PDwc52644QYee+wx/vrrL7y8vFxeJyMjA29v75IOt0LbvHkzjz76KP3792fevHkYjUbHuf79+/Pss8+ybNkyl9fo3LlzSYcpSZIb5DCWJFUgkydPRqfT8c033+RIdK42atQoIiMjHV/fe++9+Pr6sm/fPgYMGICfnx99+/YFoHbt2tx77725rnHtkMyaNWtQFIVff/2VZ555hoiICLy8vOjVqxe7du3K9foFCxbQpUsXvL298fPzo3///mzevDlHm4sXL/Lwww9To0YNjEYjYWFhdOvWjX///Tff92Hx4sW0bt0ao9FInTp1+OCDD/JsJ4Tgyy+/pHXr1nh5eREUFMStt97KyZMn873H5MmTURSFb7/9Nkeik83Dw4Nhw4a5vEZew1ixsbGMGzeO6tWr4+HhQZ06dXjzzTexWq2ONqdOnUJRFD744AOmT59OnTp18PX1pUuXLmzZssXR7t577+WLL75w3Cv7z6lTpwr0/Lt27WLIkCFUqVIFo9FIZGQkgwcP5uzZs/m+T5JUEcieHUmqIGw2G6tXr6Z9+/ZUrVq1QK81m80MGzaMcePG8dJLL+X4YC2Il19+mbZt2/L999+TnJzMpEmT6N27N7t27aJu3boAzJw5kzFjxjBgwAB+//13TCYT06ZNo3fv3qxcuZLu3bsDcPfdd7Nz507effddGjZsSFJSEjt37uTSpUsuY1i5ciXDhw+nS5cuzJo1C5vNxrRp07hw4UKutuPGjWPGjBk8+eSTTJ06lYSEBN566y26du3Knj17CA8Pz/MeNpuNVatW0a5dO2rUqFGo9yovsbGxdOzYEVVVef3116lXrx6bN2/mnXfe4dSpU/z000852n/xxRc0btyYjz/+GIDXXnuNm266iaioKAICAnjttddIT09n9uzZOZLJ7O8Pd54/PT2d/v37U6dOHb744gvCw8OJjY1l9erVpKamFtuzS1KZEpIkVQixsbECELfffnuuc1arVVgsFscfTdMc58aOHSsA8eOPP+Z6Xa1atcTYsWNzHe/Vq5fo1auX4+vVq1cLQLRt2zbHtU+dOiUMBoN48MEHhRBC2Gw2ERkZKVq0aCFsNpujXWpqqqhSpYro2rWr45ivr6+YMGFCgd4DIYTo1KmTiIyMFJmZmY5jKSkpIjg4WFz9I23z5s0CEB9++GGO1585c0Z4eXmJF154wek9XL3Xzlz7ngkhBCDeeOMNx9fjxo0Tvr6+Ijo6Oke7Dz74QADiwIEDQgghoqKiBCBatGghrFaro93WrVsFIH7//XfHsccee0zk9aPc3effvn27AMS8efPcflZJqmjkMJYkVQLt2rXDYDA4/nz44Ye52owcObLI97nzzjtzrHiqVasWXbt2ZfXq1QAcOXKE8+fPc/fdd6OqV368+Pr6MnLkSLZs2UJGRgYAHTt2ZMaMGbzzzjts2bIFi8WS7/3T09PZtm0bt9xyC56eno7jfn5+DB06NEfbRYsWoSgKd911F1ar1fEnIiKCVq1asWbNmqK8FYWyaNEi+vTpQ2RkZI6YbrzxRgDWrl2bo/3gwYPR6XSOr1u2bAlAdHS0W/dy5/nr169PUFAQL774Il9//TUHDx4spqeVpPJDJjuSVEGEhobi5eWV5wfdzJkz2bZtGwsWLMjztd7e3vj7+xc5hoiIiDyPZQ89Zf83r2G2yMhINE0jMTERgD/++IOxY8fy/fff06VLF4KDg7nnnnuIjY11ev/ExEQ0TXMax9UuXLiAEILw8PAciaDBYGDLli3Ex8c7vU9oaCje3t5ERUU5bVMYFy5cYOHChbniadasGUCumEJCQnJ8nT13KDMz0617ufP8AQEBrF27ltatW/Pyyy/TrFkzIiMjeeONN9xKQCWpIpBzdiSpgtDpdNxwww0sX76cmJiYHAlF06ZNARwTU6/lrP6Mp6cnJpMp1/H4+HhCQ0NzHc8rEYmNjXV8KGf/NyYmJle78+fPo6oqQUFBgD2h+Pjjj/n44485ffo0CxYs4KWXXiIuLs7pKqegoCAURXEax9VCQ0NRFIX169fnOcE4r2PZdDodffv2ZenSpZw9e7bYlo+HhobSsmVL3n333TzPXz2xvDju5e7zt2jRglmzZiGEYO/evcyYMYO33noLLy8vXnrppWKLSZLKiuzZkaQKZOLEidhsNh555JFi+a27du3a7N27N8exo0ePcuTIkTzb//777wghHF9HR0ezadMmx8qtRo0aUa1aNWbOnJmjXXp6On///bdjhda1atasyeOPP07//v3ZuXOn03h9fHzo2LEjc+bMISsry3E8NTWVhQsX5mg7ZMgQhBCcO3eO9u3b5/rTokUL528M9vdaCMFDDz2E2WzOdd5iseS6Z36GDBnC/v37qVevXp4xFSbZcdbbU5jnVxSFVq1a8dFHHxEYGOjy/wtJqkhkz44kVSDdunXjiy++4IknnqBt27Y8/PDDNGvWDFVViYmJ4e+//wZwe8jq7rvv5q677mL8+PGMHDmS6Ohopk2bRlhYWJ7t4+LiuPnmm3nooYdITk7mjTfewNPTk4kTJwKgqirTpk1jzJgxDBkyhHHjxmEymXj//fdJSkrivffeAyA5OZk+ffpw55130rhxY/z8/Ni2bRvLli3jlltucRnz22+/zaBBgxy1bmw2G1OnTsXHxydHReNu3brx8MMPc99997F9+3Z69uyJj48PMTExbNiwgRYtWvDoo486vU+XLl346quvGD9+PO3atePRRx+lWbNmWCwWdu3axbfffkvz5s1zzRVy5a233mLFihV07dqVJ598kkaNGpGVlcWpU6dYsmQJX3/9dYF7kbKTlqlTp3LjjTei0+lo2bKl28+/aNEivvzyS0aMGEHdunURQjBnzhySkpLo379/gWKRpHKrzKZGS5JUaLt37xb33XefqFOnjjAajcLT01PUr19f3HPPPWLlypU52o4dO1b4+PjkeR1N08S0adNE3bp1haenp2jfvr1YtWqV09VYv/zyi3jyySdFWFiYMBqNokePHmL79u25rjtv3jzRqVMn4enpKXx8fETfvn3Fxo0bHeezsrLEI488Ilq2bCn8/f2Fl5eXaNSokXjjjTdEenp6vs+/YMEC0bJlS+Hh4SFq1qwp3nvvPfHGG2/kuSrpxx9/FJ06dRI+Pj7Cy8tL1KtXT9xzzz15xp2X3bt3i7Fjx4qaNWsKDw8P4ePjI9q0aSNef/11ERcX52jnzmosIYS4ePGiePLJJ0WdOnWEwWAQwcHBol27duKVV14RaWlpQogrq7Hef//9XPFce02TySQefPBBERYWJhRFEYCIiopy+/kPHz4s7rjjDlGvXj3h5eUlAgICRMeOHcWMGTPcen8kqSJQhLiqr1mSJCkPa9asoU+fPvz111/ceuutZR2OJElSgcg5O5IkSZIkVWoy2ZEkSZIkqVKTw1iSJEmSJFVqsmdHkiRJkqRKTSY7kiRJkiRVajLZkSRJkiSpUpNFBQFN0zh//jx+fn5Oy+pLkiRJklS+CCFITU0lMjIyx+bD15LJDvY9e2rUqFHWYUiSJEmSVAhnzpxxWX1cJjuAn58fYH+zimNnaEmSJEmSSl5KSgo1atRwfI47I5MdruwI7e/vL5MdSZIkSapg8puCIicoS5IkSZJUqclkR5IkSZKkSk0mO5IkSZIkVWoy2ZEkSZIkqVKTyY4kSZIkSZWaTHYkSZIkSarUyjTZWbduHUOHDiUyMhJFUZg3b16O80IIJk2aRGRkJF5eXvTu3ZsDBw7kaGMymXjiiScIDQ3Fx8eHYcOGcfbs2VJ8CkmSJEmSyrMyTXbS09Np1aoVn3/+eZ7np02bxvTp0/n888/Ztm0bERER9O/fn9TUVEebCRMmMHfuXGbNmsWGDRtIS0tjyJAh2Gy20noMSZIkSZLKMUUIIco6CLAXBJo7dy4jRowA7L06kZGRTJgwgRdffBGw9+KEh4czdepUxo0bR3JyMmFhYfzyyy+MHj0auLL1w5IlSxg4cKBb905JSSEgIIDk5GRZVFCSJEmSKgh3P7/L7ZydqKgoYmNjGTBggOOY0WikV69ebNq0CYAdO3ZgsVhytImMjKR58+aONnkxmUykpKTk+FOaNGHjUPIK/jj1BF8dHc73x0ezPu4bUiwXSjUOSZIkSboelNtkJzY2FoDw8PAcx8PDwx3nYmNj8fDwICgoyGmbvEyZMoWAgADHn9LcBNQmrCw6+wbLY6ZyIesIZi2ddOsldiX8za9RDxKbebjUYpEkSZKk60G5TXayXbvfhRAi3z0w8mszceJEkpOTHX/OnDlTLLG6Y2fCX0Sl/weAQHMcF2hYNRMLz76GTVhKLR5JkiRJquzKbbITEREBkKuHJi4uztHbExERgdlsJjEx0WmbvBiNRsemn6W5+acmbOxOmAvkPU1KoJFhS+RE6ka3rpdsPs/OhNn8F/8Lx1LWyiRJkiRJkvJQbpOdOnXqEBERwYoVKxzHzGYza9eupWvXrgC0a9cOg8GQo01MTAz79+93tClP0q2XyLAluGyjoiMm86DLNlbNzLLzU5hx8h42xH3D1vhfWXL+bb4/PppTaVuLM2RJkiRJqvD0ZXnztLQ0jh8/7vg6KiqK3bt3ExwcTM2aNZkwYQKTJ0+mQYMGNGjQgMmTJ+Pt7c2dd94JQEBAAA888ADPPvssISEhBAcH89xzz9GiRQv69etXVo/llOJmbqkqOpfnl8dM5XjqOgAEAoF9mX2WLZUFZ19jVK2PqOrVtGjBSpIkSVIlUabJzvbt2+nTp4/j62eeeQaAsWPHMmPGDF544QUyMzMZP348iYmJdOrUieXLl+Pn5+d4zUcffYRer+e2224jMzOTvn37MmPGDHQ61wlDWfDRhxDoUZ0ks/Oihxo2avq0c3o+Puskx1LXOjkrAMF/8b8wosaUogUrSZJLNptGRroJo6cBD48y/VFa6WmaID0tS77XUqGVmzo7Zak06+wcSFrKv7Ef5nlOQUeQR3XuqvMdipJ3L9Dmiz+x7dIsR2+OM480mIdR51vkeCVJyiklJZM/ftnEkgW7SEvNQlUVuvVqxJ1ju1O/YURZh1eppKZk8sevm1k8f2fO9/qe7tRvJN9rqRLU2amsmgYMol3wbYA9ueHy3wD8DKEMr/6u00QHIMuWhoLr1WgAZi2jyLFKkpRTclIGTz70E7N/30JaahZg73XYtO4ITzz0E7u2R5VxhJVHSnIGTz48g79mbs7xXm9cd5QnHvqJndtOlnGEUkUik51SpigK3as8zOhan9MkoD8Rno2p6d2WvhHPcFed7/H3cP3bSoBHVbR8enX0ihEvXWAxRi1JEsAPX60i5nwimpazQ9xmE9isGpPfmIfVKreqKQ4/fr2a82cTcr3Xmk3DZrO/1xaLfK8l98jBzzIS4dWYCK/GBX5dE//+bIz7Hg1rnucVdDQNGIhe9ShqiJIkXSU93cS/y/ah2ZyUjhCCpMR0Nq8/So8+TUo5usolI93E8qV7cyU62YQQJCdlsGn9EXrdIBdjSPmTPTsVjJc+gJ7hj17+KudwloKKjz6YjqF3l35gklTJxZxLzLcnQadTOXXyYilFVHnFxiRhMefzXuvley25T/bsVECtgobjpQtgS/zPJJrt1Z9V9DT07033Kg/how/K5wqSJBWUp6ch3zZCCDyM8sdqURndea81gVGuzJLcJL9TKqiG/r1p4NeLJMs5LFom/oYIPHV++b9Qkq4D6ekmzp6+hIeHnpq1Q9Hpit6JXa1GMNWqB3PurPPCoJom6NqjUZHvVViZGWbOnL6ETqdSu04YOn3F7LyPrBZE9ZohnDtzCWfrhTVN0KVn2b3XUsUik50KTFEUgjyql3UYklRupKZk8v1Xq1ixdK9jGCQ0zI877unG0Fva5buvniuKonDX/T2Y+tb8PM+rqkKXHg2pUSuk0PcorIx0Ez9+s5plC3djMtnn8wUF+3DbmC7cMroTqlr45y4LiqJw9/09mDJpXp7nVVWhU7cG1KodWrqBSRWWTHYkSaoU0tNNPP3o/zgTHZ9jYmv8xVQ++3AZcRdSeHD8DUW6R79BLbgUn8oPX6+2z5hT7IUgbDaNth3q8OJrw4t0/cIwmSy88NRvHDsck+O5ExPS+eazfzl/LpEnn7ux1OMqqhsGNOdSfCrff7nKfuCq97pN+9q89Hrpv9dSxSWLClK6RQUlSSoZv/60nl9+WOd0BQ/A9zMfKZbegItxKSxfvIdz5xLx9fWkT/9mNG4aWaSeo8Ka88d/fP3pCqfDPQCf/3A/jZpEll5QxSj+Ygr/LLK/1z4+Rvr0b0aTZtXK5L2Wyh93P79lz04pEELjdPoO9icvJcUcg5c+iCYB/ajv1wOdkv9EPEmS8rdo7g6XiY5Op7Js4W7GPVH0ffPCqvgz5r4eRb5OcVg4dweufmPV6VSWLthVYZOd0LDy815LFZdMdkqYTVhZeu4dTqRtQEFFoKGYVKLTtxJmrM/NNafipQso6zAlqUKz2TQuxafl2ybmfGIpRVR6LsQk4yrbsdk0zp2tfM8tSQVRMafqVyBbLs7gRNpGAARajv/Gm06y/PzUMotNkioLVVXyXa6s06n4+XmWUkSlx8fX6PK8qir4B3iVUjSSVD7JZKcEWbQs9iTOx9mvXQKNU+lbSXSxC7okSflTFIW+A5qj0zmfx2GzafTp38yt61ksNrZuPs7Kf/ZxcN9ZSmJqY3paFhvWHmbV8v1FKo7Xd2ALl6utNE24/dySVFnJYawSFJd1DIvIzLfdmfSdcgm5JBXRqDFdWL1iPyaTNdfcHVVVaNaiOq3b1cn3Ogvn7OCnb9eQmnLl3271GsFMePEmWrWtXeQ4bVaNH79Zzby/tmE2X9n2pVmL6jz3ylCq1yzY0vVbRnfkn8V7yEg35X5unUK9+uF06dawyHFLUkUme3ZKkBDubFKnOIa1JEkqvOo1gnn/s7sJDbMX19TpFEePR8cu9Xn7/dH51puZ88dWPv1gaY5EB+Dc2QRefGom+/eeKXKc06cu5q+Zm3MkOgCHDp7jqXEziLuQXKDrVQkP4MMv7iaiaiBgT3Cyn7NV29q89/GdFba4oCQVF7n0nJJbep5lS+X747dhExaX7e6o/RVVPBsU230l6Xpms2ns2HqS40djMRj0dOpan5puLDdPTzcxeshHjqJ811JVhcbNqvHJN/cWOrYTxy7wyNjvnJ7X6RQGj2jHE88OKvC1NU2we0cURw7FoNertO9Ujzr1qhQ6VkmqCOTS83LAU+dHE/8BHEhemmfvjYKOcM+GlTbRsWpmDqUsZ1/iQpItMRhVX5oE9Kdl0HB89MGFumaaJZ7diXM5krIKs5ZOoEc1WgYOp3FAP3SK/HaW7BORO3apT8cu9Qv0uo1rDztNdMCeTBzcd5aYc4lUrVa4/edWLN2LTqdis+Xdm2uzCf5ZvIfHnh5Y4KrHqqrQtkNd2naoC8DB/Wd557U57NwWBULQsm0tbrmtIy3b1CpU7JJUkclPhxLWo8o4LpqOcyHrCPZdyu0daQoKPvpgbox8pUzjKykWLYt5Z17ifOZ+sp/brGWw7dLv7EtaxK01pxNsLNgP3YtZJ/j79LOYtQxH8hiXdZx/Yz/gaMoqhlZ/B73qUfwPI10XEi6lu0xEsl26lFboZCcxIS3fyc6mLAtZmWa8fVyvsnJl4ZwdfPrBUnQ6BZvNfr8tG46xce0RHn68H6Pu7Fzoa0tSRSQHckuYh86bW2t+RJ/wpwgz1sWo+hJoqEbn0PsYU+cb/D0iyjrEErH54k/EZB68/NWVH+4CjSxbKovOTSrQChdN2Fh49vUcic7V1z6TsYttl2YWQ+TS9Sok1DffRAcgJMS30PcIDvHLt/Kvp5cBT6/CJ+1RJ+L49MOlAI5Ex/53+7N9+/m/HDpwrtDXl6SKSPbslAK96kHLoKG0DBpa1qGUCouWyb6kxU4nXgs0Es1nOJexh+o+rd265qn0baRaLzg9LxDsSZxPx9Axsip1JZeebmL96kNcvJBCQKA3PW9oQmCQT5Gv261nI4xGvcs5O02aVSt0rw7AgJtaMvv3LU7PqzqFgYNbFWnjzvl/b0enOu+h0ulU5s/eRpNm1Qp9D6n4ZaSbWHf5+9o/0JuefZoQFFz072vJTiY7UrFLMJ/BKrJctlFQick66HayE5t5EBUdGs5XuJm0VJLNMQQbaxYkXKkCWfD3dr75/F/MJis6vYpm0/jy4+Xcfk9Xxj7Yq0j7JXn7GHlwfF+++OifXOcUxb7C6eHHi7bVRJ16VRg0tDX/LNqday8rVafg5+fF6Lu6Fuke+3afdtlDZbNp7Nt9ukj3kIrX4nk7+eqT5Ziu+r7+6uPljBrTmfse7lPhdq0vj2SyIxU71c3RURWd29dU0Lnc/8dxTcX9a0oVy4qle/nsw2WOr21W+we6zabx208b0Ot13FXEPZRGjOqAwaDjp2/WkJyc4Theo1YIE164iaYtil4Pa8ILNxEU5MOcP7diyrqyUrNZixo89/IQwqoUbUWoTpf/vz932kilY9Xy/Xw8bYnj66u/r2f9bxN6vY6xD/Yqq/AqDZnsSMUu2FgbL10AmTbn9UIEGjV82rp9zZo+bdl66ReXbXz1YQQYqrp9TanisNk0fvx6tcs2s/63kVtu61ikib0Ag0e0ZeCQVuzZGU1qSiYRkYE0apL/juZCCNLTTBg8dBiNzodSdTqV+x/pw+13d2XPrmjMZit16lZxa3m8Ozp2qU901EWnm6LqdAoduxZspZor2c+tN+jwzGfLDiknTRP5fl//8esmRo7uhG8l3OqkNMlkRyp2OkVPm+Bb2XTxhzzPK+iI9GpWoCX3kV7NqeLZgItZJxFOhrLah4xGUeRvrJXRkUPnib+Y6rKNyWTlv03Hi2VrBL1eR7uOdd1qazZZ+fuP/5g/e5tjM9K2Hepwxz3daN2uttPXefsY6dK9+CsbD725LXP++A8hbLmGylDs/zN8ZIci38dqtTH3z23M+2srcRdSAGjZpia3392NDp3rFfn614NjR2K4EOu6iKTFbGPLxmP0G9SilKKqnOQng1Qi2gePpqn/QMCe3Nj/a//NONijBjdVe61A11MUhaHV3ibAEJHjWtnXbhk4jJaBw4sldqn8SUt1PQfM0S7NvXbFxWyy8tKE3/jpmzU5dl3fveMUzz/xKyuW7i3VeADCqwby5tTbMBj0OeZ6qKqCXqfy6ju3UKNWwbakuJbVauP1F/7kuy/+dSQ6APv3nOHlZ35nwd/bi3T964U739eKUvrf15WR7NmRSoSiqPSr+hxNAweyP2kJSeazGHX+NPbvS32/HoWqh+NrCGVMnW85mrqWoymrMNnSCPKoSfPAwUR6y40OK7NIN1dAuduuuMz54z/27829UWj2ENL0KYvo0LlesawWK4gOnevx81+PsXTBLnZui0IIQau2tRg8vC1VIgKKfP3F83ex/b8TuXqOsp/7i4/+oXO3BsVyr8qsamRgvm2EKP3v68pIJjtSiVEUhWreLanm3bLYrqlXjTQNGEDTgAHFdk2p/KteM4RmLapz6MC5POeiKIpCaJgfbdrnv9FncRFCMP/v7S7rRWVXRC7qCqvCCA3z4+4HenL3Az2L/drzZ2/LPUR2jSULdnHvw72L/d6VSWT1YFq2qcn+PWecfF9DULCv20OqknNyGEuSpArhieduxMOoz7UMV1Xty8KfmTi4VJfoZmaY851HhCI4dfJi6QRUSjRNcCb6Ur5tKttzl5THnxmE0WhA1eX83lVUBUVRePblIXL1XDGQ76AkSRVCvQbhfPrtfbTvlPO33KbNq/PB53fRvlPpToo1eOTfMS408PCoXOUQFAUMBtfPpKoKHkY5cOCOOvWq8Nn399Gxc32uXvDXpFk1pn12V4H3eJPyJr8bJUmqMOrUq8K7H95BwqU04i+mEhjoXah5ITarxqmoi9hsGjVqhuDlXfA5ZAaDDv8AL1KSM122C6tSueatKIpC156N2LDmsNPihZom6NazUaHvEXchmYRLaQQF+RBeNbDQ16koatUJ4+33R5OYkMbFuFQCAryui+cuTTLZkSSpwgkO8SW4EHtUaZrg71n/8dfMzSQmpANg9DRw45DW3P9InwIlPWazNd9EB+BiXEq+bSqa28Z0YcOawygKuebu6HQK4VUD6VqIZOfo4Ri+++Jfdu+Idhxr1qI6Dz3el2YtahQ17HIvKNiXoODC770mOSeHsSRJum589uFSvv38X0eiA/ZdxhfM2c7zT/6KyWRx8eqcrBbnW5dkUxR7UlTZNGxcldffHYmHhx5FsRdKzJ5XElk9mPc/vSvfoa5rHTpwjgmPzGDvrtO5jj87/hd27zhVXOFL1yHZsyNJ0nXh0IFzLJq7M89zmiY4eug8SxfsZsQo9wrueXl74OXtQWaG2WkbIeyroiqjrj0b8cfCCaxYto9jh2MweOjp0q0B7TvXK/CEWiEEn0xbgs2q5VqVpGkCRRFMn7KIn/96rEj7n0nXL5nsSE6lWxM5kLSEU2n/oWEj0qs5LYKGEuRR9P2BJKm0LV2wC53O+W7gAAvnbM+V7NhsGv9tOs4/i3ZzMS6F0DA/+t/Uis5dGzj2MXLF6uJ+FZ2Prycjbi16NeYTxy5w4tgFp+eFgJjzSezfc4YWreVGv1LByWRHytPZjD0sOPMKVmFCXN6CMy7rOLsT59I34mmaBd5YxhFKUsGcO5voMtERAmJjcpbuz8qy8PoLf7Br+ylUVUHTBCeOXWDzhmM0bV4t3yEqRYHES2ku20j2RMa9doky2ZEKRc7ZkXLJsCblSnQABDYEGv/GTic283AZRihJBecf4JVvHR4f35ybiH71yXL27LRPls0eXsn+76ED58hvREVVVfz8vAoZ8fXDz81NLn195WaYUuHIZEfK5UDy0lyJztUUVHYlzC7lqCSpaPr0a+Z0J3Cw14bpf+OVat8pyRksX7zH6WuEsP9xlUDZbFqxbExaXFJTMlm/5jCrlu/PtzBgabFYbGRlWfD2cb0Sztvbg3adZCVhqXDkMJaUy+n07U4THbD38ESny43+pIqla8+G1G8YwckTF9BsOb+/VZ2Cj7cxx3yd/XvPYnVjTo6qKghAXJMUqapC2w51adK8WrHEXxQWi43vvljJork7sFy1iqxVm1o8+8oQqkaWzd5Li+bt4Mev15Cakv8S/nse7IXRaCiFqKTKSPbsSLloIv8f8ILKO+lSqpz0eh3vfXwnrdrUAi5vM3G5RH9E1UA+/PIewqr4O9prmnvf46Pv7kpwsH2jT51ORbnc09OtV2NenzyyzFcPCSGY+uY85v21LUeiA7Bv72kmjJtBQhnMK5r31zY+mbbUaaKjqgpcrtb8wCN9uGV0x1KOUKpMZM+OlEukd3NiMg84TWgUdER6NS/lqCSp6AICvZn26V2cPH6BHVtPYrVqNGoaSZt2tXMlJY2aRKKoSq4em2sNuLEld9/Xk61bjhN1Ig6j0UDn7g2oVj24JB/FbYf2n2PtqkN5ntNsgqTEDP6e9R8PPda31GLKSDfx/VernDdQ7IUj736gJz16N8bPX857kopGJjtSLi0Ch7Dj0p9OzwtstA4eWYoRSVLxqls/nLr1w122CaviT/dejdi49kie83ZUnUL7jnWJvJzUdOnekC7dG5ZIvEWxfOlel0vuNU2wdOHuUk12Nq47ginLRQFHAfEXU2nVtlaRE52zZxKY++dW1q8+hNlkpW6DcIbf2p4evZuU6saxUtmSw1hSLv6GcAZFvoSCisKVKqjZf+8Ucje1fNqVVXiSVGomvHAT1WuG2FddZX8uKvYl5RFVA3nulaFlGZ5bEi+luVxyD/aJy64mbxe3xIR0txKNhPiiDa/t2h7Fw3d/w6J5O0hMSCc93cSBvWd459U5vP/OglJ9ZqlsyZ4dKU8N/fsQ5FGL3YlzchQVbBU0gpo+bcs6PEkqFf4B3nz+/f0sXbibpQt3EX8xleBgHwYNbcNNw9vg42PM/yJlLDjUN99iiu4syy/WmEJ83Uo0gkMLv09URrqJSRNnY7VoiKs28Mq+77/L9tG8ZQ0Gj5A/z64HMtmRnArzrEv/qs+VdRiSVKa8vD24ZXTHCjtBtv+NLZ1ukwH2icA3Dm1TihFBt56NMHoanA5lqapCoyaRRZr3tHL5fjLSTU7PKwr8/cd/Mtm5TshhLEmSpEqsSbNq9O7XNM8CiDqdQlCwDyNvL91Ezsvbw+kcIUVRUFWFh5/oV6R7HDpwzmVvlRBwJvqSy73NpMpDJjuSJEmVmKIovPj6cEbe3hkPj5yd+S3b1OLTb+8jKLjww0WFNXxke56ZOJiAQO8cx6vXDGbqJ2No3rJGka6vUxW3lv1nlx+QKjdFXD2YeZ1KSUkhICCA5ORk/P3983+BJElSPoQQZGSYURUFL2/X1YFLS3paFnt2ncZisVKvQQTVa5T98nir1cbeXdGkJGcSERloX/JfDLWJVq84wOQ35jo9nz1U9ul39xX5XlLZcffzW87ZkSRJKkaaJlg8bydz/viPs2cSAHvNntvGdKHnDU3KNDYfX0+69ihfy+P1eh1tOxT/NhDdezcmtIofCfFpeU6G1jTB6Lu6Fvt9pfJJDmNJkiQVE00TTHt7Pp9+sNSR6AAcOxLD26/+zS8/rivD6K4vBoOO9z66k4Ag7ytlA7BXuQa4b1xvuvVqVEbRSaVN9uxIkiQVk/VrDrHyn/25jmf3LPzv+3V06W7fo0sqebXqhPHTrPH8u2wfG9ceJivTQv2GEQy5uW2+RSWlykUmO5KDRcvkSMoqzmccQFEUani3ob5fT/Rq+ZhvIEnl3YK/t6OqitMaMjqdyqK5O5jw4uBSjuz65eNjZPjI9gwf2b6sQ5HKkEx2JADOZexj4dlXMWnpKKiAwsHkf1gf9y0jakwhzLNeWYcoSeXeyeNxLovl2Wwax49dKMWIJEkCOWdHAlLMscw78xJmzb77sEBDYN8dOdOWxJwzz5NlSynLECWpQjAaXf/+qCjg6WkopWgkScomkx2JPUnzsQlLnrucCzSybKkcTPqn0NdPtyYSm3mYRPNZZKUDqTLr0aeJy7ot4nIbSZJKlxzGkjiWsi7PROcKwfHU9bQNGVWg6yaaz7I+7hui0rZg/zEPocZ6dA27nzq+nQofsCSVUzeP6sDSBbswa7Zcib2qKgQEetNvUIsyik6Srl+yZ0fCKpzvH5PNIrIKdM1E81n+OPU4p9L+IzvRAYg3nWTB2Vc4mrK6oGFKUrkXWT2Ydz+8He/LRQR1OtWx1Dkk1I/3P7+7QmweKkmVjezZkQgz1udMxk6nvTsKOqoYGxTomuvjvsGsZeRxTXviszL2Y+r6dkWvyh/8UuXSqm1tfl/wFKtXHODgvrPodCptO9ahW89G6PW6sg5Pkq5LMtmRaBU0nNMZ252eF9hoETTU7eulWxNzDF3lxaylcyJtI438byhIqJJUIXh5eXDTsDbcNKx0dxOXJClv5XoYy2q18uqrr1KnTh28vLyoW7cub731Fpp2pbdACMGkSZOIjIzEy8uL3r17c+DAgTKMuuKp49uZ5gE3Xf7qyuRK5fK3R8eQu4nwauz29VItF3CV6NivrSPZHFPQUCVJkiSpwMp1z87UqVP5+uuv+fnnn2nWrBnbt2/nvvvuIyAggKeeegqAadOmMX36dGbMmEHDhg1555136N+/P0eOHMHPz6+Mn6BiUBSFGyKeJsKrKbsSZnPJfAqAKp4NaBc8mgb+PQt0PaMu/x2UBZpb7SRJkiSpqMr1rudDhgwhPDycH374wXFs5MiReHt788svvyCEIDIykgkTJvDiiy8CYDKZCA8PZ+rUqYwbN86t+5SXXc8TzWeJyzqKip4aPq3x1JVNLBYtCwWl0PNphBDMPDWOeFMUznp4FFQeqD8LH33Z77osSZJ0PdI0wb49p4mPSyEo2IdWbWqj05frAZ9cKsWu5927d+frr7/m6NGjNGzYkD179rBhwwY+/vhjAKKiooiNjWXAgAGO1xiNRnr16sWmTZucJjsmkwmT6coKpJSUsi2Yl2K5wIqY9zmbsdtxTEVPi8AhdK/ycKlv12BQPYv0ekVR6Br2AAvOvuK0Teugm2WiI0mSVEY2rT/KF9OXEXfhyudfULAPjzzZnxsGNC/DyEpGuU52XnzxRZKTk2ncuDE6nQ6bzca7777LHXfcAUBsbCwA4eE5N3QLDw8nOjra6XWnTJnCm2++WXKBF0CGNZE/o58iw5qY47iGlT1J80m1XmRItUkoivNCZeVRHd9O3Bj5CitjP8aspaOgQ6ChoNA66Ga6V3m4rEOUJEm6Lv238RiTXvoz1/HEhHSmTJqHEIK+AytXPahynez88ccf/Prrr8ycOZNmzZqxe/duJkyYQGRkJGPHjnW0uzYREEK4TA4mTpzIM8884/g6JSWFGjVqFP8DuGFX4hwyrAlOln0LTqZt5Hzmfqp5V7xvvIb+fajr25UTaRtJNsdg1PlS36+H7NGRJEkqI0IIvvx4+eW/593mq09W0Ktv00pVKqFcJzvPP/88L730ErfffjsALVq0IDo6milTpjB27FgiIiIAew9P1apVHa+Li4vL1dtzNaPRiNFYPuq7HEha6rJ6sYKOQ8nLK2SyA6BXjXJ5uVSpaZpg/ZpDzJ+9nZPHLuBh1NOjTxNuvq0j1WvIxF4qXw4fPM/5c4ku2yQnZbBzWxQdu9QvpahKXrmeiZSRkYGq5gxRp9M5lp7XqVOHiIgIVqxY4ThvNptZu3YtXbt2LdVYCyvTluzyvMBGuvVSKUUjSVJBaJrg/XcW8M6rcziw9wzp6SYSE9JZNG8HD9/9DTu3R5V1iJKUQ0J8mnvtLrnXrqIo18nO0KFDeffdd1m8eDGnTp1i7ty5TJ8+nZtvvhmwD19NmDCByZMnM3fuXPbv38+9996Lt7c3d955ZxlH7x5vXaDL8wo6fPQhpROMJEkFsnTBLv5dtg+wJz7ZNJvAatGY9NJfZKTnvx2LJJWWkDD3Sn6EhFau0i3lehjrs88+47XXXmP8+PHExcURGRnJuHHjeP311x1tXnjhBTIzMxk/fjyJiYl06tSJ5cuXV5gaO80Cb2T7pVlOh7IENpoGDCzlqCSp4jCbrGxcd4SzZy7h7W2ke69GhFcNLJV7//3HfyhK3nMfhBBkZphZuXw/Q29uVyrxSFJ+GjWJpFr1YM6fS3A6ZycwyJu27euUbmAlrFzX2SktZVlnJ8OaxK9RD5JpS8rzfB3fzgyt9naFW40lSaVh07ojvP/uQtJSs9Dp1Mu9K4IBN7XiyedvxMOj5H6fy8w0M6zvNJdtVJ1C3wHNeeG14SUWhyQV1NbNx3n1uVlA3on6xEkjKszyc3c/v8v1MNb1wKJlYLFlOj2fbnG2UkuSrm97dp5i0suzSUvNAsBm0xBCIAQsX7KXj95bXKL3V9X8fwFRUBy7nktSedGxS33efv92wiMCcxwPDfPjlbdurjCJTkGU62Gsis4mrFi0DDxUH1Ql7yV8OxNmY8Pi9BpxpqOcSt9GXd/OJRWmJFVIP3+/DoW8a3QLIfh32T7uur8H1aqXzIooo9FAk+bVOHzwPELLu4PcZtNo26FuidxfkoqiU9f6dOj8GAf3n3VUUG7eqmalTc5lslMCEs1n2RY/kyOpq9CEFYPiSZOAgXQIuQNfQ2iOtodTVuaz9FzlaMpqmexI0lUSE9LZt/u0yzaqqrDm34OMubd7icUxekxXJk38K89ziqoQEupL997ub6IrSaVJVRWatyybGnOlrXKmcGXoYtYJfj/1KIdTVqIJKwAWkcW+pIX8fupRUsyxOdqbtQyX1xNomGyVawmgJBVVelpWvm1UVXGrXVF06FyP8IiAPM8JTTDslvYYDJWnMJskVVQy2SlGQgiWnZ+MVTMhsOU8h0amLZlVFz7Jcdzf4Lz4IdiXngd6RBZ7rJJUkYWE+qHPJ4mw2TSqVgsq0Tjm/PFfjr2FrvW/79eSlJheojFIkpQ/OYxVjGKzDpFgdr4nl0AjOn0bKeZY/D3s1Z9bBg5lw8XvcbY7uMBGs4AbSyLcCkETNk6lbSUqbTNWYSbMWI8mgQPw0uX927R0ffDy9qDvgGb8u2wfNpuTfzsC/v59Cxdjk7nrgZ7FvjJLCMH8v7fjakGrzSb4Z/EeRt9V/EVOExPSWLZoD9FRF/H08qB7r0a07VDXMXHabLKydtVBdu84hQBatKpBn/7N8fQ0FHssklTeyWSnGF0yuVct9ZI5+kqyEzScoylruGg6kefcnbbBowj1vD4nOKZa4ph35iUSzKdR0SEQHGYlm+J/ZEDVF2jo36esQ5TK0L0P92bblpMkJ6U7TXjOnU3k91828dfvW/jgs7to1qpmsd0/M8NM/MVUl20UFU6dvFhs98y2ZMEuPn1/KZoQKNgLrC6et5MGjasy+cPbuRiXwsvP/E5SYoZjwumKJXv57ouVvP3+aJq1uD7maUhSNjmMVYz0iqeb7a7sy2VQPbml5ge0DBqW47ivPoze4U/QPez63B1cEzbmnnmRRPM5+9fYLieDApuwsOz8ZGIyD5ZtkFKZCg3z5/Mf7qfnDU3zXUFitWo8+8SvZGWZi+3+Bg99vvWvFBSMxuL9nXLblhN89N5i+1J7TaBpApvN/ovSiWOxTHx6Ji88+RspyfaSFjab5jifnmZi4oTfuRjnfOhNkiojmewUo1o+7VHz6Swzqn5U9Wqa85jOh97hj/NQg9ncUfsr7qrzPffV+5VWQcOv22KCJ9M2k2g+k2vu0xUq2y/NKtWYpPInrIo/L795M38ufprAIG+XbW1WjRnfri22e6elZtGkWaTLejs2m0a3XsW7GmvmjA1O76nZBMePXiA9LSvH9hWO85rAZLKwcM6OYo1JkpwRQnD2TAKHD54jMaHsFtvIYaxi5KUPoEXgEPYkzcfZHJz2IbejVz3yPOehelHFs0EJRlhxnEzdhILqchuNqLQtCKGhKDJnv975+hpJSnS9shFg49rDPPJk/yLd6/zZBL757F82bzzmtL4OgE6nUKtOGO06Ft8wdHpaFvv3nsm3nau6+JomWL/6EPc/IoeBpZL138Zj/PjNak4ejwNAUaBz94aMe6JfidW/ckYmO8WsR/gjZGmpHElZiYKO7KRHoNEm6FbaBd9WtgFWEFZhwlnCmE2gYRNW9EreyaN0/bBa3asybrE46yl0T8y5RB5/8CfS07PyTHQURUFVFWw2jdp1q/Duh7e7VWnZXSaTtVxdR5KcWbV8P1MmzcsxOiEE/LfpGPt3n+azH+4v1YRHJjvFTKfoGRQ5kXbBozmcsoJMaxK+hjCaBgwk0KNaWYdXYYQa63I8dT2uEh5/Q1WnvWTS9cXDQ49er+ab9FSvEVKk+3z7xUoy0rPQnEyIVlWFAYNb0rNPkxwro4pLQKA3AQHeJCe77sVSFMXpKjFVp1KvoeuSF5JUFFlZFj55fwlAru9DzSZIzzDx3ecrmfTeqFKLSSY7JSTMsy5hnuNK7X42YeFYyjoOp/xLpjUJP0MEYZ71uJh1nFTLBbz1wTQNGEBdv27olML9326ypXEoeQXHU9dj0bII86xHi6ChhHs2dPsaF7KOsi9xIRezTmBQPanv14MmAf0x6nxztGsWOIgt8f9zcSWF1kEjCvUcUuXUtWcj1q065LLNw0/0JTEhnaULd7F103GsNo1mLaozZEQ7atRynQglJ2Wwcd0Rl0NXNpvGvt1nqF2nCo2bVsPXz71FC+7S6VSGjmzHzBkb8pyToyig1+tc9mBpNo3hI9sXa1ySdLWNaw+Tke58MYBmE2zacJTEhHSCgn1KJSaZ7FQCmdZk5px5gXjTCRQUBII40zFOpK13tFFMKqfS/yPCsykjakzBqCvYN9glUzRzTj9Hhi2J7N6Wi6YTHEheSseQu+kSNjbfa2y++DNbL/2Cgs4x8fhc5j62XZrJyJofEGys5Wjrow+hb8TT/Bv7QR5zdxRqerelZdCwAj2DVLk9/+pQ9uw4RXJy3hvr9hvYHLPJythRX5CVZXH8xnnsSAxz/9zKU8/fxOARbZ1e/+KFFJeJTrazpy/x9afLmfnzBt7/7C7q1KtSuAdyYvRdXdnx30n7nlxX/dac3Ys08c2bOXLwPH/8uilHD4+i2IcRho9sX6zziCTpWufPJaLTqY5VgHkRmiDuQnKpJTtyZmclsCxmiqPGj3BanND+TXch6zArY6cX6Po2YWXemZfItCVz9bBSdsKy9dIvHE1Z4/IaR1NWs/XSLzlel32VTFsyc8+8hE3knEfQLHAQt9T4gBrebQD7D3I/fRV6hD3MsBrvoFNkcTTpCk9PD36d+wRdejRE1V0ZPvL18+TB8Tfw6IQBvPzsLEwmS44kQbPZd0r/eNoSDuxzPvnX19/9XhohIDUlk4lPz8RsLt75MZ6eBqZ9dhdjH+pFcIi9R1RRFDp2rc9HX42lR+/GPPBoH15+82bqN4pwvK5OvSq88NowHntm4HW7ylMqHX5+Xnn2POZuV7w9n67Inp0yFJd1jATTaTxUL2r4tMGgehX4Ggmm05xO3+52e4HGsdR1pFri8DO49xvnydSNpFmdF0ZTUNhx6Q8a+vd22mbHpT8dvU55xZRmvcjJ1I008O+V41wNn9bU8GmNTViwXd5UVf6glpzx9PTgram3oWkaSYkZGI16fHztP1D/mrmFrEyL87ksqsJXnyznmZeGULd+7jktEVUDadi4KseOxLqsmpxN0wSX4tPYsOYwNwxoXrQHu4anp4Ex93bnzrHdyMwwY/DQ59iDS1EU+vRvRp/+zS4nd8jKyVKp6d67MV99stzpqkBFUajXIJzIUpygLHt2ykBc1jFmRo3j91OP8k/MFBaee53vjt3G1vhfEcK9VSXZzmTsIrvXw32Csxm73W59OmMnKs73IcoeNjPb8p40abZlEGc65rTXCUBFx+mMnU7P6xQDHqqXTHQkt6iqSnCIryPRAdi57aTLJEXTBEcOxjDunu947IEfiDoRl6vNfeN6k98qwavpdCo7t7lXWb0wFEXB28focrNRo9EgEx2pVIWG+TH81g7k+eNasU9atv9bKj0y2SllCaZoZkc/Q/w1W0tYRCab42ew8eL3BbpeQZOjbFoBXieE5taPd+c1cfK/l6DwzyJJ7nA1f+Bax4/E8vQjP3PubEKO4+071ePVt0fi42t08sprCTRNfl9L159xT/RjxKiOqKqCouCocu7jbeSVt26mY5f6pRqPHMYqZZvjf8YqTE4TgB0Jf9EqaITbQ0wRXk0oyG+a2a6t4uz6Hk05kLzUZZtAQzU81LwnmnmoPgQaqpFkOY+rDU8LEpMkFVSzljXYszParbkEmibIzDIzc8YGnn8150T4njc0oXO3Bmxcd4QvPvqH5CTny8BtNkHTFtWLHLskVTQ6ncr4CQMYfVcXNqw9QlpqFlUjA+nWqxFGY+n3NMqenVJktmVwInWDy54OBYXDKf+6fc0Ir8ZU8WyI4ub/lQo6ani3Idjo/oaIjfz7YFR9Xd6jTfBIp0NMiqLQJngkzhIdBRWj6is39pRKxJ5d0Ux66S/m/rHVrUQnm2YTrFq+H3MeBfg8jHr69G/msgpx9hBT3wEtChW3JFUGIaF+DB/ZnjH3dueGAc3LJNEBmeyUqixbSr5DOgoq6dYEl22udVPka3jrg1DymbujoOBnCGNA1RcLdH2D6snQ6m+jUww5Ep7svzf270eLwCEur9EicAiN/fvleF3233WKgaHV38aglt7MfOn68Odvm3nusV/YsvEY6emmAr/eatVIS8tyen7QkNYMGNwKIEcBQVWnYDDoeGvqKLy8ZeFLSSprchirFHnq/HPUmMmLQMNHX7AqrwEeVRlT51v2JS7iUPJyMm3J+OmrEGysSbzpFOnWeLz1QTQLGETzwMG5Cvi5o5p3C+6q8z17EudxLHUdVi2LUM+6tAwcTn2/7vnuT6UoKgOqvkBd367sTZpPfNZJ9KonDfx60ipoBAEeVQsckyS5cnDfWb77YiVQsPk6V9MbdPj6Ok/CVVXhuZeH0KV7A+bP3saJY3EYjXp69GnCiFvbl+pqE0mSnFOEO2soK7mUlBQCAgJITk7G39+/RO+15NzbHE9d77SHR0Hhvnoz8TOElWgcklTZTX5jLutWHXKa6Kiq4nJYS6dT6TeoOc+9IotXSlJ55e7ntxzGKmVdQu9Frxqdzn9pG3ybTHQkqRjs33PGZY+OpgmnRc1UVcHTy8CYe3uUVHiSJJUimeyUsiBjDUbV/IQwz5zL7jxUb7qGPUC3sAfLKDJJqlyurqLsTFi4P/c82BMvr5yTJhs1jeSTb++jarWgkgpPkqRSJOfslIEwz7rcUftLLmadJNF8GoPqRQ3v1uhVd2t3SJKUn45d6rN4/k6XO5R37Fqfu+/vya13dGbvzmiyTBZq1Q6jdt3K27ualWXBarHh42u8rop0mkwWLObr77klO5nslCH7zuhyQz5JKgnDb+3Akvm7QBG5qh4oCuj0KkNHtAPAy8uDTt0alEGUpWfblhPM+mUje3edBqBKuD8jRnXk5ts6oNc7r8Bc0e3ecYrf/7fRUck6JNSX4bd2YOToTngY5Ufg9UJOUKZ0JyhLklR61q85zLuvzUEI4ZiMrKoKer2OSe+NokPnemUcYelYOGcHn36wNNekbEWBdh3r8fb7t1XKhGfF0r1Me3tBHs+t0Lxldd77eIxMeCo4dz+/ZbKDTHYkqTKLi01m8fyd7NkZjaIotO1QhxuHtSE0zK+sQysVcbHJ3H3r505XnikKPPbMIIaPbF/KkZWspMR07hj+CVark5WvisL943pz+z3dSjkyqTi5+/ktU1pJkiq1KhEB3Dfu+q3OvWThrnzbzPtrW4VNdjIzzKxcvo+D+86iqiptO9She+/GLF+yF5uT+Vpg34xy/t/bGX13VzmH5zpQ4GTn1KlTrF+/nlOnTpGRkUFYWBht2rShS5cueHrKCriSJEnlyakTF13WExICzp6+hKaJHFWgK4I9O0/xxot/kZ5uQqdTAIV/Fu8hJNSXBo2qoqggnNdwJf5iKpkZZrx95OKQys7tZGfmzJl8+umnbN26lSpVqlCtWjW8vLxISEjgxIkTeHp6MmbMGF588UVq1apVkjFLkiRJbjJ66vMtoKg36KhonRsx5xJ5+dlZWMz2bMbei2N/xsSEdHZui7q8hY7z51YU+7NLlZ9bdXbatm3L9OnTueuuuzh16hSxsbHs2LGDDRs2cPDgQVJSUpg/fz6aptG+fXv++uuvko5bkiRJckPXHo3yrRTdvVejCjeUM/evbVitNvKadqppArPZ6rKopKoqtO9UDw8POZvjeuDW/8tvv/02gwcPdnreaDTSu3dvevfuzTvvvENUVFSxBShJkiQVXteejahWI5jY84lO5rAIRt3ZpdTjKqr1qw85raGUzdPTgMVizfO5hRDcfnfXkgpPKmfc6tlxlehcKzQ0lA4dOhQ6IEmSJKn4GAw6pn0yxrEpqU6notOpKAoYjXpef/dWGjaueBvxmkzWfNtUrR5E7bpVgOznVlAU+470L70xgpZt5JSL60WR++80TSM6OpqaNWui08mxT0mSpPKmSkQA3/06ju1bTrB54zEsZisNGlel/6AW+LjY1b08q9cgnL27op0O0el0Ko2bRjLhhcHs3HaSTeuOYjJZqFs/nP43tcTf36uUI5bKUoGSnblz52KxWLjtttsAOHnyJDfccAOnT58mLCyMxYsX0759xVy+WN6kWC6wL2kRZ9N3A1DDpw3NAwfjbwgv28AkSaqQdDqVTt0aVJpK0cNvbc/uHaecnrfZNIbe3M4xN6d9p+ujgKSUtwJtBPr+++9jsVgcX7/22ms0adKEvXv3MmzYMJ555pliD/B6dDx1Az+fGMuOS38Qm3WI2KxDbL80i59PjuVE6sayDk+SJKnMdevZiIGDWwHkWEmWvXx+7EO9aNCo4g3PSSXDrZ6d06dPI4Tg+PHjBAUFOb5etmwZ3377Lf7+/jz88MP069eP06ft+67UrFmzRAOvrBLNZ1l67m00chaHEGgIobHk3NvcXfdHAj0iyyhCSZKksqcoCs9MHEKzltX5+/f/iD4VD0CjJpGMGtOFHr0bl3GEUnniVrLz008/AZCRkcHSpUvZtm0bZ8+exWQyceDAAfbv34+maWRmZjJjxgwAXn/99RILujLbm7gA4aIuhEBjb+J8eoY/WopRlW+asHE2YzcZ1iR8DaFU82qBohSo01KSpApIVRVuHNqGG4e2ITPTjE5V5V5XUp4KtDdW+/btGTJkCJMmTeL555/nwIEDLFmyBICoqCh69uzJmTNnSizYklKe9sb6+cS9JFnOumwT5FGDe+r+VEoRlW+Hk1eyPu5rMmyJjmN++nB6RzxBXd/OZRiZJEmSVNJKZG+sF198kTvvvJP33nsPVVVZsWKF49z8+fPp3r174SOWABC4qG2e3UY4L5R1PTmUvILlMVNzHU+1xrHw7GsMq/4OdXw7lUFkkiRJUnlSoGRn1KhRtGrVin379tGuXTtq167tONekSRNuvPHG4o7vulPNqyUpljinSY+CjmreLUs5qvLHJiysi/vayVkBKKy78CW1fTpWuMqwkiRJUvEq8OBm7dq1adiwYa7jAwcOJD4+vliCup61Ch7BwZR/nJ4X2GgVNKL0AiqnTqfvIMuW7KKFIMlyjgtZR4jwkhMVJUmSrmcFnsV52223oWm5h1EuXLhA7969iyOm61oVzwb0Dn8csPfiZMv+e+/wJwjzlPUi0q0JbrXLcLOdJEmSVHkVONmJiYnhgQceyHEsNjaW3r1707ix/A26OLQKGsFttT6lvl8PvHQBeOkCaODXg9tqfUqroOFlHV654KMPdrNdSAlHIkmSJJV3BR7GWrJkCT179uTpp5/mo48+4ty5c9xwww20atWKWbNmlUSM16WqXk2pWq1pWYdRbtX0aY+nLsDFUJZCkEc1qnjmHnKVpOuBEIKD+8+yZ2c0QkCLVjVo0bqmnMMmXZcKnOyEhITwzz//OFZeLV68mLZt2/Lbb7+hqrK2iVQ6dIqeXlXG80/MlDzOKihAzyrj5Q926boUF5vMpIl/cexIrL2isAKaTVC7bhhvvjfKsSmoJF0vClRn52rHjh2je/fu9O/fn19++aVCf6iUpzo7UsEcSVnN+rivSbdechzzN1SlT/gT1PbtWIaRSVLZyEg38fA93xIfl4LNlvPHu06nEBDow3e/jZMbYUqVQrHW2QkKCsozmcnIyGDhwoWEhFyZF5GQICeESqWnkX8fGvj15FzGPjJtifjqw6jq1axCJ9+SVBQrlu3jQmwyeRVit9kEiQnpLF2wi9F3dS394CSpjLiV7Hz88cclHIYkFZ6q6Kjh07qsw5CkcmHVP/tRyDPXAexzeVb+s08mO9J1xa1kZ+zYsSUdhyRJklQMUlIyyG9yQmpKVukEI0nlhFszitPT0wt00YK2lyRJkopH9Zoh9knJTqiqQrUacoKydH1xK9mpX78+kydP5vz5807bCCFYsWIFN954I59++mmxBSiVHouWyf6kxSw/P40VMe9zOPlfrJq5rMPK15EzcXw4ey2v/LSUT+euJypWzhuTrl9DhrdF05x37WiaYOjN7UoxIkkqe26txjpy5AivvvoqCxYsoHXr1rRv357IyEg8PT1JTEzk4MGDbN68GYPBwMSJE3n44YfR6XT5XbbckKux4FzGPhaefRWTlo6CCigIbHjrghlRY0q5rNpssdmY9PNylm47jE5VLu+IBTZNMLp3a54f1dvlb7iSVBlpmmDy63NYt/pQruEsRVHo0KUeb029DZ1OlgqRKj53P78LtPT87Nmz/PXXX6xbt45Tp06RmZlJaGgobdq0YeDAgdx0000VstbO9Z7spJhj+SXqAWzCgiDnViAKKkadL2PrzsBTV77em/f/XM2sNbudzk8YP6wrD94odz2Xrj82q8asXzYy58+tpCRnAuDr58nwW9sz5t4eGAwV55dRSXKlRJKdyup6T3bWx33DroS/cyU6Vyj0CHuYtiGjSjUuVxLTMhn40rdYbc5iBl9PD5ZPHYenR+55+OlZZqIvJKDX6ahbNQTNYuX0oXMIIajVtDoenh4lGX65YbHaOBlzCZsmqFM1GC8PQ1mHJBUji8XGmeh4hIAatULwyOPfgiRVZMVaZ6csnTt3jhdffJGlS5eSmZlJw4YN+eGHH2jXzj7mLITgzTff5NtvvyUxMZFOnTrxxRdf0KxZszKOvOI4lrLORaIDIDieur5cJTtbDka7THQA0rLM7Dl5nk6Na145lmnis3kbWbB5PyaLDWwaIQcu4LH3POZ0EwA+Ad4Mf2wQd71+K4ZK+uFv0zR++mcbv63cSXK6fWWOt9HAyB4tGT+sK0ZDuf/RILnBYNBRt354WYchSWWuXI85JSYm0q1bNwwGA0uXLuXgwYN8+OGHBAYGOtpMmzaN6dOn8/nnn7Nt2zYiIiLo378/qampZRd4BWMVpnzbWET5WqpqslgL3C7TZOHhj2bz94a99kRHCPxWHEFsjnIkOgDpyRn8PmUub976ITabrdhjL2tCCF6f8Q9fLdjkSHQAMkwWflu5kyc+n4ulEj63JEnXr3Kd7EydOpUaNWrw008/0bFjR2rXrk3fvn2pV88+WVYIwccff8wrr7zCLbfcQvPmzfn555/JyMhg5syZZRx9xRFmrH95UnLeFHRUMTYoxYjy16BaaL5tFKBe1SvVvf9at4cjZ+McK1U8TiXgEZ1IXlOYhRD8t2gHm+ZtK6aIy4+th0+zdNvhPIvOaUKw/ehZlm49XOpxSZIklZRy3Ve9YMECBg4cyKhRo1i7di3VqlVj/PjxPPTQQwBERUURGxvLgAEDHK8xGo306tWLTZs2MW7cuLIKvUJpFTSc0xnbnZ4X2GgRNLQUI8pf01rhNKwexvHz8Xkus9WpCh0b16RaaIDj2F/r9uaYzGw8eAGhgOJk1pqqU1n07Qp6jOzsMhZN09i2dBfLflzFheh4AqsG4tOnMZsvXSIhNRMPg46eLery9K09CfL1LtTzFqc5G/ejUxVsTpYnq4rC3+v2MqyL66FgIQQ7/93L0h9Wcv74BQKq+NNvTE963NoZD2Pew39xZ+JZ/M0Kdq3ajxCC1r2bMeSRAYTXCivyc0mSJDlTrpOdkydP8tVXX/HMM8/w8ssvs3XrVp588kmMRiP33HMPsbGxAISH5xyTDg8PJzo62ul1TSYTJtOVYYuUlJSSeYAKoo5vZ5oH3MT+5CVwVaF5BRWBRseQu4nwalymMV5LURTevncQD3z4J5kmc44Pbp2qEOjrxSt39s3xmpiEnP8/65IznSY6AJpN49yxGJdxmE0W3hz5PluX7ELVqVhtGsmjWqEdOwVCgKKQZbGy6L9DLN12mO+fvY1WdSML/LzFKfpCotNEB+y9O2fik11ew2qxMuWuT1n312Z0ehWbVUNVFbYv282f789n2r+vExCac7Lg5oXbeWvUh2g2De3yfKuj208we/pCXv79aXrcIlfOSZJUMgo1jLV+/XruuusuunTpwrlz5wD45Zdf2LBhQ7EGp2kabdu2ZfLkybRp04Zx48bx0EMP8dVXX+Vod+2mj0IIlxtBTpkyhYCAAMefGjVqFGvcFY2iKNwQ8TT9Ip4jxKOW43gVzwbcFPk6XcLK53YhDaqFMnPinQzr0gwPvX0prbfRwG29WjPz5TFEhgTkaO97zQor4al3un9QNv9gX5fnv3/xV7Yt2w3Yk6O0fg3Rgn3sJ6/5HrRpgkc+no2muZ5YXdICfDyvDS0XPy+jy/O/vj2b9bO3APZlzoCjh+3UgTNMHvNJjvYxJy/w1q0fYLVYHYkO2N8zq9XGu7d/xJkj5wr6KJIkSW4pcLLz999/M3DgQLy8vNi1a5ejhyQ1NZXJkycXa3BVq1aladOmOY41adKE06dPAxAREQHg6OHJFhcXl6u352oTJ04kOTnZ8efMmTPFGndFpCgKzQIHcVfd7xnfcBGPNVzM7bW/oIF/z7IOzaXqYYG8dld/Nn7yOOumj2fd9Md4/rbehAXkTlIGd2qC7qoig6YGVVxeW1EU+t3Vy+n59OR0Fn+7AnH5Q14DLHVCcLUxkcliY9aaPfk8VcmJibpAXfQu905SFYUhnZs4PW/OMjP306U4q1qh2TR2rthL9MEr/64WfvWPPRnK6yXC/j8LvvjHrWfQNMGOY2dZsvUQWw7lvypPkiSpwMnOO++8w9dff813332HwXBlXL5r167s3LmzWIPr1q0bR44cyXHs6NGj1Kpl732oU6cOERERrFixwnHebDazdu1aunZ1vqOv0WjE398/xx/pCoPqiV51/Zt9eaNTVXy9jC4rJo/p2w4vD4OjjalRGJqvEZHHS3R6lbAaIQy8r7fT6x367zjmLIvja2ukH6hKrh6da/2786jL8yUhITaRVwZP5p76j7Pi+d9REzPAyVynIF8vbu3R0um1ju+KIiMlw+X9FEVh18r9jq+3Ltudo0fnWjarxtZlu/J9jg37oxj2+o88NP0vXv1pGeM/ncOgid+yaMvBfF8rSdL1q8DJzpEjR+jZM/dv+/7+/iQlJRVHTA5PP/00W7ZsYfLkyRw/fpyZM2fy7bff8thjjwH2H6gTJkxg8uTJzJ07l/3793Pvvffi7e3NnXfeWayxSBVfZIg/3z0ziqrB9uRW9TSQOrwFthD7sJOqU1Evl9Cv06IW09e+hU+Aj9Pr5frwdrN6uKt9i0pCenI6T/d4je3L94AAxaYRsOgA+guXyzMI4UgAa4cH8/2ztxHk53witaukxUHJ2U6z5r+U3ZZPm80Ho5nw5fxcc68SUjN5/ed/mLdpv5NXSpJ0vSvwBOWqVaty/PhxateuneP4hg0bqFu3bnHFBUCHDh2YO3cuEydO5K233qJOnTp8/PHHjBkzxtHmhRdeIDMzk/HjxzuKCi5fvhw/P79ijUWqHBrVqML8N+/jv8OnORh9AYNepet792M+k8jetfbegZY9m9Ckc0OX874AGrSr65icC6CPSXVMSnalU5OaLs8Xt0Xf/EtMVJxjuA1AzbAQsGA/1lAfLNUC6D+2N0MGd6Bt/Wr5PnedlrXw8DTk6NW6ltAETbs2dHzdsmdTzp+IdbxX19LpVVr1cr76SwjBB3+tQSCcDsF9/Pc6burQGA9ZEFGSpGsU+KfCuHHjeOqpp/jxxx9RFIXz58+zefNmnnvuOV5//fViD3DIkCEMGTLE6XlFUZg0aRKTJk0q9ntLlZOqKnRpWosuTa9MxqZaGE07N3T+ojwEVQmgz+3dWfX7BjSbhmrT0J9PxhoZ4DTh0akKD9zYsSjhA/ZK0HM27GPuxv3EJ6cT4u/NiG7NGdmjZa7JxUt/WJkj0bmaPj4dj8RM2HiCdhNuduvePv7eDLr/BhZ9syLPXh6dXqVuy1o06lDfcWzYY4NY/P2/Tq9ps2oMe2wQcacvMu+zpayetZHMtCxqNIpk2PhBVOvRMN/d7FMyTGw8cIo+reu7bCdJ0vWnwMnOCy+8QHJyMn369CErK4uePXtiNBp57rnnePzxx0siRkkqtx779H6i9kVzYm80CuC37DBJd7ZFeHnk2csz+f6b8NAXrechISWDBz78k9MXEx29HOlZZj6bt5G5G/bzw7O3EXrV8FtibJLL62k2jfizrhOJaz343hiO7TzJof+OoaA4JisrqkJglQBe+/PZHD1EdVvW4skvHuLTx75Dp7vSG5bdMzb+4/tACB5s8QymDLMjiTqy/QTT7v2cOiM7QGj+W3fEJ6cX6DkkSbo+FHoj0IyMDA4ePIimaTRt2hRfX9dLdMuz630jUKlosjJM/PPTahZ/t4KLZy7hHx6AOrgFR82ZZJqt6FSFZrUjeGl0HxrXLPo+Rc98tYD1+0/mWStHpyp0aVqbTx8b4Th2X+OnOHv0vNPrqTqVbjd35PU/ny1QHOYsMyv+t5ZF36wg9lQc/sG+DBjbhyGP9M9VYyfbof+OMffTxez8dx8IQesbmnPzk4Np1KEeY2qPJykuCc2W+7lsoT4kjWyVb0zTHxlG71b1CvQckiRVXCW+Eai3tzft27cv7MslqUJLvJDEutlbSIlPpUqtUPrf04vhjw1y+/VCCPauPcj+jYdRFIXWNzSnSacG+c6XOX8phbV7TzitD2TTBBv3R3H2YhLVwwIBuPGBG/h+4m9Oh7I0m8bAsb3djj2bh6cHN9zZHYPRwIVTF/EL8aXnrZ2dJjoATTo1oMlvE3IdXzd7MwkxifZn8DVirhOMMOjQJWfiEZWAGp+OISULa4Cn0zk7AT6edGtWu8DPIUlS5VfgZCcrK4vPPvuM1atXExcXl6tAWnEvP5ek8kTTNH565Xf++nABmiZQdSo2q43PHv+B8R/dy00P9cv3GmePxTDp5mlEHzyLqldBwE+v/k7D9vWYNOd5wqqHOH3twejYfAshCuDAqQuOZGfwuP4s+X4lMScv5Jpjo6r2RKv9oNb5xn2tZT+t5osnfyAr3YTOoEOzaXz19AxGThjMg1PvQnVzdRrAoS3HUI16krvUxtwwzP4QQoBORcmy4Lv6OJ7rTpA+tDkoeU9SfmZkTwyXi0tKkiRdrcDJzv3338+KFSu49dZb6dixY76/iUpSZfK/N/5k1tR5jq9tmn25tCnDxEfjvsHLz4s+t3dz+vrk+BSe6fkayfH2Zd/aVauTTuyO4rk+b/D17g/w8vHM8/XuJhA63ZV/lz7+3ny0/m0+euhrNi/a7ijspzfoGHBfH8Z/dC86XcGShHWzN/PhA186vrZZ7O+DQPDX9IXo9DoemDLG2ctzUXUqKT3qYq4bYp/npMDl/0EY9aQObIz/wv28c3tfvlyxjbNXbWcRGuDDhFt6cFNH54UQJUm6vhU42Vm8eDFLliyhWzfnP9AlqazZbDbSkzPw8vXE4JH/xFZ3pCam8ecH8x1fC1VBGHQoZqtjj60fX5lJr9u65JmUCCGY88liki6m5DmkZLNqnD95gVW/rWfww/3zjKFN/WroL+/B5YxOVWhbv3qOY0FVAnhr/ovEnopj75Yj6PV62vVulueQkynThMVkxSfAO89fZoQQ/PjK71dvo3ZNA5g9fSGjnhuGf4h7JSCqdqqHKeVi3icVBYRA61GfgT2aM7BHc/aejCE2MZVgP2/HeyJJkuRMgZOdatWqyRo2UrmVeCGJWe/NY+mPK8lMzUJn0NH7tq7c8fIt1GpSPf8LuLBl4Q4sJiu2QC8y2lTDXC8UdCqYbXgeuYDXrnPERsVxYvcpGrS9UnPKYrYw95MlzPt8KRfPXHJ5DwWFlTOdJztBvl4M69KMuRv357ldg32rh6YE++csCqhpgtnr9zJz1U5OxyUB0OxEFPf270Dftg0A2LlyH7OmzGHXKntxvtBqwQx/bBC3PD0kxy7mUftO57tBqtViY9P8bQy6/waX7bKdNQjXNYpUhbRgL5LTswj09aJVvUjyn64sSZJkV+Bk58MPP+TFF1/k66+/dmzbIEnlQfy5SzzR5RUSYhIdc1NsFhtr/tjIhrlbeX/lGzTp1KDQ109NTMNaxZfkIc1Ap1ypmOyhI6tZVUx1QgiYt4+0pCvLny1mC68OmcKuVfudThC+mhCC1IQ0l21u69WK+Zv2k8eiJRTFfv5qmiZ4dcZSlm07wtWpxKHoOJ7/bhHjh3alemw6Hz70VY4eqfhzCfz46u9sX76HyUtfcSQ8qYmu4wP7EvTURPeXgadlme09Vvm8R2mZJgJ9vdy+riRJEhRiu4j27duTlZVF3bp18fPzIzg4OMcfSSorX06YkSPRyWazalhMZqaM+aRIO45XrRtO6g0N7L051w5TqQrC20B61zpE1LmywejCr5aza6V7iQ6Aqlep3jDSZZv3Zq1yugmnEIL3Zq3KcWzFzqMs22bfY+7qV2mXr/HVH2v4aNw3IHJvBSE0wd51B5n/+TLHsap1818+LzRB1XruL7OvHhaILZ8qGB56HSEutu+QJElypsA9O3fccQfnzp1j8uTJhIeHywnKUrmQEJvIhrn/uVheLYg5eYHdqw/Qtm+LHOeyzFaW7zjCjmNnQUDbBtUZ2L4Rnh45/3mo9ULRAlz0KqgqljrB6IOvfCDP+3wpIt/1U1fFadVcrug6GXOJ3Sec18zRBOyLiuXYuXgaVAsF4M+1e1AVxZHcXMvr6EWX+3UJTTDv86WMenYoAPoAbyw1AtGfTXLMVXLc38tAVqMq2EJ9+OPMOfSHounYqKbLDVoBburQmI/+XofFyf5YOlVhcOcmeBXT/CtJkq4vBU52Nm3axObNm2nVSo6YS+XHmcPn8+09UVSFU/tP50h2DpyK5Ykv5pGUlonu8gfywi0H+WTOOj59/Gaa145wtD0Zm+h0Tu6Vmyicik0kLMAXq8VKzIkLbj+DokDv0d1oP8D5v63j5+PdutaJ81eSnaNnLzpNdADU+PyHm+KiL2LOMuPh6UHUhQTSutQmYN4+sNgcCU9Wk3DSu1+eq6TA5kPRbDx4iqa1wvnssREuNxf19/Hk+dt6M3nmyuz5yA46VSHE34dHhnTJ/8ElSZLyUOBhrMaNG5OZmVkSsUhSoRm9PfJtI4TA6HWlXXxyOo9++jcp6VmAvSBfdlXilAwTj37yNxeTr8xP8fTQu9VHY7y8EaWqU9Hp3fsnFhDmz71v38GLvzzhsrfU082eDeNVm2Fe20OVi16FfDpoVVVBZ7AvT/fy0KMFeZN8c0ssNYMQgLlGIOk964Gq2P9c1ZN05EwcE75a4HToLdutPVry/kNDqBNxZThcp6oMaNeI/714B2EBFbdKuyRJZavAPTvvvfcezz77LO+++y4tWrTAYMj5w1dutyCVhQZt6xIUEehyHyhFUeg0uK3j67/X7yUjy5Jnr4cmBJkmC3+v3+foUejevI7L4SCAYD9vmtayz1VRVZUuwzqwecE2p7t9Azzy4ViGPz4IvRu7dTepWSXfNgDNal2ZL9OvbUNmr9uT5/YSAKbawRiPxDm9lqpX6XRTW0ctnkY1qhAW4MNFIHVQE5RMM0Kvc7qayqYJ9kXFsPvEedrUr+Yy7r5tG3BDm/qcuZhEepaZyJAAApzUHJIkSXJXgXt2Bg0axObNm+nbty9VqlQhKCiIoKAgAgMDCQoKKokYJSlfOr2OO1++xel5RVUYMLY3odWuVCdeueuYy8RFE4KVO485vg4L9GVY12Yue14eGNQxR82X0S8Mv5wD5H6NTq9So3E1Rjxxo1uJDsDB6MvDYs7ivnz8QPSV4bM7+rRGr1NR84pBVfBvUZ2aTavn3Qul2OfsjH5hxFWvUXngxk5XbunlAQad82Xjl1+zZs8JF0921S0VhZpVgmhSM1wmOpIkFYsC9+ysXr26JOKQpCIb/tggEmOTmDlljn0JtWKvW2Oz2uh+c0ee/OLBHO2zzNZ8r5lltuT4+qXRfUjLNPHvzmPoVJXsGTyaJrh3YAdu79M6R/vGHRvw6h/P8N7dn2LJsqDqFLgcU/WGkUxZ9iq6AmxxYLJY0cWmoE/IwNQ0wj4jOXtwTVXxOByHLdALk+XKs9WsEsSnj93Ms98sIC3TfHlukoJN0wgL9OWLJ27BbwK8fOO7RO07fTkegWYTGIx6XpjxOM26NsoRx6ieLbmUks73S/6zJ0T5jO8pinvvtyRJUkko9K7nlYnc9bxyiYm6wPIZa7gQfRH/ED/6jumRo8hfthe+W8Tq3cedDu/oVIVererxwcNDc507fCaOpVsPk5iaQdUQf4Z1aUa10ACnMaUlpbPif2s5vjsKD6OBzkPb035gqwJv03DifDwPtngGXVImWoAXWQ3DEN4eKBlmjEcvokvKxBbgybf7ptOgeliO12aaLCzddpi9J2PQ6RS6NKlFr1b1MFyOQdM0dizfw6b52zCbLNRrVZv+9/TCL8j5XJnzl5KZt/EAP6/YhsXFUB3Ay3f25dYeLQv0vJIkSa64+/ldqGQnKSmJH374gUOHDqEoCk2bNuX+++8nIMD5D/vyTCY715fog2dY9PUKthyI4kBD17Whvn5qJB0b13TZRtM0ti3dxbIfV3EhOp7gqoH0v7sX3W7u6PbwlLuObDvO450mIhSw1Awiq3E4mo8HaroZ45E4PKITUAR8suldmnZuWKR7ZZot/LP9CP9sO0JKRha1w4O5pUcL2tavlmtY7ssFm/hx2Vanw4KeHnpWTB2Hj2f+E8klSZLc5e7nd4F/Em/fvp2BAwfi5eVFx44dEUIwffp03n33XZYvX07btm3zv4gklZH5Xyzj8yd/QKdTsVo1PDNrkdWqmn046PLS8+ylz2P6tqVDoxour2c2WXhz5PtsXbILVaei2TRUncp/i3fSuFN93lv2Kj7FWAgv5uQFhF4lZVBjrNUCQdNAVbGFCCy1g9GfT8Z/6SFiT14oUrJzITGVhz+azZmLSY734+jZiyzddpibuzXnlTv75aidc++A9iz4ZwdxNot9ZVd2MqRpgMLTAzvLREeSpDJT4AnKTz/9NMOGDePUqVPMmTOHuXPnEhUVxZAhQ5gwYUIJhChJxWPPmgN8/sQPIOxVlRXAe0s0viuPoku4UmumYbUw3r53EM+M7Jlv0czvX/yVbct2A1eqD2f/9+j2k3z40NfF+gy+Qb6kd62DterlXtTsSs6XEw9rhD9p3evgE1j4BEsIwTNfL+D8peTLX9uPZw/3zd24n5mrd+V4zYY/NmH9bgNe28+gZF6e56QJDKeTCFx4gEVP/YzNlnfBQEmSpJJWqJ6d7777Dr3+ykv1ej0vvPAC7du3L9bgJKk4zZ6+EFWvol01t0QBjMfjMR6PR+hVxr1/D6OeGpzvtSw2G+u3H2XB18tdVG3WWD97C8t+XEWfO7ph9DIW+Rlqtq+DqVEVe3KjCfQxKagZZjRvD6xV/UFVMDeoQs2O9Qp9j70nYzh02vlSdIBf/93BHX1ao1NVhBD8+f58VJvAe9dZvHadBYMKNoFy+b05Twrblu6m85B2hY5LkiSpsArcs+Pv78/p06dzHT9z5ozcDV0q13b8uzdHonMt1aax7/KO367M27ifgS99x8S3Z2FzY4XRhw9+xW1VH+KPafPzLayXn/2n40BV8Dh5icCZOwhYdAC/VccIWHSAwN924HEiHlSF/dHuV26+1pZD0Y5q0s7EJaVx5vLu6UkXU4g+eNbxbAqgWDRHogOgM+jY+e/eQsckSZJUFAXu2Rk9ejQPPPAAH3zwAV27dkVRFDZs2MDzzz/PHXfcURIxSlKxEDbXq4WEAFs+bWav38vkmSsBMBQgcclIyeT7l34lKz2LsW+Odvt119I0DY+oS/iuOJLrnJphxu/fo6SCy72u8r2HEJD/xhiOycjXbh6aF8XNdpIkSSWhwMnOBx98gKIo3HPPPVit9t9qDQYDjz76KO+9916xByhJxaVJl4Yc2HjE6Yeuoiq56slcLdNs4ZM56x1fW8N8EAq5NsN05fcpcxj66ACCIwpXgLNpzXC8N0bZ473mXHZ64rMpima13Ku0nJeWdSOx5bM7vL+3kRphgQAEhQdQpWYocaed79tltdho6uK9lSRJKkkFTnY8PDz45JNPmDJlCidOnEAIQf369fH2dr7JnySVByMnDGHfukN5n1RAb9Bz4wM3ELX/NHM/WcymBduxWqw0al+PEU/cREpVP9KzzI6XCC8PTPXDMB6/6HbCo2mCNbM2ccuE/OcF5SX+4Dl06Wan5xVAybBwcf9Zqt9QuISqS5NaVAsN4PylZKfFAm/r1RrD5WKIqqpyy1OD+ea5n/Nsr6gKASF+dL+lE3tOnGfm6l1sPXwaIQTtG9Xgzj5taNugeqFilSRJckeB5+wkJyeTkJCAt7c3LVq0oGXLlnh7e5OQkEBKSkpJxChJxaLr8A6MetZeIFC9aksHnV5Fp9Px6h9Pc3DzUR5t+wLLf15D8sUU0pMy2L36AK8Pn8r8GatzbbmQ0a0OtmBvrqpj7JKqKlyKSSz0MyS4+dqEmKRC30NVFSbc3MNpouPvbeSefjknGg8dP5DgqnknV0IT3Pv2HczdfID7PviDVbuOkZyeRUqGibV7TvDg9L/4deXOQscrSZKUnwInO7fffjuzZs3KdfzPP//k9ttvL5agJKkkKIrCw+/fw+QlL9NuQCv8gn0Jjghk0P19+Wb3+zTp1IB37/gYm82WY+PO7GGv/ct25yqaJ4x6koe3IL1bHWyBXvkmPDarRlBE4YtvOksorhUSWfh96jRN8PGcdXnupQWQlmlmxortOY7N/3wZl87nnYgpCnz9/lym/mHfaubqitXZf58+ey0HTsUWOmZJkiRXCjyM9d9//zF9+vRcx3v37s0rr7xSLEFJUknqMKgNHQa1yXV85uQ5WC1Wp100nmeTyLRp2HTX/I5g0GFqXhVz03CCf/jv8n5VzgWE+SOEYO/ag+zfeBhFUWh9Q3OadGqQb12f5t0b2+fHnIl3GmdotWBa9Gzi8jqubD54inOXnPfSakLw6787CA/0ZVDHxvgYDcz9dLHT9kJAfDXf7NXyedKpCn+s2c1b9w4qdNySJEnOFDjZMZlMjonJV7NYLGRmZhZLUJJUFg5tOeq0Zg6AMNvw3nyK1O6599lSFNCnmfNNdBRV4cCGI/zx3jyiD55F1asg4KdXf6dh+3pMmvM8YdVDnL5eVVUe++R+3rhlWt4LphQY//F9Bd5z62p7o2LQqarLScpmq40ps1bx4ey1PNizNRfPXHJ5TWvVAJdvjU0T7Dh2rrAhS5IkuVTgYawOHTrw7bff5jr+9ddf066dLBgmVVw6vZpvz4rP8XjevGcAwX45J+TXCAtk0tiB+d5DUWDlb+s4c+Q8AJpVcwyTndgdxXN93iAzPcvlNboO78Cbc16gSs3QHMfDaoTw+l/P0WNk53zjcEVVFLeXiZutNr5avDn/hm4s09df22MmSZJUTArcs/Puu+/Sr18/9uzZQ9++fQFYuXIl27ZtY/ny5cUeoCSVlrb9WrFx/jan51W9Stt+LRnapRk3dmzCjmNnSUrLpGqwPy3qRCCE4NdaYcRFX3R6Dc0mMGWY8ywuaLNqnD95gVW/rWfww/1dxtp1eAc6D23H3vWHOB99kao1Q2nVsymqWvSEoWGQP8J1zpeD8NAjgr1REzOdFk00RCcigr1dDmN1b1674MFKkiS5ocA/Gbt168bmzZupUaMGf/75JwsXLqR+/frs3buXHj16lESMklQq+t3dE78gX1Rd3p/0mlVj1LPDAHsvRKfGNRnYvhEt61ZFURRUVWX088OdXl/VKRiMBpdVlBUUVs5c7/R8tvOXUpgyaxWP/r2SVzfv4tG/V/Hu7ys5F5+c72vzc3HTcfRxqZc38XROyTTjvSmKoJ+3oiRkOH0uRVWonamhc5GIKYrCbb1aFyVsSZIkpwr1a2Dr1q357bffOHDgANu3b+fHH3+kQYMGxR2bJJUqbz8vpix7FW9/7xzDWapOBQWe+PxBWvVu5vIafe7ohl+wb57nNJvAYHTdmSqEIDUhzWWb6AuJjJnyG/M27sdksW+uabbaWLDpAHdO+Y2TMa7nz+QnLSmdwJXHUFNMlwPPncQo6WYC/t6L5/4YVEs+lak1wW0P9qdb8zpO23RqXJOaVQKLErYkSZJTBR7GAnvJ+uPHjxMXF4d2zW9/PXv2LJbAJKksNGpfj5+PfcbyGWvYvHA7FpOVxh3rM+SRAdRsXC3f1//vjT9JT87I85yiKmSlm1BVxel2DqpepXrDSJf3ePOX5aRlmnIs4Qb7JN+MLDNv/rKcn18o/NYtkfWrIlKzCJy9G3PdUDKbRWALz7nvnc+mKNQMs1vFFBVF4Yvp87k00HkF5Y0HTvHf4dN0blKr0HFLkiQ5U+BkZ8uWLdx5551ER0fn6rZWFAWbzVZswUlSYZyOS2LB5gPEJKQQ6OPJjR2b0Lx2hNuv9w/249ZnhnLrM0MLdN+sDBNLf1yFZtOw+XhgalQFW6AXitmK8cQl9DEpKPntN2XVuOmhfk7Pn4y5xO4T552et2mCfVGxHDsXT4NqoU7budJrVGe+ePIHstJNGI9dxOPYRZJub4Pm5wmqgpJpxiPqkttVo4UQpNYLRgWc9QHpVIU/1+yRyY4kSSWiwMnOI488Qvv27Vm8eDFVq1bNd/WKJJUWIQSfz9/IT/9sQ6fa0woFhd9X76Z3q3pMeeAmjIZCdWa6Je50PKYME5ktqpLRufbVgWFqVhX9+WQCVx4lPDyIC9EXcy1zVxToPbob7Qe0cnqP4+ed7z91tRPnC5/sePl6Me7DsXzyiH3VpQL4rj1ByuCmoIEuMbNA+4EB2MJ8nSY6YE/SDp+NK1S8kiRJ+SnwT/5jx44xe/Zs6tevXxLxSFKh/bFmNz/9Y19NdWWIx/7ftXtPMnnmSt50Y3l4YXl6e2CqG0JG12vnpth/IbBG+JPcpwF3tmmC0ATzv1jmGPIKCPPnlqcGM/rF4S5/gfD0MLgVS1GTui0Lt6OoiiMhM8Sk4L9wPxkdayEMBa/ho+QzrwfAy81nkyRJKqgC/0Ts1KkTx48fl8mOVK5YbRrfL93q9LwQgsX/HWL8sK6EB/k5bZfNZrMRfeAsFrOVGo0i8fbzytUm5uQFkuNTCK0eQmhkMKHVQ7B2rWuvKZNXwqIqWKoHUqN3E/re0Ioxr47kzJHzKIpCzSbV0LuRoDStGopisTkSDjXNhJphRvPyQPMzZr8ZNHezV8dithB98CyaTaNmk+p4ehuJ2n+a/xbn3qvKcCGNgIUH0HwMKAYdwuLekLXQq+hiU7CF+jgdxFMVhX5t5SIHSZJKRoGTnSeeeIJnn32W2NhYWrRogcGQ87exli1bFltwkuSuQ6cvkJCa98TgbEIINuyPYmQP59+jQgjmfbaUP6bNc+z15OFpYOC9fXhgyp34BPiwa9U+vn/pN45uP2F/kQLtB7bm5tdGkuXjundCEYITmZn0BTw8PajXqnZBHpNjm4/iufc85uqB+PwXjSHmyrYOlgg/MjrVwhCTwtGNRwkb0dHpdWw2G7Pem8ecjxeTcikVAC8/T4Y83B9PX09Uneq0sKCabnFr01NhUEnvWAtT4yqgd94bpCoKXkYDt7r4/0WSJKkoCpzsjBw5EoD777/fcUxRFIQQcoKyVGZMltxbmFxLUZR8233z7M/8/XHOfZ7MWRYWf/cvB7cc5Y6JN/PuHR/nfJGAnSv2sntvFAx1vTRdp9O5Fasz5kwzXtvP4LXjTK5z+gup+C/YDwJMmWan1xBCMG3s56z+fUOOwsaZqVn8/dEiQquHoKgK5PNPeci4/iz6dgWqqiIQCNuViwm9SvLQ5thCfEDN3culKPYkx6YJ/H08+fSxEYQF5r1kX5IkqagKnOxERUWVRBySVCR1IoLt2xy4KNinCUH9SOfDOyf3RudKdByvtWmc2HOKDx/4CoTItfuBZtMQ8WmomkDL48M9m1XTXMaQn1rNa9hnAOXxmFdPGq7dvIbTa+xauY9VMzfkeU7TBHGn858EbfTy4OEP7mH0iyNYPmMNq//YyLmjMY4VmllNwrGF+uQ9nId9pK97izr0bdOA/u0alujEcUmSpAL/hKlVSy4NlcqfEH8fbmhTn9W7j+eqPwP2XoTIUH86NMqdBMSdvsiib1aw7MfVrm8iIDPN+b5VwmzD40AM5pbV8ky6FAX8vIz0bVP4+W6mdJNb7bJctFvy/b/o9Co2q5NJw4q9B0rTtDw3RlV1KgPu7YOXjydePp7cPvFm/nx/fo5SFFlNXS/116kKYQG+DOnc1K3nkSRJKgq3k50FCxa41W7YsGGFDkaSiuL523qz/1QscUlpOYr26VQFD72eKffflGul06b523h79HQ0m+b25peueG0/Q0i3BsSkZuRIeHSqgqIoTHlgMB5F6MWIOXnBrXaxJy/QtHPDPM+dPXLeeaIDIMDo7YE5y4LQtBxtVZ1KjUaR3PfO7Y5jyRdTcg2baX5Gp706YF8td+ZiklvPIkmSVFRu/9QdMWJEvm3knB2pLIUF+PLbS3cyY/l25m7YR1qWGYNOZVCHxtw3sAO1I4JztD93PIa3b/sQq9WW57BQYahmG+/c3ItNFy/x17q9JKVloqoKfVrX576BHWhSM7xI1/cNcm9ei0+gj9Nz/iF+OZaV5yWwSgCv/fkMs6bOY8PfW7BZNfxD/Bgyrj+3PT8Mn4Ar1/f298p1PcViQ7jYxVxVFQJ8PN16FkmSpKJyO9m5dlsISSqPgvy8eXpkT566uQcZJjOeHgb0Tj50F375j70HyM1Ex75BqOKyB6hqvXBadmpIK0XhkSFdyDBZ8DDoMOgKXpsmL616N8U/xM+xgiovvoE+tOnbwun5G8b0ZNeq/U7Pq6pC/7t7Ub91HV79/WmsFivmLAtevp551gDy8fem441t2LZst+O9MR69SFbzqnlOTgb73KBBHRo7jUGSJKk4FWojUEkq71RVwdfL6DTRAdh61YdzvtfTqXj6eDLsMddFCR+YPMaRECiKgo+nR7ElOgAGDwP3vn27yzZj3xqNh9H5Evg+t3elRqNI+wan11B1KgFh/gx5pL/jmN6gx9vPy2Wxw7tfH4WqKvZVXIDnvvMoFluem4jqVIWmNavQ3cXGoJIkScVJJjvSdUsrwJBrlZqhfLBqEo9Ov5c7X74FnV6HoijoLteP8fL15NnvH6XXqC4lFa5DUHiAy/OBVVyfN3oZeX/VJJp0shfxU3WqI/Gp0bga09e+RWCY62tcq1GH+ryzaCL+IfaCjR5ZNgIWHUBNtU/o1qkK6uVkqUOjmnzx5EiXiagkSVJxUsS1u3leh1JSUggICCA5ORl/f/+yDkcqJdMf+orlP69xOllXURXqt67Nfe/eSbv+LVHVKx/OSReTWf/3f6TEp1KlVijdb+mEVynMQdE0jbvqjOfi2UtOh99CIoP4LfordG70KB3dcYJdK/cjNI2mXRvRokeTIu13Z7VY2bJoB9EHz+Ll60nnYe05nZXFgVMXMOhVujatTf1C7tklSZJ0LXc/v2Wyg0x2rlfHd0fxaLsXnM/ZUeDLbVNp0LZuqcblyt51B3m29xv5tpv27+u0ucH5vJ2SYLPZWDNrEwu+XEb0wbMYvY30Gd2V4U/cSNU69onZBzYdYe6ni9n57z4Q0KpPM255ajAtejQB7GUA5n22lNWzNpKZlkWNRpEMGz+IG+7s7uhFkyRJyiaTnQKQyc71a8GX//DZ49/nqDuT/ffHPr2fEY/fWMYR5rTmj425Kzjn4aVfnqTvmB4lH9BlNquNt0dPZ+Pcraiq4lj6r+pUPDwNvPfPaxzfFcXnT/yQ53v9yIdjad69Mc/3exNThtkxlyp7lVenIe2Y9Pdzbu0fJknS9cPdz2/5k0O6rg0bP5D6besw99PF7FppX6HU+obm3PLkTTTt0qiMo8stuGqQW+1CIt1rV1zmfLKETfPsG7FeXeNIs2mYM828OmQKacnpADmGDbP//vWzP+Mf6ocpw4R29bYTl6+1dclO/nx/AXe+fEuJP4skSZWPWz07QUFBbo/jJyQkFDmo0iZ7diqX+OQ0vliwibMXkwny8+LhmzpRv1pYmcZks9rYunQXJ3afwmA00HlIW2o1db6lgzOapnF33ceIOxPvdPgttFowv5760q05O/mJTUhl5a5jpGWaqFkliLbVq7B1wXaSLiQTUi2YDsPasfnYGb6/eTqZ8Wm5Xi8AS41A1Awz+sTMPFdnAaiqmm95i6CIQH4/83WxPJckSZVDsfbsfPzxx8UVlySVqDd+/oeFWw7mOPbvzmM0rx3Bj8+ORq8v/RVABzcf4e3bphN/LgGdXocQgu9f+pWON7Xh5d+eylGgLz+qqjL+4/uYdMv7Tts8+tG9RU4ILDYb02atZs7GfSgoqAoYtp3Ga+dZFCHQ6XWk1w0hY8suMNsIziPRsYb6kNq/EZq/JwGzdjpNdMC9Ol6JsUlcPHOJiNpVivRskiRdf9xKdsaOHVvScUhSkX3w15pciU62/adiefCjP5nxvOsaNcXt9OFzvNDvLSwmC2Dv4cm2/Z89vDZsKh+uebNAK6Diz7nuPc3vvDve+30V8zbtRwgQCDx2ncN7+5Wd1jOqB5Leuz4IgWLNvYTf5mskZWgzRHZy6WJz1IKQk5QlSSqMIv2am5mZSUpKSo4/klQWNE3jjzV7XLbZezLG5X5MGamZZKRmFmtcf06bh9VizTGPJZtm09i3/pDLasbXMpss/PzGHy7b/PLmX5izzC7buBIVk8Dcjfuv7OxuseG940qiI4CMjjXtW5crCsLTgDXIK8eoWlbLqgi9Di4v17fUDEK4yHeU/JIhBao1qEpotWDX7SRJkvJQ4GQnPT2dxx9/nCpVquDr60tQUFCOP5JUFlbsPIrNjaGQH5dtzfG1EIIV/1vLw62eZXjAPQwPuIeHWj7D8p/XUNSFikIIVs/a6HLTTZ1eZc2sjW5fc+/ag6Qm5B4yulpaUnqBEqhs/x0+zbiPZzPyrZ9zHPc4m4Ry9aTiYG+0QK8rG30qCpmtq3F1umJqEJajNyeraYQ9Mcrrxoq94nW1+hHonA0zCrjt+eFFqgEkSdL1q8DJzgsvvMCqVav48ssvMRqNfP/997z55ptERkbyv//9ryRilKR8XUxKd6tdcnqW4+9CCL56egbT7v2cUweu9FxEHzzL+/d9wRdP/VikhCd7TylXNJtwrFJyR1qi60QnW7qb70e2eZv28+gnf7Pj6Nlc5xSTNcfXwph79NvcIIyM1tXs5xUQhpzDTZq/J6kDG4Oq5OjhUXUqeoOe1/96jqkrXie0eoj9npeTmuzk59ZnhnLjAzcU6JkkSZKyFXjp+cKFC/nf//5H7969uf/+++nRowf169enVq1a/Pbbb4wZM6Yk4pQkl5rXjnCrXb3IEMff96w5wNxPlwDk2LE7++/zP19G1+EdaetiU01XDB4GgiICSYxNctpG0SlE1nV/J/Sq9dx7TnfbAcQnp/Pub/8CoOWR3Nn8c1aGVlOyHENYDopCZqdamOuG4HkwFjXDjOZrzNHGUjOIpDvbYjx0AY9zyYT4+zBkVDduergfVWrYqyp/v/8jVv++gbV/bSY9OYPazWow+OF+NO7YwO3nkSRJulaBk52EhATq1LFv4Ofv7+9Yat69e3ceffTR4o2uAhOWg4jMeaAlgC4cxWskir78VOKtbFrXr4a/t5GUDJPTNooCDwzq5Ph6wZf/5Chwdy2dXmXBl8sKnewADH1kAL++9Veec3YANKvGoAf6un09T28Pt9oZvdxrB7Bg8wFcdWBZq/pj8zeipphQAMXmvLEtzJf0XvUBUMi9Ol7zMZLZviaZ7eGrl8fQuEbOlVVGLw9CujUgwBv0WWYCwoMJaVjV7WcpKSfOx7Nwy0EuJqcT6u/DkM5NaSC3vZCkCqPAw1h169bl1KlTADRt2pQ///wTsPf4BAYGFmdsuUyZMgVFUZgwYYLjmBCCSZMmERkZiZeXF7179+bAgQMlGocrQpjRkp5GXBoBGb9A1mJI/xERPwgt5R2EcG+Xbang3hzrekfyB2/shKfHlfz++K4ol/NpbFaNE7tPFSmmkU8PoWbT6rl3GL/c4THm1ZFUb+D+h/mp/WfybwQ5huXyc+xcvOsGikJar/qOIShbkFfOXh0nwoP8HJt/XuuOPm1yJTrJ6Vnc9/4fPPLJ38zZsJ9l24/w9aLN3PjK98xas9vdxylWNk3j3Zn/MurtX/ht5U7+2XaEmat2MvqdX3j952VYbfLfsyRVBAVOdu677z727LGvepk4caJj7s7TTz/N888/X+wBZtu2bRvffvstLVu2zHF82rRpTJ8+nc8//5xt27YRERFB//79SU1NLbFYXBEpUyBryeWvbFf9ATL+B+nflUlc14NeLevxyWMjCPbzznHc22jgmZE9eXRo1xzHPX2N+V7T0zv/Nq54+3nx0bq3GfxQPzw8DY7j4bXCePqbcYx9c3SBrmd0M56C9Ox4eujzzV2skQGkDG2ONcIfxZL/bvEKcFffNozu3RovjyvPXSXQlxdu681zo3rlaC+E4LlvFnAgOhawJxmaJtCEQNME0/5Yzerdx91+puLy7eIt/L1+3+WY7PHYLvfSLd5yiM/nbyj1mCRJKrgi7411+vRptm/fTr169WjVqlVxxZVDWloabdu25csvv+Sdd96hdevWfPzxxwghiIyMZMKECbz44osAmEwmwsPDmTp1KuPGjXPr+sVVQVloCYi47oDVeSPFH6XKRhSlaB+ikmvHz13kyNl4qoX407p+tTzb/Pr2bH5580+nQ0yqqnDXa6O4+41RxRJTRmom54/HYvA0UKNRZI5d1N2VmZbJbVUfIivd+XCd0cuDP2O/x9vPy61rrt17gqe/WuB2DGqaCXyMaC4SJFVRWPzuA4QH+ZFpshAdl4hBp1I7IhhdHs+9/1Qs90z93eX1GtUI47eJpTcnMNNkod8L35Bpdj7J3EOvY8XUh/HzLvkd769n8RkZnEtJxs9opE6g+xX9pcrP3c/vIpeTrVmzJrfcckuJJToAjz32GIMHD6Zfv345jkdFRREbG8uAAQMcx4xGI7169WLTpk1Or2cymUqmPpBpPS4THQCRAuZdxXM/yan61cIY3KmJ00QHYPDD/fDy98o9xIR9lZCXnxeDx/XL45WF4+3nRf02dajVpHqhEh0AL18vRj49BJz8rFcUuPmpwW4nOgDdm9ehXtUQdG4W/tN88090BndqQniQnz1mo4HGNapQLzI0z0QHYM2eE07PgX3i9KHTccQXYOVaUe04dtZlogNgttrYetj9IUOpYM4kJ/PIovl0/uFrbv5zJv1++YkbZ/6Pf0+Wfi+fVLEVeILyW2+95fL866+/Xuhg8jJr1ix27tzJtm3bcp2LjbV3eYeH51zNEh4eTnR0tNNrTpkyhTfffLNY4wRAZOXfBgB320klKSg8kGkrXueVwVNIiku+XJ1XYLNq+Af78s7ilwmOKH+1o+5+YxTJ8aks+no5Or2KwJ772C5Pdr737YINjelUlS+fvIXHPp/L8XPxeU4szsvIHi2Ys34fiqo4ci+bJujVqi4v3+n+pGsAk8XqzjQgTJZ8fpkoRiaze/fKKsWYridnkpMZ8cevpJhMOVYJHrsUz8OL5vNB/0Hc0qRZGUYoVSQFTnbmzp2b42uLxUJUVBR6vZ569eoVa7Jz5swZnnrqKZYvX46np/Nu4mu7NIUQLrs5J06cyDPPPOP4OiUlhRo1Cr4pYy76xm40UkAvl9GWFw3b1eO3U1+ybvYW9qyxT2xv2aspvUZ1wcPT/XkvpUmn0/HUlw9x85M3seLnNVyKSSQ4IpD+9/Qq1OaiAGGBvsx6+S42H4rmt393sOXwaZftjQY9z4zsxX0DO7Bg80HOxycT6OvFoA6NaVrL/aX02RpUC813sq+vpwdhBdhHrKjqu7naSq7KKhlTN64jxWTCds1Mi+yvXl+zkoH1GuDjUT7/nUrlS4GTnV27cg/BpKSkcO+993LzzTcXS1DZduzYQVxcHO3atXMcs9lsrFu3js8//5wjR44A9h6eqlWvrGiJi4vL1dtzNaPRiNFYAnNmDC1B3xCsx4G8fnDrwKM7is750IpU+jw8Peh3V0/63dWzrEMpkJqNq/HAlOKbw6KqCt2a1aZjoxoMnPgdyemZeS5JV1WFYV2a4WU04GUM4JEhXYp87/7tGvL+n2vIMJnzvqeicEuPFngYCvwjq9BqhQfRvmF1dh0/55iUfDWdqtCkZjgNq4eVWkzXi6SsTJadOJZn3adsGRYLS48f5damzUsxMqmiKpYtoP39/Xnrrbd47bXXiuNyDn379mXfvn3s3r3b8ad9+/aMGTOG3bt3U7duXSIiIlixYoXjNWazmbVr19K1a1cXVy4ZiqKgBHwAig9w7YaFOlCDUQJKYPhMkoqRQa9jygM3oVfVXPN4VEWhdngQjw0r3n9fXh4GJt9/I6qS9z0bVg/joZs6F+s93fHaXf3x9/bMFZNOVfDx9GDSPQOcvFIqipjUVJeJDoBeVTmTklxKEUkVXbH9mpSUlERycvF+4/n5+dG8ec6s3cfHh5CQEMfxCRMmMHnyZBo0aECDBg2YPHky3t7e3HnnncUai7sUQ2MImYtI/wYyFwAme/LjdSuKz0Mouir5XkOSylqnxjX534t38NM/21i56xg2TRDg48mtPVpyz4D2+HkVf89ojxZ1mfH8aH78Zytr955E0wTBft6M6tmSu/u1w7sMhhVrhAUy8+UxzFi+nQWbDpBptmA06BnauSn3DuxAZEjhV29Kzvm7mLaQTRMCPw+5qlVyT4GTnU8//TTH10IIYmJi+OWXXxg0aFCxBeauF154gczMTMaPH09iYiKdOnVi+fLl+Pn5lXos2RR9TZSAdxH+b4HIBMUbRSmWTjRJKjWNalThvQcHY7HZMFtseBsNJb7kt1ntCD4cN6xU75mf8CA/Xhzdh+dG9SLTZMHLaHC5ckwqump+/rQMj2B/3AWnPTxCCG5q0LCUI5MqqgLX2cneKiKbqqqEhYVxww03MHHixDJNMgqruOrsSJIkScVjw+loxs6bDeReHagAd7VoxZt9iq80hFQxufv5XeCenaioqCIFJkmSJEn56V6zFl/cNIyXVv5DismEXlGxCQ1FUbirRSte7dmnrEOUKpDSW9ogSZIkSQUwqH4D+tSuw4qTx4lOTsLPw8jAeg0I9/Ut69CkCqbAyU56ejrvvfceK1euJC4uDk3LucT65MmTxRacJOVHaMmQ8Tsic7Z9h3k1HMV7NHiNQlFLryaLdP2waFYWn9vF32f+42zGJXz1ntwY2YbbanYm1FMOgxc3o17PkIbu1DCTJOcKnOw8+OCDrF27lrvvvpuqVauW+eRB6folbLGIS3eAFoOjrpEtHZE6BTJnQ/CvKGpgWYYoVTJZNgsTts9gZ2IUCgoCQbrVxP9OrmXOmf/4puND1POLKOswJUm6RoEnKAcGBrJ48WK6detWUjGVOjlBuWLSLt0Nlu04dpXPQQeeN6IGTi/tsKRK7LMjy/gtaj1aHhtqqChEegczu8fTqHL1pSSVihKboBwUFERwcHCRgpPyJ4Swf5Cbt9sPeHQEQ1uXPWnCFg9ZS0EkgVoNPAdWyqGcuNMX2f3vQvrd9J+LVjbIWoKwTUTRyQq31xOb0Nh08ShHU85jUPV0C2tEPb+Cb2FxrSybhTmn/8sz0QHQEJzNuMS2SyfoEFKP7Qkn2Zd0Gh0qHUPr0zSgepFjkCSpcArcs/Prr78yf/58fv75Z7y9vUsqrlJV3np2hPUMImk8WI9wpRKzDfRNUAK/QNHn/KEphIZI+xDSf8Q+nKMDrKB4ofi9iuI9qnQfoIRYzBY+f+JHln6/kv6jL/Hs9Px3m1YCv0HxlKs2rhf7kk4zcddM4kwp6BQVIQQagq6hDXm71Wj8DO7vBn+tY6kxjNn4mcs2OkXllhod+C/+BKcz4nPE0CKwJlNb3ynn9UhSMSqxnp0PP/yQEydOEB4eTu3atTEYDDnO79y5s+DRSg5CS0EkjAHt4uUjVw3RWI/az4UuQlGv1DMSaR9D+ndXXeXyLswiE5HyCig+KF43lXToJe7T8d/zz0+r7R8e7m40rcgFh9eL6PR4Htv6A+bL3xw2cWXxxJZLx3h6x//4ttNDhR5iUt3YXUcTGgvP7sQscsdwMPks47f9wC9dH8eoMzi7hCRJJaDAnwQjRowogTAkh8zZoF0gdxktABtosZA5B3zGAiC0REj/wcUFFUTadPC8sUJPJo+JusCyn1Y53pY9m3zRNHBdyNYIhtalEJ1UHvx6ch0WYctzmEkTgj0XT7P+/BF6VWtSqOvX8gklxMOXS+Y0p20EYNasecZgExqn0i/yb+w+BldrW6gYJEkqnAInO2+88UZJxCFdJjIXkHei42iByJyPcjnZIWs1YHHZHttpsB4CQ9PiC7SUrftrC6qqotnsvylfPO/x//buO77pOn/g+OuTpE26aCkFSoGWsmXKliGgMlQcKCeIguA6cSDoufXO8VNR7sTzUFTOPc51ouJC8UCmyiyyBGSV0VJG90ia5PP7IzQ20KQpbZM2fT8fjz5ovt/P9/t950OavPP5fgbLvohj6KU5GCt8FSuInOjRAiZCl9aa7zI2ebSkuLaDTrfg3B0B+Sbu+mYRnVqt57qRfbmwX6cqfQEwGYxMSj2XF3Z8W+F+ozJgQFGqK+ow76JQfJexSZIdIQLsjNv4bTZbhfPsJCcnVzuoBs3px2KqOveU3w24h157PW9+daIKuoLsAgwGhbPc58gL97WiaUsb3foX4bCD0QRaG1DKCebhqJh7ghewCCgnmhKnZ9KvNTg3RaP3R1D+C8SuQ0d5+M1v2XnoKDOuOLdK15nYZjD7Co/yxcF1GMtm9D05BL11ZBOOWvMotXtPdjSaPFtxla4phKi+Kic7O3fu5MYbb2T16tUe27XWKKVwOLz/oQs/mNqArdy8MacxgrHc+mTGZB9ly5+3fo8EadEuEfspHyLFhUbuHdeec0bmMXL8CeKb22nfZzBhsVdD+GBZfLUBMSoDTc2NOGrNc2/TWeEnEx1wrabk4jyZ97z9/TqG92hHz3ZJfl/HoAw81PUKLk7qxRcH17K/8BixYZGMatGTCxK7cfMv89mRdxjtpXXWqAwkRzWp8vMTQlRPlZOd66+/HpPJxFdffSWTCtYCFXk12rbKRwkHKvLqPx6ah4KhiWv24ArfYI0QPgBlbFnDkQbW8AmDmDfzTaxFVo/tTodi9aJYfvmhMcMnDOaBi+4MUoQi2MYlD2D+rh/c/WWcey2gNOiK36OMBsXHyzZVKdkBUErRKz6VXvGpp+0blzyAp7Ys8HqsQzsZ27p/la4nhKi+Kic7aWlprF+/ns6dZfruWmEeAeYLwLqECtf6NY8A8/l/bFFh0OhpdM6trv0erTxG1/DzRo/Ufty1LDImgjtfuom/X/8SSinKz5hgMBlo1CSGG56+JogRimCbkDKIHzI2s6fgiCvhyTV5TXQAHE7NjgNZNRrDxUlns+jwRjae2FdhJ+VLW/amV+M2NXpNIUTlqtzO36VLF44dO1YbsQhAKSMq7l8QdTuo2HI74lDR01Fx/zzt9oyynIdq/BaE9Si/FczDUE0+QZnaByT22jZqynAe//w+Urv/0S/MaDJw7rhzePGXWTRrnRDE6ESwRZnMzB/wZ65M7o/ZEAbGyqcQs5hrdgh4mMHE832mcm3quUQZze7t8eHRTO90IQ93u1Jaw4UIgipPKrhkyRIeeeQRnn76abp3737aPDt1YVK+qqprkwqW0doG9pMLq5raolR45cc4DoEzGwyJKGPVP/y1LgH7bkCBqb1f1ww0rTWHd2dSlFdM85SmNGoiI66Ep0K7lX8sWMqXP/6G08tbnFKK6WMHM3VUv1qJocRRSnrhUYzKQEpUU0wGY+UHNVD7crLJLSmhRUwMzaJkRXPhP38/v6uc7BhOTmxy6reT+txBua4mO4GktRVd8AIUfQC60LVRxaGipkLULSglb9SifjmSnc+4x9+mxGY/LeExKEVMpJkFj02lcfSZz6osqmfF/n3MXr2CrUddtxMVMLxNWx4aMpR28dKRW1Su1mZQXrp0abUCE3WP1qXo7JvBtgaPPj86x5UA2XdB7Bxpfhf1SvPGMbx055XMnPcFuYUlGA0KUDicThrHRPDiHVdIohNEi37fxe3fLPTYpoHl+/ey9vBBFoy/hvaS8IgaUuWWHV/S0tI4++yza+p0AdPQW3Z08QJ07gM+y6jGb6LMobPSvWg4Smx2Fq/fwYbfD6FQ9OvUmgt6tSc8TJYSCRar3c7AN14lt6Sk4jGkSjGodTJvj/1TwGMT9UutteycKjc3l/fff5/XXnuNTZs21cvbWA2dLvqQyiYm1Dkz0BFXoiInokynD7kVoq6yhJu4dGBXLh3YNdihiJOW7NtDTkmJ1/0OrVmZvp/D+XkkxTS8L6Ci5p3xrGtLlixh0qRJtGjRgrlz53LxxRezbt26moxNBIo9nUonJtR5UPQu+thF6KL/BiQsIURoOpCbi7GS2+IaOJSf57OMEP6qUsvOwYMHeeutt3jjjTcoLCxk/PjxlJaW8umnn9KlS/1dd6nBM8SC44QfBV2tdjrvYTB1QIX3rN24hBAhKdZsxuFHD4pGZksAohENgd8tOxdffDFdunRh27ZtzJ07l8OHDzN37tzajE0EiIq4nKo18hnQRW/VUjRCiFA3sl17TAbv7zkKaNc4no7SQVnUEL8/4b7//ntuuukmHn/8ccaMGYPRKEORQ0bk1a4lJ/D3/9QB1hW1GZEQIoTFR0Ryc+++Xvdr4N5BQ2QEqKgxfic7K1asID8/n759+zJgwABefPFFjh49WpuxiQBRhnhU/H/A1K4KR/mx+KgQQnjxl4FDuKVPP4xKoQDTyZnho8LCeW7kRYxq1yG4AYqQUuWh50VFRXz44Ye88cYbrFmzBofDwZw5c7jhhhuIiamfM9k29KHnZbTWULoOnf8ClK6l4oVFwbW46BAM8f8OZHhCiBB0rKiIRb/vJKekhFaNYhndrj0RYTW7jIcIXbU2g3J5O3bs4PXXX+fdd98lJyeHkSNHsnDhwsoPrGPqY7Kj7QfRRe9Cydegi8HUDhU5CSxjqj3bsXYcQh8dQVmH5IrIvDuiLrA7HSw6nMZ/D/xCeuExIozhjE7qyYTkgTSPiAt2eEKIWhaQZKeMw+Hgyy+/5I033pBkJwC0LQ2dPRW0lT8SkpPz5JhHoOL+hVLVm0JJF3+Nzv0Lrq6CZdcwun6PugNDzJ3VOr8Q1VXqtPOXDe/y87FdKBT6ZEukAUWEKZyX+91E59iWQY5SCFGbAprs1Hf1KdnR2oY+OhScOVTcb0ahYu5FRd1U/WuV/oYufBtsy0DbIbwPKnIyyjyo2ucWorpe+/1//Pv3Je4kpzwDigRzIz4fdo8swClECAvYDMoiwEq+B6evOXG0K0GJvAGlznjOSABUWGdU3KxqnSMQtPMElCwC53EwJILlQpShfvYfE/6xOx18vP+nChMdACeaLGsuq47uYFhzmQNMiGDJLMhn0e+7yLWWkBIbx+h2HYLSJ0uSnXpGl6bh+m+zey/kPALOLDAmBiiq4NBaQ+FL6IJ5uG61nbzNlvcExNyLirouyBGK2pJZkkNOaZHPMiZl4NecdEl2hAgCu9PJk8uX8t7mTWgNRoPC7nQSFfY/njp/BJd1Oiug8VTvq78IAn//yxpAHls4H13wL1yJny73rxWd/6QsaxHCDH78HWjAWM3WTSHEmXly+VLe/TUNp9ZoNHanq9tFYamNu777hiV79wQ0HnknqGdcI6B8tOqgwNju5CSBoUs7C9GF83yXKXgerX3VlaivEiNiSYpojK8p5xzayYAm7QMWU11VZLdSaLcGOwzRgBwpKHC16HgtoZjz08oARtQgvv6HmPBzwZgKjnQqHhquUdE3h/7Mo7aVriH3vjiPQulGCO8XmJhEwBiUgcmpQ3l22xcV7jcqA22jm9E7PjXAkdUNWmu+y9jEu3tXsCs/A4DUqGZcmzqES1v2Cf33BxFUi3bv9D5NG6DRbDt2lP05OaTExQUkJmnZqWeUMqAa/xsMzcu2nPz35IiTqJvBckUwQgssZ66f5fJrNw4RNFe27s+EZNfIwLLbVerk30MLSxzP9b6uwX6oz92xiL/9+jG78zPd2/YVZvHklgXM3vYFMghX1KbcEisGQ+V/e7nWkgBE4yItO/WQMiVDwjdQ8iW6ZBHoAjB1REVejQrrHuzwAsOY7F85k5/lRL2jlOIvXS5hVFIPPjuwhr0FR4kJszAysQcjW/TAYmyYs/BuPLGX9/a51q5zlvt6XfbbpwfWMLRZFwY27RiE6ERDkBIX5+6j441BKVrGBG6qF0l26illiITICajICcEOpVZp7QDrMrR1CWgrKqwzRFwJ4f3B2Aoch6l4viEDmLqhTNJnI9R1j0ume1zDS2qPW/P58uB69hZmYTGGc17zrvRv0o5PD/yCURlw6Io/bIzKwCfpP0uyI2rN6HbtiQkPp8Bmq/BullEpRrRtR5PIyIDFJMmOqLO0IwN94gZw7Mb1UtXokoWQ/zwq9llUo6fQ2TeeLF3+jd0IhKFiHw94zEIEwucH1vJsudtRSik+O7CGzo1aUmgv8ZrogKvj9s6T/XiEqA0WUxhPnT+SGYu+RuHZfceoFDFmMw8OGRbQmKTPjqiTtLajT1wPjn0nt9hxdcjWQKlrKQtlQcW/B2F9yh2pIHwQqsnHqLCugQ5biFr309GdPL31MxzaiRONE+1ObnblZ3C0JK/Sc1gMDfMWnwicSzp25o3LrqRr02bubQalGNm2PZ9PuJbk2LiAxiMtO6Jusi4Bh7d5GDRgQBf+G0Pjeagm76MdGSdnUG6GMjbzcpwQ9d8bu5diQHn0xynj0E4c2nnat+nyDChGtGggfftEUA1rk8qwNqmk5+aQZ7XSIjomoLeuypNkR9RJuuR/uGdErpADrEvR2ukaoWZsAcYWAYxQiMArKC1hU85+n2UMKEwGI3btwHnKqCsDCosxnCtb96/NMIXwEOhWnIrIbSxRR5Xgc6IGwJUIyaSBouEocZZWWsagFEOadiIuLApwdUguG5ofExbBi/1uoJkltlbjFKKukZYdUScpU2c03/kqAcZWKBUesJiECLbG4VHEhUX6XBfMoZ30bdKOJ3pOYEnmFtad2IPWml7xqYxI7N5gh+SLhk2SHVE3RYyDgn/5LKIiJwcoGCHqBqMy8Kfkc3hj99IK++woINwQxoVJZxNuMHFh0tlcmHR2wOMMpP05OfxnyybWHDqIURkYmtKGq7t1p1lUdLBDE3WIJDuiTlLGZtDoSXTeQ7jutpbvu+MacUXkNUGKTojgua7tUH4+toutuQfR5RIeo1JoDU/0uIpokyWIEQbO579t497FiwBwnOyflHYkg1fWr2H+JWMZkpwSzPBEHSJ9dkSdpSLHoRq/DeHn4F4Ww5CEirkP1fhVuYUlGiSLMZx5/W/klg4jSDDHAK5lMgYldGL+gFs4L7FbkCMMjK1ZR7hn8SIcWrsTHQCn1ljtdv781eccKSgIYoSiLpGWHVGnKfM5KPM5aG0DXQoqssGudyREGYsxnBvancf1bYdT5LARbjASZmhYb+dvbdroddV7DdgcDj7c+iszBgwi32rlp4PpFNvtdE5oSqcmCYEMVdQBDeuvQ9RbSoWDtOQI4UEpRZTJHOwwgmLZ/r0eLTqncmrNsn17sdodvJm2Hqvjj1vhvROTmD1yNG0bxwciVFEHyG0sIYQQ9Y7TWfnK7ftzc3h1/RqPRAdg05EM/vTJBxzKq3y2aREaJNkRQghR7/Rr2RKjj1vaBiC7pKTC2bocWpNvtfLy+jW1Fp+oW+Q2lhBCVINTO1lyZCuf7P+JXfmZhBtMXJDYjQkpg0iOkr4htWVqz958t/t3r/s1rhFq3m51ObRmwfatPD7sfIwG+d4f6uR/WAghzpBTO3li86c8lPYBm7L3U2Av4YStgAUH1nDNqn+x5rj3D2NRPQNateaegUMAPFp4jEphUIreLZIqnYO9xG6nsLTyWalF/SfJjhBCnKEvDq7jm8MbATwm+XNoJ6VOB/dteJ9CuzVY4YW82/oN4IMrx3NBajsaWyw0iYjk8k5n8cWEa+nTIsnraK0yFpOJqDCZUbohkNtYQghxhv6zb5XXFcY1miKHlUWH0xiXPCDQoTUYA1q1ZkCr1qdtDzMamb9hndfjjEox7qyucgurgZD/ZSGEOAPFdhv7C4/6vFViVIrNOekBi0n8oWOTBK7u2r3CfUalaGQ2M62vrP7eUEiyI4QQZ8C/yS2Ve8VxEXj/d94I7uh3DhEmz5sYvVsk8en4a2gZ0yhIkYlAk9tYQghxBizGMLrHtWZrzsEKF+UEV9+dAQntAxaT1ppCuxWjMhBhkkk4jQYDdw8czC19+vHzoQNY7XY6NkmgfXyTYIcmAqxOf+WYNWsW/fr1IyYmhmbNmjF27Fh27NjhUUZrzWOPPUZSUhIREREMHz6crVu3BiliIURDMjl1mNdExwA0M8dyXvOutR6H3engo32ruXL5Pzj/f08w7IfHuPHnV1ietb3Wr10fRIWHc0FqOy7u0EkSnQaqTic7y5Yt4/bbb+fnn39m8eLF2O12Ro0aRWFhobvM7NmzmTNnDi+++CJr164lMTGRkSNHkp+fH8TIhRANwcCEDrSwxFW4zwn8KXlAra9Z5dBOHt70IXN++4rDxdnu7VtzDnDPhnd5b++KWr2+EPWB0trH4iJ1zNGjR2nWrBnLli1j6NChaK1JSkpi5syZ3H///QBYrVaaN2/Os88+yy233OLXefPy8oiNjSU3N5dGjeQerhDCP2/vWca8nd+jvbTumJSRr8+7n8bh0bUWw1cH1/PElk+97lfAx0PuIiW6aa3FIESw+Pv5Xadbdk6Vm5sLQHy8a/G2vXv3kpmZyahRo9xlzGYzw4YNY/Xq1UGJUQjRMGit+Xj/T14THXC1unx5cEOtxvFx+s8oHzPKGJSBBQdkWQTRsNWbDspaa+6++26GDBlCt27dAMjMzASgefPmHmWbN2/O/v37vZ7LarVitf4x0VeeLAYnhKiiIoeNo1bf7x0GYHfBkVqNY0/BkUoTrt8LMms1BiHqunrTsnPHHXfw66+/8sEHH5y279QhoFprn8NCZ82aRWxsrPundevTJ6QSQghfwg1Gny0qACiFpZb77JgrOb8CLAaZJVg0bPUi2Zk+fToLFy5k6dKltGrVyr09MTER+KOFp0xWVtZprT3lPfjgg+Tm5rp/Dhw4UDuBCyFCVpjBxMCEDhh9JDwO7WR4LY/GOq95V59z+eiTZYRoyOp0sqO15o477mDBggUsWbKE1NRUj/2pqakkJiayePFi9zabzcayZcsYNGiQ1/OazWYaNWrk8SOEEFU1pe0wnF72GZWB9jGJtT7PzsQ2QzCgKmxlMioDzS2xjGjRo1ZjEKKuq9PJzu233857773Hf/7zH2JiYsjMzCQzM5Pi4mLAdftq5syZPP3003z22Wds2bKFqVOnEhkZyTXXXBPk6IUQoa5XfCpP9BhP2MlbWkZlcLeytI1uzr/6TMVQyzMot4tpzj96TybCGIYCjxgSLXHM63cTFqPcxhINW50eeu6t382bb77J1KlTAVfrz+OPP86rr75KdnY2AwYM4KWXXnJ3YvaHDD0XQlRHrq2Irw9v4Pf8TMyGMIY170L/Ju1qPdEpr9DuWnR0W+5BTMrAwKadGNK0EyaDMWAxCBFo/n5+1+lkJ1Ak2QkcXboFXfQBlG4HFYmyjIKIK1CGmGCHJsQZ25F3mE/Tf2FH3mEsxjDOa96VMS17ExMWEezQGrw8awmfbt/Gd7/votheStemzbi2e0+6NvPer1PUH5LsVIEkO4HhzH8BCl8CjIADyvoYGJqg4t9BmQK3hpAQNeX135fw6u8/YFQGHNrVg0cBceFRzOt3I+1iEoMbYAO24/gxJi34hBPFRe7B+UalcGjNXecMYnr/gUGNT1RfSE4qKOovXfz1yUQHXIkOuMaJaHBmo0/ciNalQYpOiDOzNHMLr/7+A4A70QHXKzvXVsSd697E5rQHKbqGzWq3M/XzT8kpKfaYhchx8vv98z+v5tvfdwYnOBFwkuyIgNCFr+H95eYAZwZYfwhkSEJU27t7V2DwMvTcieaoNZ8lmVsCHJUA+G73Lo4UFriTm1MZlGL++rUBjqpucWrNLwcP8Plv21mZvh+709vYwvqv3sygLOov7SwAe2Ur0ZvQ1tUoy0UBiUmI6ipxlLIl1/ccXQYUa4/v5sKkswMTlHBbdSDdfcuqIk6t2XQkkxJ7KRZTwxut9sOe33ls2RIOl1s0u2lkJA+dO5zLO50VxMhqhyQ7IgD8+bag+eP2lhB1nz/dHZ1oj9tbInCcfnZHdTgbXrfVJXv3cMtXX5y2/WhREXd99w1aw9jOoZXwyG0sUftUDBhTwOfU+g5UWO9ARSREtUWYwokxWSot18ISV/vBiNP0bpHktVUHXO9G7RvHExUeHrig6gCtNU8sX+L63UuZJ1cspdQRWl8+pWWnDtBag3UpuugdKN0MhIHlAlTkFFRYx2CHV21KKYi6Hp33mJcSBlDREDEmgFEJUT0O7aTYUXmn+gJHSQCiqdyegiN8tG81P2Zto9Tp4KzYlkxIGcS5TTv7XEswkApsNj7c8isfbd3MkcICEiIiuaprN67t3pNG5soTy/Iu69iZZ1Yuo7C0tMJWHg3c0KtPDUVef2w6kkl6bq7PMieKi1l1IJ3hbVJ9lqtPpGUnyLTW6Lwn0TnTwPYL6HzQJ6B4Afr4WHRJiHTajbgaLJeffFD+ZWcEzKjGL6OUzEki6o9ihw279v3t14Ai11YcoIi8W5H1G5NWzWXhofVk2wopsJew/vge7tnwLrO3LfTrllxtO1FcxJUfvc+slcvYk32CApuNfbk5/GP1Ki794D2OFBRU6XxR4eG8eslYwo1GjOWSOcPJ3/90VlfGd+1eo8+hPsgq9K8e/S1XX0iyE2zWRVD87skH5d84HYADnTMT7TgehMBqllIGVOyzqLi5ENYPVBwYEiFyMirhK1R4v2CHKESVRBjDK11NXClFgiW4E2bm2Ap5KO0/OLTTo/+Q8+RNjE8P/ML3Gb8GKzy3R5b8wN6c7LIJKdw0msP5edy7eFGVz3lOq9Z8e80UJvfsRWJUNHEWC/1btuLlMZfx7IjR7sSnIWkeFV2j5eoLuY0VJFrboOQHdP4zuO4eV/TNSgN2KP4EoqcFICbtal0q3eiKKXwghPWoVhO31sVQ8h04DoCKBctoDE1G11zQQgSJURkY07I3nx9c67UTskM7GZMU3L5oXx5aj83p8No/w4Dig/2rGJ3Us8rndjid/Lh/L9uOZhFmMHJeals6NUmo8nkyC/L5fs/vXjsVO7Rm5YH97Mk+QdvG8VU6d0pcHH8beh5/G3peleMKRT2aJ9ImLo79OTleXxNNIiIZnJwS0LhqmyQ7QaBLlqJz7wed40dpJ9q20WfX3hqJyb4XnX0bOHbjurUEMAfCekDciyhj1WeB1cVfovP+BroQ10vNAflPoyMnoWIeQCl5+Yn6bWrbYfwvczP59pIKE57LW/WlXUxwlyXYknMA711RXS0823MP4tTOKq3ltSkzg9u++ZKMgnyMyoBGM3v1CoaltOGfo8cQa/G/j83mI0f8Gj21KTOzysmO8KSU4m9Dz+fGhQu8fs3+69DhmAyhdeMntJ5NPaBt69E5t4L23UHsDwpqOSnQzhPoE9eAY9/JLQ7ct9RKt6JPTHa10FTlnCVL0Ll/OZnoANhx/Vk5oejdky1aQtRvzSPieO2caXSPS/bYbjGEcX3b4TzQdWxwAivHdavG99clpRSqCl+p9uZkc+2CTzhysl+HQzvdycrK9P3csHCB30O/AQwG/65t9LOc8G14m1Reu+wKWp6yvELzqGj+deEYLpN5dkR16YK5Zb/5ewTKPLi2wnEp+gCc2VQ8H44DHPuh+EuIHO/X6bTW6II5+Lw9V/QeOurPKGOzM49biDogOSqB+QP+zN6CLHYXHMFsCKNPfCqRJnOwQwOgV+M2/M/HLM4GFP3j21fpdvVrG9ZhddgrTGgcWrMxM4MV+/cxzM/RPH1btCTcaMTmY7izQSkGtGztd4zCt/PatGXYlFQ2ZBwmsyCfhMgo+iW1xBhiLTplJNkJIO3MBdvqKhyhTvZzuazWYgLQxQvxPfGfQhd/ifIz2cGxH+yVrTmjoeR7iJrkZ5RC1G2p0c1Ija4bybvWmu8yNvHu3hXsys/wWdaJZlLquVU6/xc7tvucw8aoFF/t2uF3shNrsTChSzfe3/JrhQmUQSku69iZ5tGh1Wk22AxK0TepZbDDCAhJdgLJmV95GQ8aIsahDLX8B+6s7Jaa9rN/kb/nAzC4htkLIWrc3B2LeG+f93W7ykuJakrveP/nU3FqTVGp7/mFHFqTZ63a/EIPnTuc9Lxclu3f517moezfvi1a8n/njajS+YQoT5KdQDImAGbA6v8xRW+gI69BmWqx+daUAqU5eG/dMYKxCpNLGVvi6g7mq7XIAUZpkhaipm08sZf39q0A/hhe7kt64VE+O7CGq1IG+nV+g1K0iI4ho8D7lxWjUiTHxvl1vjJmk4nXL7uS5fv38cm2zRzOz6d5VDTjzurK+altQ/b2iggMSXYCSCkLOuIK11Byv9eBUujij1Ax99ReXJET0bkbfZRwoCIn+H8+YwLafD5Yl1Lx81SuGZMtI6saqhB1QmZxDgsPruNg0QliwiyMbNGDnnEpdWIm4k8P/IJRGaq0JtfH+3/yO9kBuLZ7T+b8vMrnUPHxXao+YZ9BKYa3SQ2pmXtF3SDJToCp6Olo64/gPIp/CY8TSnfVblCWS6D4C7D9RIWtMZZLIXxQlU6pYh5A29advFVV/nm6PgxU7JMoVTc6cApRFW/t/pGXdy123yBSSvFJ+s/0a9KO2b0mERXkjsk78g5XKdHRwP6iY1Uaej6lZy++3rWDHcePVZjwTOvTnw5NmvgdgxC1TdoFA0wZm6KafOJKMPzKNQ1gqNqaMFWOSZlQjV+FqD+7Fu10XzoeFf0XVOzsKn9jVaZkVJP/gvkCPF5mpq6oxq+hLBfVTPBCBNDXhzYwb9f3aDTOkz9licX643t47NePgxwhRBirnmyFKWOVhp5HhYfzwbgJXNu9JxbTH+9jSTExPHneCO4dNKTKMQhRm5SuC4uiBFleXh6xsbHk5ubS6JR5B2qTduaic/4CtlX4auVRsXNQEZcEJiZtBfsewACmtijlezp8v87pPAGODFAxKFNy5QcIUU0F9hLSC48RbjCRGt0MYxUmy/NGa8245c9xsPiEz3IfD5lJmyCOyipredJ+Tm9hVAbOb96Np86++oyuV2izsS8nm3CjiXbx8Q1yCQYRPP5+fsttrCBShliIuRt9fDUVz0ljBGMSWEYFLiZlhrCanVBKGeLBILOeitqXV1rMizsW8c3hjdicdgCamRsxtd1wxrUeUK0+NemFxypNdAwolmf9FtRk5/LWfXlv3woK7CV+T+xX1aHn5UWFh9O1WXBniRaiMnIbK8hUWBdU3EuABVfCY8Sdgxpboxq/jVLhwQtQiHqiwF7Cn395lS8PrXMnOgBZ1jxmb1vISzu/q9b5rU7fw63B1X/Hn3K1qXF4NPP63UhcWBTgarkpPwTdiMKoXFvMhjCeOfsazoptGHOtiIZLWnbqAGU5D5qthOIv0PYtQDjKPBzMw1DKWNnhQgjgo32r2Vdw1Otw63f2LmdMy95nPPFfy8gmhBtMHonUqRzaSfvo4LdydGyUxMLh97EkcwvrTuxBa03Pxm2IMVn4+fguSp12OjdqycVJvYgOq90+gULUBZLs1BHKEANRk2p9wU8hQtWnB37xOa+MURlYeHAdMzpf7LG9wF7Ct4c2suTIForsNjrEJHJl8gC6xLbyKBdlMnNxUi8WHlpX8Sy/KOLCozi3Wd1YVyjbVsi+wqPszT+CBhqHR3Fl6wGcl9g12KEJEXCS7Agh6j2HdnLM6ntGbod2cuiUPjf7C45y69rXOG7Nd6dJO/MzWHhoPVPbDuPWDqM8+vnc3nE0G7P3cqDwuEdiZVQGDErxVM+rMRmC3xq7Mus37k97H4fT6Y5zW+5B3t+3kid7TuCCxKrPgSNEfSZ9doQQ9Z4BhcXge+SgURmIMUW4H9udDmasf4tsW6FHe1DZUPK39izju4xNHueIDY/kjXNu5bq2Q2kU5jqX6eRoprcG3kafJm1r5glVw+GibO7f+D52p8MjIXOicWonj2z6iL0FWUGMUIjAk5YdIUS9p5TiwqSz+fLQeq8T6jm0k9Eterofrzy6g8PF2d7PieKdPcsZ3aKnR+tOTFgEt3UczbQOIyl2lGI2mOpEa06ZTw/8gkNXfEOvbNsn6T9xX5fLAxmWEEElLTtCiJAwKfVcTD469PeIS6FvuZaXtcd/9zn/jkbze0EmeaXFFe43KANRJnOdSnQAfjq602ffJYd2svrozgBGJETwSbIjhAgJkcZwzEbvjdXx4VEeswQ7tNOvAQFOnwva1j3+LBVRleUkhAgFkuwIIULC+/tWUmgv8br/x6xtbMs96H7cPS4Zu48PfQUkRTR2z1dTX/SKb+OzxcqoDPSOl4U2RcMiyY4QIiQsPLgOh48Zg43KwFeHNrgfj0jsTmxYpMeEe+VpYGKbwXViJfOquCr5HJ8zJzu0k/HJ/q9wLmpfcWkp72zayIXvv0WPV+Yy7K3XmLvmJ04UFwU7tJAhyY4Qot5zaCf5Plp1ysqUH55uNobxXO/JmI1hGMslNGXJz6jEHvwp+ZzaCbgWtYtJ5IGul7vmYy/XwlP2+12dx9A1rnWQohOnyrNaGf/fD3l82RJ2HT9Ogc3GgbxcXvjlJ8b85x0O5uUGO8SQIKOxhBD1nlEZaGSKIM9ecWfisjJNLTEe23o0TuGDwTP4JP0nFmdupsRho310In9KOYfzm3fFUAMLiAbDFa370zGmBR/uX82a47+jtaZPk7ZcnTKYno1Tgh2eKOfpFT+y/djR07qUO7XmWFERdy76mgXjrwlGaCFFkh0hREi4rFVfPti/yufQ80ta9gFgR95hfj62C7t20DW2NdM7XXjazMr1Xde41vxf3IRghyF8yCkpZsFv27zednRoTVpmBluzjshiq9UkyY4QIiRckzqERRlpZNsKT0t4FDCyRQ9aRMQxbc2/2XBiLwYUSikc2knLiHie7XUtHRu1CE7wokHadvQodqfvkXEK2JCZIclONdXPNlohhDhFgjmG18+ZRq/GbTy2mw0mrm1zLo90vZLb177Bpuz9gGtG4bKkKKM4m2lr/s2R4pwARy0aMqMfnd81YDLIR3V1SctOAGntAJ0PKhKlwoMdjhAhp0VEY+b1v4n0wmPszM8g3GCid3wq0SYLP2Ru5vf8zAqPc6Ipslv5aP9P3Nn5ogBHLRqq7s0TiQwLo6i01Ge5Qa2SAxRR6JJ0MQC04yjOvKfQWX3QWf3RR87GmXMv2r472KEJEZKSoxIYkdidoc3OItpkAWBxxq9eh5mDK+H55vDGQIUoBJFhYUzp2cvrq9KoFCNS25ESFxfIsEKSJDu1TDsy0cevhKL3QJfNmWCHkq/Qx65El/4a1PiEaChyS4t8LqMA+JyUUIjaMHPAIEa36wD8cVvLcPLfrk2b8Y9RFwYttlAit7Fqmc57ApzHAMcpexyAFZ3zF0j4vt5NXCZEfZMcmcCm7P0+l0pIiogPYERCQJjRyEsXX8qqA+l8vHUzB/JySYiM5IrOXRjZtj1hxrq19lp9JclOLdKOLLAuAa9r6zjBsR9sv4C55icv0/bd6OIF4DgChnhUxFhUWJcav44Q9cHY1v34/OBar/sVMC55AFprtuQe4LvDm8grLSYpsjGXtuxDy8iaS4Qc2slPR3eyPGs7VmcpHWJacEnL3sSF16+lKUTNUEoxJDmFIckyB1JtkWSnNtl34z3RKaPAvrNGkx2tnei8p6D4XeCPbwW66C205VJU7DMoFVZj1xOiPugS24rRLXryXcamCvenRDVldIse3L3+HVYd24FRGdBaoxS8uXspN7Y7n5vbX1DtVtisklzuXPcmewqyXLMaa80iNvHyzu/5a/dxXJh0drXOL4Q4nfTZqU0qwo9CGpSlZq9b+OrJRAdct8vKfnD1Fcp/tmavJ0Q9UGy3sf74Ho+Vz8s7WHicR3/9hJ+O7QRcrS+u4ekaDby2ewmfHVhTrRgc2smMdW+xv/CY+7EDjUZTqh08+usnbDyxt1rXEEKcTpKd2hTWDQxNKilkAPPwGruk1iXown/7KgFFH6Cd2Wd4fie6dBe69Fe00781W7TjGNq2CW3fh/axQKEQtem7jE0cs+WjvXRSdqJZfWynz07Mb+xe6rPPT2VWH93J7oIjXs9hUIq39yw74/MLISomyU4tUsqEirrVRwkDRPwJZWxWcxe1rQddUEmhUrCuqvKpddEC9LER6ONj0Mf/hM4aiDPnPrTjeMXl7ftwZk9DHx2MPnEV+tgo9PHL0dYfq3xtIaprWdY2r606QKUjtQCyrHns9jJXjz+WZ23zWJzzVA7t5Kdju7A7Tx3QIISoDkl2alvkZIi6BVf3R2O5H8A8GtXobzV7PW31s1zVhtjqglfReQ+A42C5rXYo+RJ9YvxpLUXavg99/E9gXQblP0TsO9DZt6CLv67S9YWorhJHqddWnaqdx37Gx1od9kpbNzWaUkl2hKhRkuzUMqUUhpi/oBJ+gKhpYLkUIqegmnyOofELNT+TsqmDf+XCOvp9Su3IQBfM8bLXAY7D6IJXPY/JfwZ0IacPuXe90eu8v6GrmHAJUR0dY1r4bFXxp9uxURlIjko44xjaxyRWmm41t8RiMcoAAiFqkiQ7AaJMrTHEzMAQNxtDowdAW3Hm3I/z2JU4T1yHLvoA7SyskesQPoTyo7A8GcF0Fpi6+3/S4gX4/ihwQPHHruUwcPXRwbqU0xOdMtq1bEbJD/7HIEQ1Xdm6P04f/W00EBsW6XWWZaMyMKpFD+LCI884hkta9q4k4VJMSBkk824JUcMk2QkwrTXOvKfRJyZAyUKwbwHbL+i8R9HHxqDt6dW+hmr0BBjiOT3hMbrW5Yr9e5XeTLXjAJV+79UFrgQGwHEIKv3+agTHAb9jEKK6UqKbcmeniwEqTGhGJHbnH70nEWYwnZaQGFAkWuKYcfL4MxVvjuaRbleiKohBoegTn8r4lIHVuoYQ4nQyz06gFX8CRW+dfFDW8nEyMXAeQWffDAnfonx8+6uMMrWCJgvQha+5rqeLADNEXI6K+jPKVMVF5VQjPwq5EikADLF+lHeCiqlaHEJU07WpQ0iOSuDdvctJy94HuGZWvrrNIK5o3R+jMvD2oNt4e88yFmdsxq4dxJgsjG3dn8mpQ6vVqlPm4pa9SIyI5a09y/jl2C40rltX41MGMiFlEOEGeVsWoqYpLWOBycvLIzY2ltzcXBo18ueD/cxordHHRoEjHV8tH6rxayjz0Bq6ptOV7KgIlDqzace1bRP6xFU+ShjBPBJD43+dvKZGH7/MNVmi1+dpQDVdgTI2PaOYhKgum9OOw+nEYgyrsKXT7nRQ4iwl0hiOoRpfPnwpddopdTqIMIbLrSshzoC/n99yGyuQnFmu5SF83uIxoa2ra+ySShlQhugzTnQACOsB5vOp+OViAIyo6D+G2CulUDF/KXtU8Tkjp0iiI4Iq3GAiwuQ9yTAZjESbLLWW6ACEGUxEmsyS6AhRyyTZCSh/JyM780nLaoNSChX3PFgugpO9Ddz9gQxNUPFvoMLO8jzGPBwVOwdU9Mktxj+OjbweFXNfwOIXQgjRsMnN4UAyNHP9OLN8FLKjwnsFLCR/KRWBinsebb/LtbipLgZTRzAPQ6mKX0YqYgxYLnCNunIcAEMjMI+SFh0hhBABJclOACllhMgp6IJ/UPGtLINreQnziECH5jdlSgbTVP/LKwtEXFJ7AQkRZHannbk7v2PhwXUU2q0oFG2jmzGz88UMSPBz3ishRK2S21iBFnU9mC84+aB89Z8cFt74FVmRXIh6wu60c9WK5/lg3yoK7a7ZyzWa3QVHmL7uTd7duzzIEQohQJKdgFPKhIqb6+rPEtYLVCwYWkDUDaiEr1FhVZjsTwgRVE9sXsChYu+L6s7dsYijJXkBjEgIURG5jRUEShkh4hKU3N4Rol77IXNzpWVe+O0bnjz76gBEI4TwJmRadubNm0dqaioWi4U+ffqwYsWKYIckhAhhJ6wF2HXlC3ZuzT1YaRkhRO0KiWTno48+YubMmTz88MNs3LiRc889l4suuoj09OovvSCEEBXxtcZVeQaZQ0eIoAuJZGfOnDnceOON3HTTTZx11ln885//pHXr1rz88svBDk0IEaJiwyOJMIZXWm5gQscARCOE8KXeJzs2m43169czatQoj+2jRo1i9eqKZyK2Wq3k5eV5/AghRFVdlex70U4Dits6jgxQNEIIb+p9snPs2DEcDgfNmzf32N68eXMyMzMrPGbWrFnExsa6f1q3bh2IUIUQIeaOTqMZ0KR9hfsUitm9ryXSZAlwVEKIU9X7ZKfMqWvLaK29rjfz4IMPkpub6/45cOBAIEIUQoSguf1uYNbZE2kb1YwIYzgxJgsXNO/GwuH3MbRZl2CHJ4QgBIaeJyQkYDQaT2vFycrKOq21p4zZbMZsNgciPCFEA3BBYncuSJQ5soSoq+p9y054eDh9+vRh8eLFHtsXL17MoEGDghSVEEIIIeqKet+yA3D33XczefJk+vbty8CBA5k/fz7p6elMmzYt2KEJIYQQIshCItmZMGECx48f54knniAjI4Nu3brxzTffkJKSEuzQhBBCCBFkSmtd0fLbDUpeXh6xsbHk5ubSqFGjYIcjhBBCCD/4+/ld7/vsCCGEEEL4IsmOEEIIIUKaJDtCCCGECGmS7AghhBAipEmyI4QQQoiQJsmOEEIIIUJaSMyzU11lo+9l9XMhhBCi/ij73K5sFh1JdoD8/HwAWf1cCCGEqIfy8/OJjY31ul8mFQScTieHDx8mJibG60rpgZKXl0fr1q05cOCATHBYTVKXNUPqseZIXdYcqcuaU5/rUmtNfn4+SUlJGAzee+ZIyw5gMBho1apVsMPw0KhRo3r3oqurpC5rhtRjzZG6rDlSlzWnvtalrxadMtJBWQghhBAhTZIdIYQQQoQ0SXbqGLPZzKOPPorZbA52KPWe1GXNkHqsOVKXNUfqsuY0hLqUDspCCCGECGnSsiOEEEKIkCbJjhBCCCFCmiQ7QgghhAhpkuwIIYQQIqRJshMEs2bNol+/fsTExNCsWTPGjh3Ljh07PMporXnsscdISkoiIiKC4cOHs3Xr1iBFXD/MmjULpRQzZ850b5N69N+hQ4eYNGkSTZo0ITIykrPPPpv169e790td+sdut/PII4+QmppKREQEbdu25YknnsDpdLrLSF1WbPny5Vx66aUkJSWhlOLzzz/32O9PvVmtVqZPn05CQgJRUVFcdtllHDx4MIDPom7wVZelpaXcf//9dO/enaioKJKSkrjuuus4fPiwxzlCqS4l2QmCZcuWcfvtt/Pzzz+zePFi7HY7o0aNorCw0F1m9uzZzJkzhxdffJG1a9eSmJjIyJEj3et4CU9r165l/vz59OjRw2O71KN/srOzGTx4MGFhYXz77bds27aN5557jri4OHcZqUv/PPvss7zyyiu8+OKLbN++ndmzZ/P3v/+duXPnustIXVassLCQnj178uKLL1a43596mzlzJp999hkffvghK1eupKCggEsuuQSHwxGop1En+KrLoqIiNmzYwF//+lc2bNjAggUL2LlzJ5dddplHuZCqSy2CLisrSwN62bJlWmutnU6nTkxM1M8884y7TElJiY6NjdWvvPJKsMKss/Lz83WHDh304sWL9bBhw/SMGTO01lKPVXH//ffrIUOGeN0vdem/MWPG6BtuuMFj25VXXqknTZqktZa69BegP/vsM/djf+otJydHh4WF6Q8//NBd5tChQ9pgMOhFixYFLPa65tS6rMiaNWs0oPfv36+1Dr26lJadOiA3NxeA+Ph4APbu3UtmZiajRo1ylzGbzQwbNozVq1cHJca67Pbbb2fMmDGMGDHCY7vUo/8WLlxI3759ueqqq2jWrBm9evXi3//+t3u/1KX/hgwZwv/+9z927twJwKZNm1i5ciUXX3wxIHV5pvypt/Xr11NaWupRJikpiW7dukndViI3NxellLs1N9TqUhYCDTKtNXfffTdDhgyhW7duAGRmZgLQvHlzj7LNmzdn//79AY+xLvvwww/ZsGEDa9euPW2f1KP/9uzZw8svv8zdd9/NQw89xJo1a7jzzjsxm81cd911UpdVcP/995Obm0vnzp0xGo04HA6eeuopJk6cCMjr8kz5U2+ZmZmEh4fTuHHj08qUHS9OV1JSwgMPPMA111zjXgg01OpSkp0gu+OOO/j1119ZuXLlafuUUh6PtdanbWvIDhw4wIwZM/j++++xWCxey0k9Vs7pdNK3b1+efvppAHr16sXWrVt5+eWXue6669zlpC4r99FHH/Hee+/xn//8h65du5KWlsbMmTNJSkpiypQp7nJSl2fmTOpN6ta70tJSrr76apxOJ/Pmzau0fH2tS7mNFUTTp09n4cKFLF26lFatWrm3JyYmApyWPWdlZZ32raYhW79+PVlZWfTp0weTyYTJZGLZsmX861//wmQyuetK6rFyLVq0oEuXLh7bzjrrLNLT0wF5TVbFvffeywMPPMDVV19N9+7dmTx5MnfddRezZs0CpC7PlD/1lpiYiM1mIzs722sZ8YfS0lLGjx/P3r17Wbx4sbtVB0KvLiXZCQKtNXfccQcLFixgyZIlpKameuxPTU0lMTGRxYsXu7fZbDaWLVvGoEGDAh1unXXBBRewefNm0tLS3D99+/bl2muvJS0tjbZt20o9+mnw4MGnTX+wc+dOUlJSAHlNVkVRUREGg+dbq9FodA89l7o8M/7UW58+fQgLC/Mok5GRwZYtW6RuT1GW6OzatYsffviBJk2aeOwPuboMWtfoBuzWW2/VsbGx+scff9QZGRnun6KiIneZZ555RsfGxuoFCxbozZs364kTJ+oWLVrovLy8IEZe95UfjaW11KO/1qxZo00mk37qqaf0rl279Pvvv68jIyP1e++95y4jdemfKVOm6JYtW+qvvvpK7927Vy9YsEAnJCTo++67z11G6rJi+fn5euPGjXrjxo0a0HPmzNEbN250jxDyp96mTZumW7VqpX/44Qe9YcMGff755+uePXtqu90erKcVFL7qsrS0VF922WW6VatWOi0tzeNzyGq1us8RSnUpyU4QABX+vPnmm+4yTqdTP/roozoxMVGbzWY9dOhQvXnz5uAFXU+cmuxIPfrvyy+/1N26ddNms1l37txZz58/32O/1KV/8vLy9IwZM3RycrK2WCy6bdu2+uGHH/b4EJG6rNjSpUsrfG+cMmWK1tq/eisuLtZ33HGHjo+P1xEREfqSSy7R6enpQXg2weWrLvfu3ev1c2jp0qXuc4RSXSqttQ5cO5IQQgghRGBJnx0hhBBChDRJdoQQQggR0iTZEUIIIURIk2RHCCGEECFNkh0hhBBChDRJdoQQQggR0iTZEUIIIURIk2RHCFEtbdq04Z///Kf7sVKKzz//PGjx1FU7duwgMTGR/Pz8YIfiF6vVSnJyMuvXrw92KEJUmyQ7QtRxWVlZ3HLLLSQnJ2M2m0lMTGT06NH89NNPwQ6tQhkZGVx00UW1fp2lS5dy3nnnER8fT2RkJB06dGDKlCnY7fZav/aZePjhh7n99tuJiYkBoKSkhKlTp9K9e3dMJhNjx4716zxbt25l3LhxtGnTBqWUR6JZ3rx580hNTcVisdCnTx9WrFjhsV9rzWOPPUZSUhIREREMHz6crVu3uvebzWbuuece7r///jN6vkLUJZLsCFHHjRs3jk2bNvH222+zc+dOFi5cyPDhwzlx4kSwQ6tQYmIiZrO5Vq+xdetWLrroIvr168fy5cvZvHkzc+fOJSwszL3gZk3TWp9xInXw4EEWLlzI9ddf797mcDiIiIjgzjvvZMSIEX6fq6ioiLZt2/LMM8+4VwI/1UcffcTMmTN5+OGH2bhxI+eeey4XXXSRexV7gNmzZzNnzhxefPFF1q5dS2JiIiNHjvRoebr22mtZsWIF27dvP4NnLUQdEtzVKoQQvmRnZ2tA//jjjz7LAXrevHn6wgsv1BaLRbdp00Z//PHHHmUOHjyox48fr+Pi4nR8fLy+7LLL9N69e937p0yZoi+//HL997//XScmJur4+Hh92223aZvN5i5z5MgRfckll7iv8d577+mUlBT9/PPPe8Ty2Wefaa21ew2eTz/9VA8fPlxHREToHj166NWrV3vENn/+fN2qVSsdERGhx44dq5977jkdGxvr9fk+//zzuk2bNr4rT2u9cuVKPXToUB0REaHj4uL0qFGj9IkTJ7TWWpeUlOjp06frpk2barPZrAcPHqzXrFnjPrZsbaFFixbpPn366LCwML1kyRLtdDr1s88+q1NTU7XFYtE9evTQn3zyic84nnvuOd23b1+v+8vqvqpOrfsy/fv319OmTfPY1rlzZ/3AAw9orV1rTCUmJupnnnnGvb+kpETHxsbqV155xeO44cOH67/+9a9Vjk2IukRadoSow6Kjo4mOjubzzz/HarX6LPvXv/7V3Qo0adIkJk6c6P5GXlRUxHnnnUd0dDTLly9n5cqVREdHc+GFF2Kz2dznWLp0Kbt372bp0qW8/fbbvPXWW7z11lvu/VOnTmXfvn0sWbKE//73v8ybN4+srKxKn8fDDz/MPffcQ1paGh07dmTixInuVpJVq1Yxbdo0ZsyYQVpaGiNHjuSpp57yeb7ExEQyMjJYvny51zJpaWlccMEFdO3alZ9++omVK1dy6aWX4nA4ALjvvvv49NNPefvtt9mwYQPt27dn9OjRp7WY3XfffcyaNYvt27fTo0cPHnnkEd58801efvlltm7dyl133cWkSZNYtmyZ11iWL19O3759K62nmmCz2Vi/fj2jRo3y2D5q1ChWr14NwN69e8nMzPQoYzabGTZsmLtMmf79+592C0yIeifY2ZYQwrf//ve/unHjxtpisehBgwbpBx98UG/atMmjDHDaN/kBAwboW2+9VWut9euvv647deqknU6ne7/VatURERH6u+++01q7WhdSUlK03W53l7nqqqv0hAkTtNZa79ixQwP6559/du/fvn27Bipt2Xnttdfc+7du3aoBvX37dq211hMmTNBjxozxiP3aa6/12bJjt9v11KlTNaATExP12LFj9dy5c3Vubq67zMSJE/XgwYMrPL6goECHhYXp999/373NZrPppKQkPXv2bK31Hy07n3/+ucdxFovltJapG2+8UU+cONFrvD179tRPPPGE1/012bJz6NAhDehVq1Z5bH/qqad0x44dtdZar1q1SgP60KFDHmVuvvlmPWrUKI9tL7zwgl+taELUZdKyI0QdN27cOA4fPszChQsZPXo0P/74I7179/ZocQEYOHDgaY/LWnbWr1/P77//TkxMjLu1KD4+npKSEnbv3u0+pmvXrhiNRvfjFi1auFtutm/fjslk8mih6Ny5M3FxcZU+hx49enicE3Cfd8eOHfTv39+j/KmPT2U0GnnzzTc5ePAgs2fPJikpiaeeeoquXbuSkZEB/NGyU5Hdu3dTWlrK4MGD3dvCwsLo37//af1Tyj/fbdu2UVJSwsiRI931GB0dzTvvvONRj6cqLi7GYrH4fE6nSk9P97jG008/XaXjlVIej7XWp23zp0xERARFRUVVurYQdY0p2AEIISpnsVgYOXIkI0eO5G9/+xs33XQTjz76KFOnTvV5XNkHl9PppE+fPrz//vunlWnatKn797CwsNOOL+vwq7X2OGdVlD9v+ZjKzlvRh64/WrZsyeTJk5k8eTJPPvkkHTt25JVXXuHxxx8nIiLC63HenktFsURFRbl/L4v566+/pmXLlh7lfHXKTkhIIDs726/nVCYpKYm0tDT34/j4eL+OS0hIwGg0kpmZ6bE9KyuL5s2bA7g7NmdmZrqTz1PLlDlx4oTHa0SI+khadoSoh7p06UJhYaHHtp9//vm0x507dwagd+/e7Nq1i2bNmtG+fXuPn9jYWL+uedZZZ2G321m3bp17244dO8jJyanWc+ncuTNr1qzx2Fb+Gv5q3LgxLVq0cNdLjx49+N///ldh2fbt2xMeHs7KlSvd20pLS1m3bh1nnXWW12t06dIFs9lMenr6afXYunVrr8f16tWLbdu2Ven5mEwmj/P7m+yEh4fTp08fFi9e7LF98eLFDBo0CIDU1FQSExM9ythsNpYtW+YuU2bLli306tWrSrELUddIy44Qddjx48e56qqruOGGG+jRowcxMTGsW7eO2bNnc/nll3uU/eSTT+jbty9Dhgzh/fffZ82aNbz++uuAawjx3//+dy6//HKeeOIJWrVqRXp6OgsWLODee++lVatWlcbSqVMnLrzwQm6++Wbmz5+PyWRi5syZPltQ/DF9+nSGDh3KnDlzuPTSS1myZAnffvutzxakV199lbS0NK644gratWtHSUkJ77zzDlu3bmXu3LkAPPjgg3Tv3p3bbruNadOmER4eztKlS7nqqqtISEjg1ltv5d577yU+Pp7k5GRmz55NUVERN954o9frxsTEcM8993DXXXfhdDoZMmQIeXl5rF69mujoaKZMmVLhcaNHj+amm27C4XB43Cbctm0bNpuNEydOkJ+f727JOfvss73GYLPZ3ImTzWbj0KFDpKWlER0dTfv27QG4++67mTx5Mn379mXgwIHMnz+f9PR0pk2bBrhatGbOnMnTTz9Nhw4d6NChA08//TSRkZFcc801HtdbsWIF//d//+c1HiHqhSD2FxJCVKKkpEQ/8MADunfv3jo2NlZHRkbqTp066UceeUQXFRW5ywH6pZde0iNHjtRms1mnpKToDz74wONcGRkZ+rrrrtMJCQnabDbrtm3b6ptvvtndqbeiTrIzZszQw4YN8zjHmDFjtNls1snJyfqdd97xa+j5xo0b3fvLhtMvXbrUvW3+/Pm6ZcuW7qHnTz75pE5MTPRaLxs2bNCTJk3Sqamp2mw26yZNmuihQ4fqhQsXepT78ccf9aBBg7TZbNZxcXF69OjROjs7W2utdXFxsZ4+fbq7PrwNPS8rX8bpdOoXXnhBd+rUSYeFhemmTZvq0aNH62XLlnmN126365YtW+pFixZ5bE9JSdHAaT++lNXpqT/l/5+01vqll17SKSkpOjw8XPfu3fu0+JxOp3700Ud1YmKiNpvNeujQoXrz5s0eZVavXq3j4uI8XmtC1EdKaz9vjgsh6iylFJ999pnfs/DWdTfffDO//fZbSA15njdvHl988QXfffddsEPx21VXXUWvXr146KGHgh2KENUit7GEEEH3j3/8g5EjRxIVFcW3337L22+/zbx584IdVo3685//THZ2Nvn5+e4lI+oyq9VKz549ueuuu4IdihDVJi07QoSA+t6yM378eH788Ufy8/Np27Yt06dPd/cvEUKI6pJkRwghhBAhTYaeCyGEECKkSbIjhBBCiJAmyY4QQgghQpokO0IIIYQIaZLsCCGEECKkSbIjhBBCiJAmyY4QQgghQpokO0IIIYQIaZLsCCGEECKk/T+XV5W5hZuf7AAAAABJRU5ErkJggg==",
      "text/plain": [
       "<Figure size 640x480 with 1 Axes>"
      ]
     },
     "metadata": {},
     "output_type": "display_data"
    }
   ],
   "source": [
    "plt.scatter(Datos['Annual Income (k$)'], Datos['Spending Score (1-100)'], c=Datos['Grupo'], cmap='viridis')\n",
    "plt.xlabel('Spending Score (1-100)')\n",
    "plt.ylabel('Annual Income (k$)')\n",
    "plt.title('Grupos de Clientes')\n",
    "plt.show()"
   ]
  },
  {
   "cell_type": "code",
   "execution_count": 145,
   "id": "604553c8-74b2-4d9e-b930-50f08c677ed6",
   "metadata": {},
   "outputs": [
    {
     "data": {
      "application/vnd.plotly.v1+json": {
       "config": {
        "plotlyServerURL": "https://plot.ly"
       },
       "data": [
        {
         "hovertemplate": "Grupo=%{marker.color}<br>Annual Income (k$)=%{x}<br>Spending Score (1-100)=%{y}<br>Age=%{z}<extra></extra>",
         "legendgroup": "6",
         "marker": {
          "color": [
           6,
           6,
           6,
           6,
           6,
           6,
           6,
           6,
           6,
           6,
           6,
           6,
           6,
           6,
           6,
           6,
           6,
           6,
           6,
           6
          ],
          "coloraxis": "coloraxis",
          "opacity": 0.7,
          "symbol": "circle"
         },
         "mode": "markers",
         "name": "6",
         "scene": "scene",
         "showlegend": true,
         "type": "scatter3d",
         "x": [
          17,
          18,
          19,
          19,
          20,
          20,
          21,
          23,
          24,
          25,
          28,
          28,
          29,
          30,
          33,
          33,
          34,
          37,
          39,
          39
         ],
         "y": [
          40,
          6,
          3,
          14,
          15,
          13,
          35,
          29,
          35,
          5,
          14,
          32,
          31,
          4,
          4,
          14,
          17,
          26,
          36,
          28
         ],
         "z": [
          31,
          35,
          64,
          67,
          58,
          37,
          35,
          52,
          35,
          46,
          54,
          45,
          40,
          60,
          53,
          49,
          42,
          36,
          48,
          49
         ]
        },
        {
         "hovertemplate": "Grupo=%{marker.color}<br>Annual Income (k$)=%{x}<br>Spending Score (1-100)=%{y}<br>Age=%{z}<extra></extra>",
         "legendgroup": "5",
         "marker": {
          "color": [
           5,
           5,
           5,
           5,
           5,
           5,
           5,
           5,
           5,
           5,
           5,
           5,
           5,
           5,
           5,
           5,
           5,
           5,
           5,
           5
          ],
          "coloraxis": "coloraxis",
          "opacity": 0.7,
          "symbol": "circle"
         },
         "mode": "markers",
         "name": "5",
         "scene": "scene",
         "showlegend": true,
         "type": "scatter3d",
         "x": [
          17,
          18,
          19,
          19,
          20,
          20,
          21,
          23,
          24,
          25,
          28,
          28,
          29,
          30,
          33,
          33,
          34,
          37,
          38,
          39
         ],
         "y": [
          76,
          94,
          72,
          99,
          77,
          79,
          66,
          98,
          73,
          73,
          82,
          61,
          87,
          73,
          92,
          81,
          73,
          75,
          92,
          65
         ],
         "z": [
          22,
          23,
          30,
          35,
          24,
          22,
          20,
          35,
          25,
          31,
          29,
          35,
          23,
          21,
          18,
          21,
          30,
          20,
          24,
          24
         ]
        },
        {
         "hovertemplate": "Grupo=%{marker.color}<br>Annual Income (k$)=%{x}<br>Spending Score (1-100)=%{y}<br>Age=%{z}<extra></extra>",
         "legendgroup": "0",
         "marker": {
          "color": [
           0,
           0,
           0,
           0,
           0,
           0,
           0,
           0,
           0,
           0,
           0,
           0,
           0,
           0,
           0,
           0,
           0,
           0,
           0,
           0,
           0,
           0,
           0,
           0,
           0,
           0,
           0,
           0,
           0,
           0,
           0,
           0,
           0,
           0,
           0,
           0,
           0,
           0,
           0,
           0,
           0,
           0,
           0,
           0
          ],
          "coloraxis": "coloraxis",
          "opacity": 0.7,
          "symbol": "circle"
         },
         "mode": "markers",
         "name": "0",
         "scene": "scene",
         "showlegend": true,
         "type": "scatter3d",
         "x": [
          38,
          40,
          42,
          43,
          43,
          43,
          44,
          44,
          46,
          46,
          47,
          47,
          48,
          48,
          48,
          49,
          49,
          50,
          50,
          54,
          54,
          54,
          54,
          54,
          54,
          54,
          57,
          58,
          59,
          60,
          60,
          61,
          62,
          62,
          62,
          63,
          63,
          63,
          63,
          63,
          65,
          65,
          67,
          67
         ],
         "y": [
          35,
          55,
          52,
          60,
          45,
          41,
          50,
          46,
          46,
          56,
          52,
          59,
          51,
          50,
          48,
          55,
          42,
          49,
          56,
          47,
          53,
          42,
          51,
          41,
          44,
          46,
          58,
          46,
          55,
          49,
          47,
          42,
          48,
          59,
          56,
          50,
          46,
          43,
          48,
          52,
          43,
          59,
          43,
          57
         ],
         "z": [
          65,
          50,
          49,
          59,
          50,
          47,
          51,
          69,
          53,
          70,
          67,
          54,
          63,
          43,
          68,
          70,
          47,
          60,
          60,
          59,
          45,
          49,
          57,
          67,
          46,
          48,
          55,
          50,
          68,
          48,
          47,
          48,
          49,
          67,
          49,
          66,
          54,
          68,
          66,
          65,
          63,
          49,
          51,
          50
         ]
        },
        {
         "hovertemplate": "Grupo=%{marker.color}<br>Annual Income (k$)=%{x}<br>Spending Score (1-100)=%{y}<br>Age=%{z}<extra></extra>",
         "legendgroup": "2",
         "marker": {
          "color": [
           2,
           2,
           2,
           2,
           2,
           2,
           2,
           2,
           2,
           2,
           2,
           2,
           2,
           2,
           2,
           2,
           2,
           2,
           2,
           2,
           2,
           2,
           2,
           2,
           2,
           2,
           2,
           2,
           2,
           2,
           2,
           2,
           2,
           2,
           2,
           2,
           2
          ],
          "coloraxis": "coloraxis",
          "opacity": 0.7,
          "symbol": "circle"
         },
         "mode": "markers",
         "name": "2",
         "scene": "scene",
         "showlegend": true,
         "type": "scatter3d",
         "x": [
          39,
          40,
          40,
          40,
          42,
          43,
          46,
          46,
          48,
          48,
          48,
          54,
          54,
          54,
          54,
          54,
          57,
          58,
          59,
          60,
          60,
          60,
          60,
          61,
          62,
          62,
          62,
          63,
          64,
          64,
          65,
          65,
          67,
          67,
          69,
          72,
          76
         ],
         "y": [
          61,
          47,
          42,
          42,
          60,
          54,
          51,
          55,
          59,
          59,
          47,
          54,
          48,
          52,
          55,
          57,
          55,
          60,
          41,
          40,
          42,
          52,
          50,
          49,
          41,
          55,
          42,
          54,
          42,
          46,
          48,
          50,
          56,
          40,
          58,
          34,
          40
         ],
         "z": [
          31,
          27,
          29,
          31,
          33,
          31,
          27,
          19,
          18,
          19,
          32,
          26,
          40,
          23,
          38,
          21,
          22,
          34,
          18,
          40,
          32,
          24,
          27,
          20,
          23,
          26,
          21,
          19,
          38,
          19,
          18,
          19,
          27,
          38,
          40,
          25,
          28
         ]
        },
        {
         "hovertemplate": "Grupo=%{marker.color}<br>Annual Income (k$)=%{x}<br>Spending Score (1-100)=%{y}<br>Age=%{z}<extra></extra>",
         "legendgroup": "1",
         "marker": {
          "color": [
           1,
           1,
           1,
           1,
           1,
           1,
           1,
           1,
           1,
           1,
           1,
           1,
           1,
           1,
           1,
           1,
           1,
           1,
           1,
           1,
           1,
           1,
           1,
           1,
           1,
           1,
           1,
           1,
           1,
           1,
           1,
           1,
           1,
           1,
           1,
           1,
           1,
           1
          ],
          "coloraxis": "coloraxis",
          "opacity": 0.7,
          "symbol": "circle"
         },
         "mode": "markers",
         "name": "1",
         "scene": "scene",
         "showlegend": true,
         "type": "scatter3d",
         "x": [
          69,
          70,
          71,
          71,
          71,
          72,
          73,
          73,
          74,
          75,
          76,
          77,
          77,
          78,
          78,
          78,
          78,
          78,
          78,
          79,
          81,
          85,
          86,
          87,
          87,
          87,
          88,
          88,
          93,
          97,
          98,
          99,
          101,
          103,
          103,
          113,
          120,
          126
         ],
         "y": [
          91,
          77,
          95,
          75,
          75,
          71,
          88,
          73,
          72,
          93,
          87,
          97,
          74,
          90,
          88,
          76,
          89,
          78,
          73,
          83,
          93,
          75,
          95,
          63,
          75,
          92,
          86,
          69,
          90,
          86,
          88,
          97,
          68,
          85,
          69,
          91,
          79,
          74
         ],
         "z": [
          39,
          31,
          40,
          38,
          39,
          31,
          29,
          32,
          35,
          32,
          32,
          28,
          32,
          34,
          39,
          38,
          27,
          30,
          30,
          29,
          31,
          36,
          33,
          32,
          28,
          36,
          30,
          27,
          35,
          32,
          29,
          30,
          28,
          36,
          32,
          38,
          35,
          32
         ]
        },
        {
         "hovertemplate": "Grupo=%{marker.color}<br>Annual Income (k$)=%{x}<br>Spending Score (1-100)=%{y}<br>Age=%{z}<extra></extra>",
         "legendgroup": "4",
         "marker": {
          "color": [
           4,
           4,
           4,
           4,
           4,
           4,
           4,
           4,
           4,
           4,
           4,
           4,
           4,
           4,
           4,
           4,
           4,
           4,
           4,
           4,
           4,
           4,
           4,
           4,
           4
          ],
          "coloraxis": "coloraxis",
          "opacity": 0.7,
          "symbol": "circle"
         },
         "mode": "markers",
         "name": "4",
         "scene": "scene",
         "showlegend": true,
         "type": "scatter3d",
         "x": [
          70,
          71,
          71,
          71,
          73,
          73,
          74,
          75,
          77,
          77,
          78,
          78,
          78,
          78,
          78,
          78,
          79,
          81,
          85,
          86,
          87,
          87,
          87,
          88,
          88
         ],
         "y": [
          29,
          35,
          11,
          9,
          5,
          7,
          10,
          5,
          12,
          36,
          22,
          17,
          20,
          16,
          1,
          1,
          35,
          5,
          26,
          20,
          27,
          13,
          10,
          13,
          15
         ],
         "z": [
          23,
          43,
          59,
          47,
          20,
          44,
          19,
          57,
          25,
          48,
          34,
          43,
          44,
          47,
          37,
          34,
          56,
          19,
          50,
          42,
          36,
          40,
          36,
          52,
          58
         ]
        },
        {
         "hovertemplate": "Grupo=%{marker.color}<br>Annual Income (k$)=%{x}<br>Spending Score (1-100)=%{y}<br>Age=%{z}<extra></extra>",
         "legendgroup": "3",
         "marker": {
          "color": [
           3,
           3,
           3,
           3,
           3,
           3,
           3,
           3,
           3,
           3
          ],
          "coloraxis": "coloraxis",
          "opacity": 0.7,
          "symbol": "circle"
         },
         "mode": "markers",
         "name": "3",
         "scene": "scene",
         "showlegend": true,
         "type": "scatter3d",
         "x": [
          93,
          97,
          98,
          99,
          101,
          103,
          103,
          113,
          120,
          126
         ],
         "y": [
          14,
          32,
          15,
          39,
          24,
          17,
          23,
          8,
          16,
          28
         ],
         "z": [
          59,
          37,
          46,
          41,
          54,
          41,
          34,
          33,
          47,
          45
         ]
        }
       ],
       "layout": {
        "coloraxis": {
         "colorbar": {
          "title": {
           "text": "Grupo"
          }
         },
         "colorscale": [
          [
           0,
           "#0d0887"
          ],
          [
           0.1111111111111111,
           "#46039f"
          ],
          [
           0.2222222222222222,
           "#7201a8"
          ],
          [
           0.3333333333333333,
           "#9c179e"
          ],
          [
           0.4444444444444444,
           "#bd3786"
          ],
          [
           0.5555555555555556,
           "#d8576b"
          ],
          [
           0.6666666666666666,
           "#ed7953"
          ],
          [
           0.7777777777777778,
           "#fb9f3a"
          ],
          [
           0.8888888888888888,
           "#fdca26"
          ],
          [
           1,
           "#f0f921"
          ]
         ]
        },
        "height": 850,
        "legend": {
         "title": {
          "text": "Grupo"
         },
         "tracegroupgap": 0
        },
        "scene": {
         "aspectmode": "auto",
         "aspectratio": {
          "x": 1.3259928802456664,
          "y": 1.1921770849915168,
          "z": 0.6325837593832537
         },
         "camera": {
          "center": {
           "x": 0,
           "y": 0,
           "z": 0
          },
          "eye": {
           "x": 1.2500000000000002,
           "y": 1.25,
           "z": 1.2500000000000002
          },
          "projection": {
           "type": "perspective"
          },
          "up": {
           "x": 0,
           "y": 0,
           "z": 1
          }
         },
         "domain": {
          "x": [
           0,
           1
          ],
          "y": [
           0,
           1
          ]
         },
         "xaxis": {
          "title": {
           "text": "Annual Income (k$)"
          },
          "type": "linear"
         },
         "yaxis": {
          "title": {
           "text": "Spending Score (1-100)"
          },
          "type": "linear"
         },
         "zaxis": {
          "title": {
           "text": "Age"
          },
          "type": "linear"
         }
        },
        "showlegend": false,
        "template": {
         "data": {
          "bar": [
           {
            "error_x": {
             "color": "#2a3f5f"
            },
            "error_y": {
             "color": "#2a3f5f"
            },
            "marker": {
             "line": {
              "color": "#E5ECF6",
              "width": 0.5
             },
             "pattern": {
              "fillmode": "overlay",
              "size": 10,
              "solidity": 0.2
             }
            },
            "type": "bar"
           }
          ],
          "barpolar": [
           {
            "marker": {
             "line": {
              "color": "#E5ECF6",
              "width": 0.5
             },
             "pattern": {
              "fillmode": "overlay",
              "size": 10,
              "solidity": 0.2
             }
            },
            "type": "barpolar"
           }
          ],
          "carpet": [
           {
            "aaxis": {
             "endlinecolor": "#2a3f5f",
             "gridcolor": "white",
             "linecolor": "white",
             "minorgridcolor": "white",
             "startlinecolor": "#2a3f5f"
            },
            "baxis": {
             "endlinecolor": "#2a3f5f",
             "gridcolor": "white",
             "linecolor": "white",
             "minorgridcolor": "white",
             "startlinecolor": "#2a3f5f"
            },
            "type": "carpet"
           }
          ],
          "choropleth": [
           {
            "colorbar": {
             "outlinewidth": 0,
             "ticks": ""
            },
            "type": "choropleth"
           }
          ],
          "contour": [
           {
            "colorbar": {
             "outlinewidth": 0,
             "ticks": ""
            },
            "colorscale": [
             [
              0,
              "#0d0887"
             ],
             [
              0.1111111111111111,
              "#46039f"
             ],
             [
              0.2222222222222222,
              "#7201a8"
             ],
             [
              0.3333333333333333,
              "#9c179e"
             ],
             [
              0.4444444444444444,
              "#bd3786"
             ],
             [
              0.5555555555555556,
              "#d8576b"
             ],
             [
              0.6666666666666666,
              "#ed7953"
             ],
             [
              0.7777777777777778,
              "#fb9f3a"
             ],
             [
              0.8888888888888888,
              "#fdca26"
             ],
             [
              1,
              "#f0f921"
             ]
            ],
            "type": "contour"
           }
          ],
          "contourcarpet": [
           {
            "colorbar": {
             "outlinewidth": 0,
             "ticks": ""
            },
            "type": "contourcarpet"
           }
          ],
          "heatmap": [
           {
            "colorbar": {
             "outlinewidth": 0,
             "ticks": ""
            },
            "colorscale": [
             [
              0,
              "#0d0887"
             ],
             [
              0.1111111111111111,
              "#46039f"
             ],
             [
              0.2222222222222222,
              "#7201a8"
             ],
             [
              0.3333333333333333,
              "#9c179e"
             ],
             [
              0.4444444444444444,
              "#bd3786"
             ],
             [
              0.5555555555555556,
              "#d8576b"
             ],
             [
              0.6666666666666666,
              "#ed7953"
             ],
             [
              0.7777777777777778,
              "#fb9f3a"
             ],
             [
              0.8888888888888888,
              "#fdca26"
             ],
             [
              1,
              "#f0f921"
             ]
            ],
            "type": "heatmap"
           }
          ],
          "heatmapgl": [
           {
            "colorbar": {
             "outlinewidth": 0,
             "ticks": ""
            },
            "colorscale": [
             [
              0,
              "#0d0887"
             ],
             [
              0.1111111111111111,
              "#46039f"
             ],
             [
              0.2222222222222222,
              "#7201a8"
             ],
             [
              0.3333333333333333,
              "#9c179e"
             ],
             [
              0.4444444444444444,
              "#bd3786"
             ],
             [
              0.5555555555555556,
              "#d8576b"
             ],
             [
              0.6666666666666666,
              "#ed7953"
             ],
             [
              0.7777777777777778,
              "#fb9f3a"
             ],
             [
              0.8888888888888888,
              "#fdca26"
             ],
             [
              1,
              "#f0f921"
             ]
            ],
            "type": "heatmapgl"
           }
          ],
          "histogram": [
           {
            "marker": {
             "pattern": {
              "fillmode": "overlay",
              "size": 10,
              "solidity": 0.2
             }
            },
            "type": "histogram"
           }
          ],
          "histogram2d": [
           {
            "colorbar": {
             "outlinewidth": 0,
             "ticks": ""
            },
            "colorscale": [
             [
              0,
              "#0d0887"
             ],
             [
              0.1111111111111111,
              "#46039f"
             ],
             [
              0.2222222222222222,
              "#7201a8"
             ],
             [
              0.3333333333333333,
              "#9c179e"
             ],
             [
              0.4444444444444444,
              "#bd3786"
             ],
             [
              0.5555555555555556,
              "#d8576b"
             ],
             [
              0.6666666666666666,
              "#ed7953"
             ],
             [
              0.7777777777777778,
              "#fb9f3a"
             ],
             [
              0.8888888888888888,
              "#fdca26"
             ],
             [
              1,
              "#f0f921"
             ]
            ],
            "type": "histogram2d"
           }
          ],
          "histogram2dcontour": [
           {
            "colorbar": {
             "outlinewidth": 0,
             "ticks": ""
            },
            "colorscale": [
             [
              0,
              "#0d0887"
             ],
             [
              0.1111111111111111,
              "#46039f"
             ],
             [
              0.2222222222222222,
              "#7201a8"
             ],
             [
              0.3333333333333333,
              "#9c179e"
             ],
             [
              0.4444444444444444,
              "#bd3786"
             ],
             [
              0.5555555555555556,
              "#d8576b"
             ],
             [
              0.6666666666666666,
              "#ed7953"
             ],
             [
              0.7777777777777778,
              "#fb9f3a"
             ],
             [
              0.8888888888888888,
              "#fdca26"
             ],
             [
              1,
              "#f0f921"
             ]
            ],
            "type": "histogram2dcontour"
           }
          ],
          "mesh3d": [
           {
            "colorbar": {
             "outlinewidth": 0,
             "ticks": ""
            },
            "type": "mesh3d"
           }
          ],
          "parcoords": [
           {
            "line": {
             "colorbar": {
              "outlinewidth": 0,
              "ticks": ""
             }
            },
            "type": "parcoords"
           }
          ],
          "pie": [
           {
            "automargin": true,
            "type": "pie"
           }
          ],
          "scatter": [
           {
            "fillpattern": {
             "fillmode": "overlay",
             "size": 10,
             "solidity": 0.2
            },
            "type": "scatter"
           }
          ],
          "scatter3d": [
           {
            "line": {
             "colorbar": {
              "outlinewidth": 0,
              "ticks": ""
             }
            },
            "marker": {
             "colorbar": {
              "outlinewidth": 0,
              "ticks": ""
             }
            },
            "type": "scatter3d"
           }
          ],
          "scattercarpet": [
           {
            "marker": {
             "colorbar": {
              "outlinewidth": 0,
              "ticks": ""
             }
            },
            "type": "scattercarpet"
           }
          ],
          "scattergeo": [
           {
            "marker": {
             "colorbar": {
              "outlinewidth": 0,
              "ticks": ""
             }
            },
            "type": "scattergeo"
           }
          ],
          "scattergl": [
           {
            "marker": {
             "colorbar": {
              "outlinewidth": 0,
              "ticks": ""
             }
            },
            "type": "scattergl"
           }
          ],
          "scattermapbox": [
           {
            "marker": {
             "colorbar": {
              "outlinewidth": 0,
              "ticks": ""
             }
            },
            "type": "scattermapbox"
           }
          ],
          "scatterpolar": [
           {
            "marker": {
             "colorbar": {
              "outlinewidth": 0,
              "ticks": ""
             }
            },
            "type": "scatterpolar"
           }
          ],
          "scatterpolargl": [
           {
            "marker": {
             "colorbar": {
              "outlinewidth": 0,
              "ticks": ""
             }
            },
            "type": "scatterpolargl"
           }
          ],
          "scatterternary": [
           {
            "marker": {
             "colorbar": {
              "outlinewidth": 0,
              "ticks": ""
             }
            },
            "type": "scatterternary"
           }
          ],
          "surface": [
           {
            "colorbar": {
             "outlinewidth": 0,
             "ticks": ""
            },
            "colorscale": [
             [
              0,
              "#0d0887"
             ],
             [
              0.1111111111111111,
              "#46039f"
             ],
             [
              0.2222222222222222,
              "#7201a8"
             ],
             [
              0.3333333333333333,
              "#9c179e"
             ],
             [
              0.4444444444444444,
              "#bd3786"
             ],
             [
              0.5555555555555556,
              "#d8576b"
             ],
             [
              0.6666666666666666,
              "#ed7953"
             ],
             [
              0.7777777777777778,
              "#fb9f3a"
             ],
             [
              0.8888888888888888,
              "#fdca26"
             ],
             [
              1,
              "#f0f921"
             ]
            ],
            "type": "surface"
           }
          ],
          "table": [
           {
            "cells": {
             "fill": {
              "color": "#EBF0F8"
             },
             "line": {
              "color": "white"
             }
            },
            "header": {
             "fill": {
              "color": "#C8D4E3"
             },
             "line": {
              "color": "white"
             }
            },
            "type": "table"
           }
          ]
         },
         "layout": {
          "annotationdefaults": {
           "arrowcolor": "#2a3f5f",
           "arrowhead": 0,
           "arrowwidth": 1
          },
          "autotypenumbers": "strict",
          "coloraxis": {
           "colorbar": {
            "outlinewidth": 0,
            "ticks": ""
           }
          },
          "colorscale": {
           "diverging": [
            [
             0,
             "#8e0152"
            ],
            [
             0.1,
             "#c51b7d"
            ],
            [
             0.2,
             "#de77ae"
            ],
            [
             0.3,
             "#f1b6da"
            ],
            [
             0.4,
             "#fde0ef"
            ],
            [
             0.5,
             "#f7f7f7"
            ],
            [
             0.6,
             "#e6f5d0"
            ],
            [
             0.7,
             "#b8e186"
            ],
            [
             0.8,
             "#7fbc41"
            ],
            [
             0.9,
             "#4d9221"
            ],
            [
             1,
             "#276419"
            ]
           ],
           "sequential": [
            [
             0,
             "#0d0887"
            ],
            [
             0.1111111111111111,
             "#46039f"
            ],
            [
             0.2222222222222222,
             "#7201a8"
            ],
            [
             0.3333333333333333,
             "#9c179e"
            ],
            [
             0.4444444444444444,
             "#bd3786"
            ],
            [
             0.5555555555555556,
             "#d8576b"
            ],
            [
             0.6666666666666666,
             "#ed7953"
            ],
            [
             0.7777777777777778,
             "#fb9f3a"
            ],
            [
             0.8888888888888888,
             "#fdca26"
            ],
            [
             1,
             "#f0f921"
            ]
           ],
           "sequentialminus": [
            [
             0,
             "#0d0887"
            ],
            [
             0.1111111111111111,
             "#46039f"
            ],
            [
             0.2222222222222222,
             "#7201a8"
            ],
            [
             0.3333333333333333,
             "#9c179e"
            ],
            [
             0.4444444444444444,
             "#bd3786"
            ],
            [
             0.5555555555555556,
             "#d8576b"
            ],
            [
             0.6666666666666666,
             "#ed7953"
            ],
            [
             0.7777777777777778,
             "#fb9f3a"
            ],
            [
             0.8888888888888888,
             "#fdca26"
            ],
            [
             1,
             "#f0f921"
            ]
           ]
          },
          "colorway": [
           "#636efa",
           "#EF553B",
           "#00cc96",
           "#ab63fa",
           "#FFA15A",
           "#19d3f3",
           "#FF6692",
           "#B6E880",
           "#FF97FF",
           "#FECB52"
          ],
          "font": {
           "color": "#2a3f5f"
          },
          "geo": {
           "bgcolor": "white",
           "lakecolor": "white",
           "landcolor": "#E5ECF6",
           "showlakes": true,
           "showland": true,
           "subunitcolor": "white"
          },
          "hoverlabel": {
           "align": "left"
          },
          "hovermode": "closest",
          "mapbox": {
           "style": "light"
          },
          "paper_bgcolor": "white",
          "plot_bgcolor": "#E5ECF6",
          "polar": {
           "angularaxis": {
            "gridcolor": "white",
            "linecolor": "white",
            "ticks": ""
           },
           "bgcolor": "#E5ECF6",
           "radialaxis": {
            "gridcolor": "white",
            "linecolor": "white",
            "ticks": ""
           }
          },
          "scene": {
           "xaxis": {
            "backgroundcolor": "#E5ECF6",
            "gridcolor": "white",
            "gridwidth": 2,
            "linecolor": "white",
            "showbackground": true,
            "ticks": "",
            "zerolinecolor": "white"
           },
           "yaxis": {
            "backgroundcolor": "#E5ECF6",
            "gridcolor": "white",
            "gridwidth": 2,
            "linecolor": "white",
            "showbackground": true,
            "ticks": "",
            "zerolinecolor": "white"
           },
           "zaxis": {
            "backgroundcolor": "#E5ECF6",
            "gridcolor": "white",
            "gridwidth": 2,
            "linecolor": "white",
            "showbackground": true,
            "ticks": "",
            "zerolinecolor": "white"
           }
          },
          "shapedefaults": {
           "line": {
            "color": "#2a3f5f"
           }
          },
          "ternary": {
           "aaxis": {
            "gridcolor": "white",
            "linecolor": "white",
            "ticks": ""
           },
           "baxis": {
            "gridcolor": "white",
            "linecolor": "white",
            "ticks": ""
           },
           "bgcolor": "#E5ECF6",
           "caxis": {
            "gridcolor": "white",
            "linecolor": "white",
            "ticks": ""
           }
          },
          "title": {
           "x": 0.05
          },
          "xaxis": {
           "automargin": true,
           "gridcolor": "white",
           "linecolor": "white",
           "ticks": "",
           "title": {
            "standoff": 15
           },
           "zerolinecolor": "white",
           "zerolinewidth": 2
          },
          "yaxis": {
           "automargin": true,
           "gridcolor": "white",
           "linecolor": "white",
           "ticks": "",
           "title": {
            "standoff": 15
           },
           "zerolinecolor": "white",
           "zerolinewidth": 2
          }
         }
        },
        "title": {
         "text": "Modelo de K-Means con un k=7"
        },
        "width": 900
       }
      },
      "image/png": "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",
      "text/html": [
       "<div>                            <div id=\"ae668694-7f1a-4063-9eb1-58284eae4496\" class=\"plotly-graph-div\" style=\"height:850px; width:900px;\"></div>            <script type=\"text/javascript\">                require([\"plotly\"], function(Plotly) {                    window.PLOTLYENV=window.PLOTLYENV || {};                                    if (document.getElementById(\"ae668694-7f1a-4063-9eb1-58284eae4496\")) {                    Plotly.newPlot(                        \"ae668694-7f1a-4063-9eb1-58284eae4496\",                        [{\"hovertemplate\":\"Grupo=%{marker.color}\\u003cbr\\u003eAnnual Income (k$)=%{x}\\u003cbr\\u003eSpending Score (1-100)=%{y}\\u003cbr\\u003eAge=%{z}\\u003cextra\\u003e\\u003c\\u002fextra\\u003e\",\"legendgroup\":\"6\",\"marker\":{\"color\":[6,6,6,6,6,6,6,6,6,6,6,6,6,6,6,6,6,6,6,6],\"coloraxis\":\"coloraxis\",\"opacity\":0.7,\"symbol\":\"circle\"},\"mode\":\"markers\",\"name\":\"6\",\"scene\":\"scene\",\"showlegend\":true,\"x\":[17,18,19,19,20,20,21,23,24,25,28,28,29,30,33,33,34,37,39,39],\"y\":[40,6,3,14,15,13,35,29,35,5,14,32,31,4,4,14,17,26,36,28],\"z\":[31,35,64,67,58,37,35,52,35,46,54,45,40,60,53,49,42,36,48,49],\"type\":\"scatter3d\"},{\"hovertemplate\":\"Grupo=%{marker.color}\\u003cbr\\u003eAnnual Income (k$)=%{x}\\u003cbr\\u003eSpending Score (1-100)=%{y}\\u003cbr\\u003eAge=%{z}\\u003cextra\\u003e\\u003c\\u002fextra\\u003e\",\"legendgroup\":\"5\",\"marker\":{\"color\":[5,5,5,5,5,5,5,5,5,5,5,5,5,5,5,5,5,5,5,5],\"coloraxis\":\"coloraxis\",\"opacity\":0.7,\"symbol\":\"circle\"},\"mode\":\"markers\",\"name\":\"5\",\"scene\":\"scene\",\"showlegend\":true,\"x\":[17,18,19,19,20,20,21,23,24,25,28,28,29,30,33,33,34,37,38,39],\"y\":[76,94,72,99,77,79,66,98,73,73,82,61,87,73,92,81,73,75,92,65],\"z\":[22,23,30,35,24,22,20,35,25,31,29,35,23,21,18,21,30,20,24,24],\"type\":\"scatter3d\"},{\"hovertemplate\":\"Grupo=%{marker.color}\\u003cbr\\u003eAnnual Income (k$)=%{x}\\u003cbr\\u003eSpending Score (1-100)=%{y}\\u003cbr\\u003eAge=%{z}\\u003cextra\\u003e\\u003c\\u002fextra\\u003e\",\"legendgroup\":\"0\",\"marker\":{\"color\":[0,0,0,0,0,0,0,0,0,0,0,0,0,0,0,0,0,0,0,0,0,0,0,0,0,0,0,0,0,0,0,0,0,0,0,0,0,0,0,0,0,0,0,0],\"coloraxis\":\"coloraxis\",\"opacity\":0.7,\"symbol\":\"circle\"},\"mode\":\"markers\",\"name\":\"0\",\"scene\":\"scene\",\"showlegend\":true,\"x\":[38,40,42,43,43,43,44,44,46,46,47,47,48,48,48,49,49,50,50,54,54,54,54,54,54,54,57,58,59,60,60,61,62,62,62,63,63,63,63,63,65,65,67,67],\"y\":[35,55,52,60,45,41,50,46,46,56,52,59,51,50,48,55,42,49,56,47,53,42,51,41,44,46,58,46,55,49,47,42,48,59,56,50,46,43,48,52,43,59,43,57],\"z\":[65,50,49,59,50,47,51,69,53,70,67,54,63,43,68,70,47,60,60,59,45,49,57,67,46,48,55,50,68,48,47,48,49,67,49,66,54,68,66,65,63,49,51,50],\"type\":\"scatter3d\"},{\"hovertemplate\":\"Grupo=%{marker.color}\\u003cbr\\u003eAnnual Income (k$)=%{x}\\u003cbr\\u003eSpending Score (1-100)=%{y}\\u003cbr\\u003eAge=%{z}\\u003cextra\\u003e\\u003c\\u002fextra\\u003e\",\"legendgroup\":\"2\",\"marker\":{\"color\":[2,2,2,2,2,2,2,2,2,2,2,2,2,2,2,2,2,2,2,2,2,2,2,2,2,2,2,2,2,2,2,2,2,2,2,2,2],\"coloraxis\":\"coloraxis\",\"opacity\":0.7,\"symbol\":\"circle\"},\"mode\":\"markers\",\"name\":\"2\",\"scene\":\"scene\",\"showlegend\":true,\"x\":[39,40,40,40,42,43,46,46,48,48,48,54,54,54,54,54,57,58,59,60,60,60,60,61,62,62,62,63,64,64,65,65,67,67,69,72,76],\"y\":[61,47,42,42,60,54,51,55,59,59,47,54,48,52,55,57,55,60,41,40,42,52,50,49,41,55,42,54,42,46,48,50,56,40,58,34,40],\"z\":[31,27,29,31,33,31,27,19,18,19,32,26,40,23,38,21,22,34,18,40,32,24,27,20,23,26,21,19,38,19,18,19,27,38,40,25,28],\"type\":\"scatter3d\"},{\"hovertemplate\":\"Grupo=%{marker.color}\\u003cbr\\u003eAnnual Income (k$)=%{x}\\u003cbr\\u003eSpending Score (1-100)=%{y}\\u003cbr\\u003eAge=%{z}\\u003cextra\\u003e\\u003c\\u002fextra\\u003e\",\"legendgroup\":\"1\",\"marker\":{\"color\":[1,1,1,1,1,1,1,1,1,1,1,1,1,1,1,1,1,1,1,1,1,1,1,1,1,1,1,1,1,1,1,1,1,1,1,1,1,1],\"coloraxis\":\"coloraxis\",\"opacity\":0.7,\"symbol\":\"circle\"},\"mode\":\"markers\",\"name\":\"1\",\"scene\":\"scene\",\"showlegend\":true,\"x\":[69,70,71,71,71,72,73,73,74,75,76,77,77,78,78,78,78,78,78,79,81,85,86,87,87,87,88,88,93,97,98,99,101,103,103,113,120,126],\"y\":[91,77,95,75,75,71,88,73,72,93,87,97,74,90,88,76,89,78,73,83,93,75,95,63,75,92,86,69,90,86,88,97,68,85,69,91,79,74],\"z\":[39,31,40,38,39,31,29,32,35,32,32,28,32,34,39,38,27,30,30,29,31,36,33,32,28,36,30,27,35,32,29,30,28,36,32,38,35,32],\"type\":\"scatter3d\"},{\"hovertemplate\":\"Grupo=%{marker.color}\\u003cbr\\u003eAnnual Income (k$)=%{x}\\u003cbr\\u003eSpending Score (1-100)=%{y}\\u003cbr\\u003eAge=%{z}\\u003cextra\\u003e\\u003c\\u002fextra\\u003e\",\"legendgroup\":\"4\",\"marker\":{\"color\":[4,4,4,4,4,4,4,4,4,4,4,4,4,4,4,4,4,4,4,4,4,4,4,4,4],\"coloraxis\":\"coloraxis\",\"opacity\":0.7,\"symbol\":\"circle\"},\"mode\":\"markers\",\"name\":\"4\",\"scene\":\"scene\",\"showlegend\":true,\"x\":[70,71,71,71,73,73,74,75,77,77,78,78,78,78,78,78,79,81,85,86,87,87,87,88,88],\"y\":[29,35,11,9,5,7,10,5,12,36,22,17,20,16,1,1,35,5,26,20,27,13,10,13,15],\"z\":[23,43,59,47,20,44,19,57,25,48,34,43,44,47,37,34,56,19,50,42,36,40,36,52,58],\"type\":\"scatter3d\"},{\"hovertemplate\":\"Grupo=%{marker.color}\\u003cbr\\u003eAnnual Income (k$)=%{x}\\u003cbr\\u003eSpending Score (1-100)=%{y}\\u003cbr\\u003eAge=%{z}\\u003cextra\\u003e\\u003c\\u002fextra\\u003e\",\"legendgroup\":\"3\",\"marker\":{\"color\":[3,3,3,3,3,3,3,3,3,3],\"coloraxis\":\"coloraxis\",\"opacity\":0.7,\"symbol\":\"circle\"},\"mode\":\"markers\",\"name\":\"3\",\"scene\":\"scene\",\"showlegend\":true,\"x\":[93,97,98,99,101,103,103,113,120,126],\"y\":[14,32,15,39,24,17,23,8,16,28],\"z\":[59,37,46,41,54,41,34,33,47,45],\"type\":\"scatter3d\"}],                        {\"template\":{\"data\":{\"histogram2dcontour\":[{\"type\":\"histogram2dcontour\",\"colorbar\":{\"outlinewidth\":0,\"ticks\":\"\"},\"colorscale\":[[0.0,\"#0d0887\"],[0.1111111111111111,\"#46039f\"],[0.2222222222222222,\"#7201a8\"],[0.3333333333333333,\"#9c179e\"],[0.4444444444444444,\"#bd3786\"],[0.5555555555555556,\"#d8576b\"],[0.6666666666666666,\"#ed7953\"],[0.7777777777777778,\"#fb9f3a\"],[0.8888888888888888,\"#fdca26\"],[1.0,\"#f0f921\"]]}],\"choropleth\":[{\"type\":\"choropleth\",\"colorbar\":{\"outlinewidth\":0,\"ticks\":\"\"}}],\"histogram2d\":[{\"type\":\"histogram2d\",\"colorbar\":{\"outlinewidth\":0,\"ticks\":\"\"},\"colorscale\":[[0.0,\"#0d0887\"],[0.1111111111111111,\"#46039f\"],[0.2222222222222222,\"#7201a8\"],[0.3333333333333333,\"#9c179e\"],[0.4444444444444444,\"#bd3786\"],[0.5555555555555556,\"#d8576b\"],[0.6666666666666666,\"#ed7953\"],[0.7777777777777778,\"#fb9f3a\"],[0.8888888888888888,\"#fdca26\"],[1.0,\"#f0f921\"]]}],\"heatmap\":[{\"type\":\"heatmap\",\"colorbar\":{\"outlinewidth\":0,\"ticks\":\"\"},\"colorscale\":[[0.0,\"#0d0887\"],[0.1111111111111111,\"#46039f\"],[0.2222222222222222,\"#7201a8\"],[0.3333333333333333,\"#9c179e\"],[0.4444444444444444,\"#bd3786\"],[0.5555555555555556,\"#d8576b\"],[0.6666666666666666,\"#ed7953\"],[0.7777777777777778,\"#fb9f3a\"],[0.8888888888888888,\"#fdca26\"],[1.0,\"#f0f921\"]]}],\"heatmapgl\":[{\"type\":\"heatmapgl\",\"colorbar\":{\"outlinewidth\":0,\"ticks\":\"\"},\"colorscale\":[[0.0,\"#0d0887\"],[0.1111111111111111,\"#46039f\"],[0.2222222222222222,\"#7201a8\"],[0.3333333333333333,\"#9c179e\"],[0.4444444444444444,\"#bd3786\"],[0.5555555555555556,\"#d8576b\"],[0.6666666666666666,\"#ed7953\"],[0.7777777777777778,\"#fb9f3a\"],[0.8888888888888888,\"#fdca26\"],[1.0,\"#f0f921\"]]}],\"contourcarpet\":[{\"type\":\"contourcarpet\",\"colorbar\":{\"outlinewidth\":0,\"ticks\":\"\"}}],\"contour\":[{\"type\":\"contour\",\"colorbar\":{\"outlinewidth\":0,\"ticks\":\"\"},\"colorscale\":[[0.0,\"#0d0887\"],[0.1111111111111111,\"#46039f\"],[0.2222222222222222,\"#7201a8\"],[0.3333333333333333,\"#9c179e\"],[0.4444444444444444,\"#bd3786\"],[0.5555555555555556,\"#d8576b\"],[0.6666666666666666,\"#ed7953\"],[0.7777777777777778,\"#fb9f3a\"],[0.8888888888888888,\"#fdca26\"],[1.0,\"#f0f921\"]]}],\"surface\":[{\"type\":\"surface\",\"colorbar\":{\"outlinewidth\":0,\"ticks\":\"\"},\"colorscale\":[[0.0,\"#0d0887\"],[0.1111111111111111,\"#46039f\"],[0.2222222222222222,\"#7201a8\"],[0.3333333333333333,\"#9c179e\"],[0.4444444444444444,\"#bd3786\"],[0.5555555555555556,\"#d8576b\"],[0.6666666666666666,\"#ed7953\"],[0.7777777777777778,\"#fb9f3a\"],[0.8888888888888888,\"#fdca26\"],[1.0,\"#f0f921\"]]}],\"mesh3d\":[{\"type\":\"mesh3d\",\"colorbar\":{\"outlinewidth\":0,\"ticks\":\"\"}}],\"scatter\":[{\"fillpattern\":{\"fillmode\":\"overlay\",\"size\":10,\"solidity\":0.2},\"type\":\"scatter\"}],\"parcoords\":[{\"type\":\"parcoords\",\"line\":{\"colorbar\":{\"outlinewidth\":0,\"ticks\":\"\"}}}],\"scatterpolargl\":[{\"type\":\"scatterpolargl\",\"marker\":{\"colorbar\":{\"outlinewidth\":0,\"ticks\":\"\"}}}],\"bar\":[{\"error_x\":{\"color\":\"#2a3f5f\"},\"error_y\":{\"color\":\"#2a3f5f\"},\"marker\":{\"line\":{\"color\":\"#E5ECF6\",\"width\":0.5},\"pattern\":{\"fillmode\":\"overlay\",\"size\":10,\"solidity\":0.2}},\"type\":\"bar\"}],\"scattergeo\":[{\"type\":\"scattergeo\",\"marker\":{\"colorbar\":{\"outlinewidth\":0,\"ticks\":\"\"}}}],\"scatterpolar\":[{\"type\":\"scatterpolar\",\"marker\":{\"colorbar\":{\"outlinewidth\":0,\"ticks\":\"\"}}}],\"histogram\":[{\"marker\":{\"pattern\":{\"fillmode\":\"overlay\",\"size\":10,\"solidity\":0.2}},\"type\":\"histogram\"}],\"scattergl\":[{\"type\":\"scattergl\",\"marker\":{\"colorbar\":{\"outlinewidth\":0,\"ticks\":\"\"}}}],\"scatter3d\":[{\"type\":\"scatter3d\",\"line\":{\"colorbar\":{\"outlinewidth\":0,\"ticks\":\"\"}},\"marker\":{\"colorbar\":{\"outlinewidth\":0,\"ticks\":\"\"}}}],\"scattermapbox\":[{\"type\":\"scattermapbox\",\"marker\":{\"colorbar\":{\"outlinewidth\":0,\"ticks\":\"\"}}}],\"scatterternary\":[{\"type\":\"scatterternary\",\"marker\":{\"colorbar\":{\"outlinewidth\":0,\"ticks\":\"\"}}}],\"scattercarpet\":[{\"type\":\"scattercarpet\",\"marker\":{\"colorbar\":{\"outlinewidth\":0,\"ticks\":\"\"}}}],\"carpet\":[{\"aaxis\":{\"endlinecolor\":\"#2a3f5f\",\"gridcolor\":\"white\",\"linecolor\":\"white\",\"minorgridcolor\":\"white\",\"startlinecolor\":\"#2a3f5f\"},\"baxis\":{\"endlinecolor\":\"#2a3f5f\",\"gridcolor\":\"white\",\"linecolor\":\"white\",\"minorgridcolor\":\"white\",\"startlinecolor\":\"#2a3f5f\"},\"type\":\"carpet\"}],\"table\":[{\"cells\":{\"fill\":{\"color\":\"#EBF0F8\"},\"line\":{\"color\":\"white\"}},\"header\":{\"fill\":{\"color\":\"#C8D4E3\"},\"line\":{\"color\":\"white\"}},\"type\":\"table\"}],\"barpolar\":[{\"marker\":{\"line\":{\"color\":\"#E5ECF6\",\"width\":0.5},\"pattern\":{\"fillmode\":\"overlay\",\"size\":10,\"solidity\":0.2}},\"type\":\"barpolar\"}],\"pie\":[{\"automargin\":true,\"type\":\"pie\"}]},\"layout\":{\"autotypenumbers\":\"strict\",\"colorway\":[\"#636efa\",\"#EF553B\",\"#00cc96\",\"#ab63fa\",\"#FFA15A\",\"#19d3f3\",\"#FF6692\",\"#B6E880\",\"#FF97FF\",\"#FECB52\"],\"font\":{\"color\":\"#2a3f5f\"},\"hovermode\":\"closest\",\"hoverlabel\":{\"align\":\"left\"},\"paper_bgcolor\":\"white\",\"plot_bgcolor\":\"#E5ECF6\",\"polar\":{\"bgcolor\":\"#E5ECF6\",\"angularaxis\":{\"gridcolor\":\"white\",\"linecolor\":\"white\",\"ticks\":\"\"},\"radialaxis\":{\"gridcolor\":\"white\",\"linecolor\":\"white\",\"ticks\":\"\"}},\"ternary\":{\"bgcolor\":\"#E5ECF6\",\"aaxis\":{\"gridcolor\":\"white\",\"linecolor\":\"white\",\"ticks\":\"\"},\"baxis\":{\"gridcolor\":\"white\",\"linecolor\":\"white\",\"ticks\":\"\"},\"caxis\":{\"gridcolor\":\"white\",\"linecolor\":\"white\",\"ticks\":\"\"}},\"coloraxis\":{\"colorbar\":{\"outlinewidth\":0,\"ticks\":\"\"}},\"colorscale\":{\"sequential\":[[0.0,\"#0d0887\"],[0.1111111111111111,\"#46039f\"],[0.2222222222222222,\"#7201a8\"],[0.3333333333333333,\"#9c179e\"],[0.4444444444444444,\"#bd3786\"],[0.5555555555555556,\"#d8576b\"],[0.6666666666666666,\"#ed7953\"],[0.7777777777777778,\"#fb9f3a\"],[0.8888888888888888,\"#fdca26\"],[1.0,\"#f0f921\"]],\"sequentialminus\":[[0.0,\"#0d0887\"],[0.1111111111111111,\"#46039f\"],[0.2222222222222222,\"#7201a8\"],[0.3333333333333333,\"#9c179e\"],[0.4444444444444444,\"#bd3786\"],[0.5555555555555556,\"#d8576b\"],[0.6666666666666666,\"#ed7953\"],[0.7777777777777778,\"#fb9f3a\"],[0.8888888888888888,\"#fdca26\"],[1.0,\"#f0f921\"]],\"diverging\":[[0,\"#8e0152\"],[0.1,\"#c51b7d\"],[0.2,\"#de77ae\"],[0.3,\"#f1b6da\"],[0.4,\"#fde0ef\"],[0.5,\"#f7f7f7\"],[0.6,\"#e6f5d0\"],[0.7,\"#b8e186\"],[0.8,\"#7fbc41\"],[0.9,\"#4d9221\"],[1,\"#276419\"]]},\"xaxis\":{\"gridcolor\":\"white\",\"linecolor\":\"white\",\"ticks\":\"\",\"title\":{\"standoff\":15},\"zerolinecolor\":\"white\",\"automargin\":true,\"zerolinewidth\":2},\"yaxis\":{\"gridcolor\":\"white\",\"linecolor\":\"white\",\"ticks\":\"\",\"title\":{\"standoff\":15},\"zerolinecolor\":\"white\",\"automargin\":true,\"zerolinewidth\":2},\"scene\":{\"xaxis\":{\"backgroundcolor\":\"#E5ECF6\",\"gridcolor\":\"white\",\"linecolor\":\"white\",\"showbackground\":true,\"ticks\":\"\",\"zerolinecolor\":\"white\",\"gridwidth\":2},\"yaxis\":{\"backgroundcolor\":\"#E5ECF6\",\"gridcolor\":\"white\",\"linecolor\":\"white\",\"showbackground\":true,\"ticks\":\"\",\"zerolinecolor\":\"white\",\"gridwidth\":2},\"zaxis\":{\"backgroundcolor\":\"#E5ECF6\",\"gridcolor\":\"white\",\"linecolor\":\"white\",\"showbackground\":true,\"ticks\":\"\",\"zerolinecolor\":\"white\",\"gridwidth\":2}},\"shapedefaults\":{\"line\":{\"color\":\"#2a3f5f\"}},\"annotationdefaults\":{\"arrowcolor\":\"#2a3f5f\",\"arrowhead\":0,\"arrowwidth\":1},\"geo\":{\"bgcolor\":\"white\",\"landcolor\":\"#E5ECF6\",\"subunitcolor\":\"white\",\"showland\":true,\"showlakes\":true,\"lakecolor\":\"white\"},\"title\":{\"x\":0.05},\"mapbox\":{\"style\":\"light\"}}},\"scene\":{\"domain\":{\"x\":[0.0,1.0],\"y\":[0.0,1.0]},\"xaxis\":{\"title\":{\"text\":\"Annual Income (k$)\"}},\"yaxis\":{\"title\":{\"text\":\"Spending Score (1-100)\"}},\"zaxis\":{\"title\":{\"text\":\"Age\"}}},\"coloraxis\":{\"colorbar\":{\"title\":{\"text\":\"Grupo\"}},\"colorscale\":[[0.0,\"#0d0887\"],[0.1111111111111111,\"#46039f\"],[0.2222222222222222,\"#7201a8\"],[0.3333333333333333,\"#9c179e\"],[0.4444444444444444,\"#bd3786\"],[0.5555555555555556,\"#d8576b\"],[0.6666666666666666,\"#ed7953\"],[0.7777777777777778,\"#fb9f3a\"],[0.8888888888888888,\"#fdca26\"],[1.0,\"#f0f921\"]]},\"legend\":{\"title\":{\"text\":\"Grupo\"},\"tracegroupgap\":0},\"title\":{\"text\":\"Modelo de K-Means con un k=7\"},\"height\":850,\"width\":900,\"showlegend\":false},                        {\"responsive\": true}                    ).then(function(){\n",
       "                            \n",
       "var gd = document.getElementById('ae668694-7f1a-4063-9eb1-58284eae4496');\n",
       "var x = new MutationObserver(function (mutations, observer) {{\n",
       "        var display = window.getComputedStyle(gd).display;\n",
       "        if (!display || display === 'none') {{\n",
       "            console.log([gd, 'removed!']);\n",
       "            Plotly.purge(gd);\n",
       "            observer.disconnect();\n",
       "        }}\n",
       "}});\n",
       "\n",
       "// Listen for the removal of the full notebook cells\n",
       "var notebookContainer = gd.closest('#notebook-container');\n",
       "if (notebookContainer) {{\n",
       "    x.observe(notebookContainer, {childList: true});\n",
       "}}\n",
       "\n",
       "// Listen for the clearing of the current output cell\n",
       "var outputEl = gd.closest('.output');\n",
       "if (outputEl) {{\n",
       "    x.observe(outputEl, {childList: true});\n",
       "}}\n",
       "\n",
       "                        })                };                });            </script>        </div>"
      ]
     },
     "metadata": {},
     "output_type": "display_data"
    }
   ],
   "source": [
    "Grafica_3D = px.scatter_3d(Datos, x='Annual Income (k$)', y='Spending Score (1-100)', z='Age', color='Grupo', symbol='Grupo', symbol_map={0: 'circle', 1: 'circle', 2: 'circle', 3: 'circle', 4: 'circle', 5: 'circle', 6: 'circle', 7: 'circle'}, opacity=0.7, width=900, height=850, title=f'Modelo de K-Means con un k={7}', labels={'label': 'Cluster'}, color_discrete_map={})\n",
    "Grafica_3D.update_layout(showlegend=False)"
   ]
  },
  {
   "cell_type": "markdown",
   "id": "1f9cb034-e284-45f5-a29c-be7c375a92aa",
   "metadata": {},
   "source": [
    "7. Interpretar, analizar y documentar los resultados obtenidos."
   ]
  },
  {
   "cell_type": "markdown",
   "id": "0819a2a3-2259-45bb-b4dc-0612edfb45db",
   "metadata": {},
   "source": [
    "Coeficiente de Silhouette: Es de aproximadamente 0,43, no se acerca a 1, lo que indica que algunas muestras pudieron ser asignadas a grupos equivocados.\n",
    "\n",
    "Índice de Calinski-Harabasz: Es de 161-65, es un valor alto lo que indica que que no hay una buena separación entre los grupos, por lo tanto hay mas dispersión entre los mismos
    "Indice Davies Bouldin: Es de 0,85 es una puntuación razonable, lo que indica un nivel moderado de similitud entre cada grupo y el más similar. Una puntuación más baja es generalmente mejor, ya que indica menos similitud entre los clústeres y, por lo tanto, nuestra puntuación aquí sugiere una separación decente entre los grupos"
   ]
  },
  {
   "cell_type": "code",
   "execution_count": null,
   "id": "37522a9b-dcbf-4f50-b3e4-6dfa29343560",
   "metadata": {},
   "outputs": [],
   "source": []
  }
 ],
 "metadata": {
  "kernelspec": {
   "display_name": "Python 3 (ipykernel)",
   "language": "python",
   "name": "python3"
  },
  "language_info": {
   "codemirror_mode": {
    "name": "ipython",
    "version": 3
   },
   "file_extension": ".py",
   "mimetype": "text/x-python",
   "name": "python",
   "nbconvert_exporter": "python",
   "pygments_lexer": "ipython3",
   "version": "3.12.4"
  }
 },
 "nbformat": 4,
 "nbformat_minor": 5
}
